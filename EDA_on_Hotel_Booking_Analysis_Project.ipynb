{
  "nbformat": 4,
  "nbformat_minor": 0,
  "metadata": {
    "colab": {
      "provenance": [],
      "include_colab_link": true
    },
    "kernelspec": {
      "name": "python3",
      "display_name": "Python 3"
    },
    "language_info": {
      "name": "python"
    },
    "gpuClass": "standard"
  },
  "cells": [
    {
      "cell_type": "markdown",
      "metadata": {
        "id": "view-in-github",
        "colab_type": "text"
      },
      "source": [
        "<a href=\"https://colab.research.google.com/github/ShubhamDigrase16/EDA_Capstone_Project_Hotel_Booking_Analysis/blob/main/EDA_on_Hotel_Booking_Analysis_Project.ipynb\" target=\"_parent\"><img src=\"https://colab.research.google.com/assets/colab-badge.svg\" alt=\"Open In Colab\"/></a>"
      ]
    },
    {
      "cell_type": "markdown",
      "source": [
        "###**Have you ever wondered when the best time of year to book a hotel room is? Or the optimal length of stay in order to get the best daily rate? What if you wanted to predict whether or not a hotel was likely to receive a disproportionately high number of special requests? This hotel booking dataset can help you explore those questions!**\n",
        "\n",
        "###**This data set contains booking information for a city hotel and a resort hotel, and includes information such as when the booking was made, length of stay, the number of adults, children, and/or babies, and the number of available parking spaces, among other things. All personally identifying information has been removed from the data.**\n",
        "\n",
        "###**Explore and analyze the data to discover important factors that govern the bookings.**"
      ],
      "metadata": {
        "id": "cYcGe4oUHf24"
      }
    },
    {
      "cell_type": "markdown",
      "source": [
        "####![Project image.jpeg](data:image/jpeg;base64,/9j/4AAQSkZJRgABAQAAAQABAAD/2wCEAAkGBxMTEhUTExIVFhUXFx8YGBcVGB8dGhodGhcdGBodHR0aHSkgHSAlHh8dITEhJSktLi4uHSA0OTQtOCgtLisBCgoKDg0OGxAQGy0lHyUzLi0vLS0rLS0tLzgtLS0tLS8tKy0tLi0tLS0tLS0tLS0rLS0tLS0tLS0uLS0tLS0tLf/AABEIALcBEwMBIgACEQEDEQH/xAAcAAABBQEBAQAAAAAAAAAAAAAFAAMEBgcCAQj/xABOEAACAQIEAgUHCQMJBwMFAAABAgMAEQQSITEFQQYTIlFhBzJxgZGhsRQjQlJyssHR8CQzghVTYnOSorPh8SU1Q2N0tMIWNINkk6PS0//EABoBAAIDAQEAAAAAAAAAAAAAAAECAAMEBQb/xAAwEQACAgECBAMHBQEBAQAAAAAAAQIRAxIhBDFBUSIycRNhgZGhsfAUI8HR4VJCM//aAAwDAQACEQMRAD8As+IzKnYFz8B6qp8RlhkWRgWLXLeJbU+xuXoq08V4qI0utmY6Kosbm1xfUaDc67CqlwrjGIllaLEIMjtYtGjZQw5XB81iN78zrY147hoScZS2r3nppSVpPmE5ljnR5DKqMNWQg6a5dRuBtdrW1N/CldIMJJJNFBGLux28cwXX0a39F6s3GuGhGzRSXZDcNbYkEWN9GuAy3HcQbUujKI8jSNcOqlRfZU1zm++Y6C/dc1t4eWjxL5fYqyx1LSybg8JLESOvDAqQCRYm51c6aAIosb/W0OhAfjkZbSxAeMZNNcuZhrb6xBbTv7qtGHjM8lj5p5fVjU6D0t/ntaofSmMDEZQLDqF0G3nvUxzftEupJVQzw/8AEfdouaC4M6H0j4UbiOgrHxsbma8D8I1w3zStuZ+9aj+FFgD4UKwUe58Sf71F0FHDLYXLyop+M1kk+033jUdoiTU+dbyPb6zfeNcGBjsvr2H69VdBzSKVGyGF8akha6XCt3ge/wDKnEwp5sfhSOY6iyFxtbQN6V/xFoVgbfK31/nPjHRnj8QXDP8Aw7/aHfQrh4/a3/8Ak+9HWjG/2n8TPkX7i+AJ6TjsJof3svuaoPBz2/V/5LRbpYvzMX9dN98UK4Qe36vxFbuF5Ix8R5n+dAwovi8OO94/8SrfgeIxzs8YR43jbWzWB3Gljr6xzql4ufq54pNexlbTfssTXOG42yYhJ3sMz2ktoLMCCfVv6q29WZHyLgOLIMR8n6272v210v8AVuLakbaGp8spFsyHfde0Pz91ZhxLHSfK2Z3EhjfRhbtKGuuq6HTnVs6a420cM0cuVlcHKCDcONCR6CfbTWVlu4o18FIf+S/3W76B4Yf7Mg/rG+9LROXE9ZwwyfWw7n+61V/hWKdsGUIGSORcp5ksJWYH0ae2qsfNmnKvCgNjm+eT7NvZeq9xH97L9ofcFWLiH75Ps1X+Jj52T7Q+4KIkxzDfuF/rG+4lPw+cP1yqPhP3I+2fupUiA9pfX8KrlzDDkR4/Pb9czUlaYU/ON+udSBQT2CzoCnkWuEF6kKvealEPFIvRzof/AO4/+NvitB0QUc6HqPlP8DfEVTxK/al6FmF+NFwt4UqfpV5rSjsaio4qJWAzCwBudj6rXNx6jXUUC3jdQxAIytYHQr2iCdQug7r694oThorZr5rW1zX1PIi/frcDwqVj+JxNBEhlILyZLxsAwynnY6XNlO2hJ0ANmx45eVb7/dDSmubK6eMKZljViRlGYm2XNlQHLbvuCb/SHtJ8LQhmupsXJsNLjT4mvOGYVEtJMt5MRJ1rLbzIg14wR4kA27hRGXqxJ83myWuM3PvtoNOWvca35JRi6iun2MsE3vJlm4aFiTtG8jG7WFxfko02A0oH0jlzT3tb5m395zUqSYaZbeJIofjReVvCP8TXO4WcpZk2aMuKMYWhvh40PpHwo5ENqB8OHnekfCjkR2q7i14hsHlJeAXT2/GiSJp6qgYDzfb96isA0qnCugmZlakj7bfaP3jXRPdTjJ22+0fjXqAg/nWtssitiM6G+tdolPNHqSd66XQVXqH0gbpSv7K58V++KGcOA+USd+V/vR0Z6Ui+Fk/h/wARaF4GL9rf7L+50rXin+0/iZMkf3V8AN0rb5iP+vl+Kmg/Bz2/V+Iov0vFox/1EvwSg/B/PH65iulwjuKOfxHmZO4x54+zQ7iHmD7X4GiPGPPHoodj/MH2vwNb+rMb5ECFRc09i5XYJma+WyrfkBsL01Fua9k2HpolZrfDT/scf9NJ7s4qPgz/ALLh/rG+/LT/AA7/AHQP+mk/86Y4eL8LhAFz1jaDfz5Krx82acvliVjiH75PRQHin72T7S/dFG+K3Eqgggi4sd96i4Xg7YmSXK4XKy3uCTqvID0d9NRXNkDA/uT9v/xH5U6h7S+mimP4IMNCvzmctJ9W1rD0mhyJr6x+NVT8w0PKR4/3r/rnUpajxj5xv1zNSlFIuQz5jimn+VQpcWiasyj0kfiajTdIYB9O57lB+O1MgNoMe7SjnQoftJ/q2+K1RI+kgOqwyMBpoPyoz0a6VtDNn+SzsMhFkS53Hu0qrPFyg0uw2OSUkzXsnppVRW8pHfg8WP4BSri/pMv/AC/p/Z0Pbw7/AHPMRE673A31B919xQHojLGzyvIpI60fZYEebbmcwU2tqSN6LS8UcsVdici3HiOWneDpfnm12FiPDcCuHw6xgK2ljoCHkf08ht6KVJ44OL5uqovb1yUlyVj2I6trjLmkaxzG4Csw20YGwVb28ORNDYk1juBqmoFyNz362olNh2YNKLEB/mgTuS3ae479h3Ac6BB3GJVGBVSh6rMACRe+QhSRdNbd699iSccU066IjluizSypHY2IB0uOQoNhsYkxLobgxkjxGd1B9dqc6T8TgSCVHeNpMnZjZlvm+iSpPJrH1XqNw7CRxXWAgx9TYMGzBrAm4N9jv6zVfDYVFKcrtvbsPkyXLSqoewWx9K/AUYgNCMEOy3gR8BRSA1OIpyGw8gvgdh6D96i8S9mhXDF0HoP36Nxp2aqwrdmfPLcAFNW+0fjSyU6V1PpPxru1GTNKlQxkrwx07avVSkG1ATpSv7JL6B98UP4ev7a/2X+8lFulifsc32Qf7wodgR+2t4q/3lrXif7T+P8ABnk7yX6Fa6bL82D/APUyfcX8qBcHPzg/XMVYenI+aH/VP9wGq9wo/OD9cxXW4HyROdxXnZP4we2vo/Gh2ObsD7Q/GpnSKQKUJ2sPv0Lxc4KXBFs1dJ82Ym9hmI6mj/RXhceIdxKCQoBABtuba21qsrikBOt/si/wov0Y48YXcx4eWYstgqDxvrYE+6pZUaxicOqYBkQWVYJABcn6LczrTvQuQ/yfEOWZ/wDEeqDxXpXxIoIRgljDxtobvJk1DNlDAqo2zMtq86LYfiGJj6kcR+TKAWEax2bLmIZgbLcZjuHNr620pIqjRklaR70nP7U323+8aZ6P8YghfEGWZFByWubk2U3sBqareO4SXkuZ3kRmOWSW5aQZrZ7FjYNuLkmi/R7A4ON5RNGjaKUBUufpZrLYnu91ErdjvSTpZh5QqxZ3Ia5stuX9Kx91AxxKY3KQW53c22G+th76sXSPiURVY4o2XK2vzeQajQa21sQbW2oOjZmyyC4Kk2J00I7t6rlzHgnQJE87HMGy31JC8vDcn1U58id2ZDK0nZVgc3ZsxIudbWGmgFzepauTJe5F73uNBb8+RqLgCLvmJVXSwb6oZmtfu2uPTQvbYNb7j2H4LGoLo6TFd15HwBB0Pde4olBisOFzRxsRa/ZjIHtIA99c8Nyi757hEszWsrdoscttMqDT1+FPxYZurjgJCkxnrAVuVACgra+hzMB7ajfcKW2wM6N40r1iCKQkyM2mUEbCxzMNRpf0irl0OeSbFiK0kI6tmdrgMVBAyqyscpYnVhYgA2sbEUfhnzYmfr7OsjBVbL27WJ84XBOl7eHdRH/1c8EzPhvOMTR52sQM5Vg6gbkAG1+Z12tQnByi0gQko02aDjsfwyOR4zgEkKsVZxHE12Bs1y7hiQ1wSRuDvvXtYfPMzMWKliTcs9yzE6kk31JOtKqf0T/6H/Ve40fiz2lPeQn31qxYOJpSEubD+6pvnPpIso9JqIsEeaRjIBIFHZI1Ity9f+dEeEpct+u+uPxOVqDpcjrYcdvnzCfFJ0VFTYZlA7hyHo9dVXpZDnlijuVLsLODZkCh3JUjZiFK3/pGiPGOCpK0ZYkFHDdksDvr5rDWwtfUi9D+P8NkEiNFI7vGBIqSsCGsWUrmIuLqWAJJ1NVcC4abT39/foNmjJJqtvyyUrQwjqoMKz5VDP1SrcA7Zi7AuxA21PtFwuOdIr4vC/uyt5Y10V0Y5WbL9F1Po2IPOivyqAzCc4XEfKQuUL1T5tRa2YfN25ZidqG8Vwpjw2IEmjujMQpuM8spIRe+xYC/PWr8WzV3bpO+vf1XZiZN4uq2uq6dv9DUWz2+sPuiiMJOlDo9FP2h91anwmqMy3L8Yf4Zqo9B+9R6MdmgnCh2R6D96iGM47hMOvz2Kgjb6rSKG/s3v7qXhott0Y+JlTIJXVvSfjXYWqvJ0+wZLdV105udIIWPP+kFHvoZjenuIuVi4bMLbvOSgXn2+zlUW11YVeuGyS6V67DPPFdS8mOksdUziE/FTGrNiMNEZCFjTDp1jOSLqAXJW1rsWGgAJvUGboxiVHWcRxU0kRsG6iYhYwdLuhQAoDuy7bkWuQFwqfOS+G7A877Fj6ZYqJcLKryorEAAM4BOo5E3NVc9K8JHi2frS4ysPmlLaki1iBbl31N4xwPheGgkCJB1oAPafO4GZcxsWJ2vypjh2PX5QzYOESDI2QKBGlzexOcr2RpqATbYVfixw0PZtb89v7Fcpaua+5VulHSMTKI1glX55pQZBlJBXLawv7aEYYz5hkyoTsWHr0OoJ8LUc6VBkQpbOy4k9biGteWQx3ygD6Kg+hRYDmarhlJDBQGspa97FStjcHvGhrqcOopLStjBmb1O2c4iSWZFdpSdNc2gHa0HZsDprtpTYwyZSzMLXtcD8d6fwOIOWLNEHADZEJJzkvqbKQTbUWqxYTD4tVvFhmQoxKHqraEXILOO0NxqToB3A1qM4Cw2AcjMEJXQAgZtTpYWvqTVu6H4DExs7rATdcvbbIoOYE3vdrjuy+uu+jeNxHECYhKAEysXBYPck2y3uo0BBNtjWhdHuhU0JV0xDm2YkSWYMWvcm1rm5vr3Ch4ugbxrnZUJWkGEV0NpMY8hlksCRHHHIyot7gDKgUd2Zjuap8Ek5KqkpRsr2vvlYWYes21NuR3Fa3xHhmBwqCDFYyNQLuI3cBgGYtcKtntckDw0oSvS7geHN4kMrbfNQHMdbDWQLfXxqLYkpavKmUHFYN5gsihm+bCkKjMwIuCABoN76kbCu4OJGDFWRbO6rGRKbasVsbDYbaa862/o7xfC41D1SsLeckiFXW+1wdx4gkaViHlVwxh4oxj0YdWy7aEKCN9N++g9gwbk3sWrDeTzGYps0uKVATnyRqSoawBPaIF9O6rJgvJNCtmkkkcqDuQo1380X99Unya9L8c/E8LDLiHeOQMHQhcv7tyNANLFQbju7r1rflJlK8MxdjvHl9TEKR6wSKNJKyu5SklfMybyiYPh0WHCYWSBpc4DZHDtYb3a59hNUbCzzM7hUUnKASWtYdog+/3U7eJClluTa9gSSfO2PotcaU1gOIj5Q5Xt57WuQo0XW+nIaD0VQpOStL8s1yisb0X8fgOLHIqFHmSMJY2VcxP0h3X108TYVOw+BxBZTIzsHYZrsQVUFjrkcXY38beNNYoGRMQ6kAZFDKR2gUu1tDa9wR671IxBeSQvG6opHVZna2ftXIjFtL7Zt9NPFuYhUcR557Wbtvvz219dMidu/wBwp3EL84wtl7bC29tbW8bVHO/5VohRlY58obv9wpUzSp9gG0ZP2h/sfnRPg51Ov6uahovz8h/5Y/GpvC1tm+Ptt+NeU4zeD+B6bh1UibiFsVHefh/rQHpnjWhfMoJtAx0HcTz2Hf42NqY44MV8oiVFGWTNECzAA3vJcWuRYBgbj6Ite9d9PMQqZkZu0+HKIPpOzFgAANdTU4Th1Bx62TPlbjLpQUi4uqQ9dOTEmh7YIIuq6WIvfNmG3KqrPxxMVic6xTzQxaxrFEWzyWIDtewVVvcDe+p7qG8bx82KjGIZAIY5UURA5n1PnkfSJsFHIZjbe5t7calaGaWKAqBGwtMwVlt2fMUNqDbskry1F6vjg9hUnHd7c9l/pneb2tpPZb8t2V6bj+I1WPBtYMAXJLqp0BD9UDYi1yt7jupyefGtJHGmIi+djLgwxgrpb6UpvbUajW17AmwMnFzTA9VCgspj0BAUGRczFiwJKkj6NjdmJJ2oWGzYlgJRGkgmSFjoFJNmN9N5M1vdvWlKL3UV9ypuS2bf2DsHRqRbSY/ETYjCMFDMsrIsbM+Ulo76pe12BFr3I3ta1wvAsLGrxxQPqFDKrTksdhcB9fCgXDsO3yLGRqyuZcOI0VECh5byKzBRooymNcxtmyA91WbpLi8Q2V45GgjhGZZEjVpGujK4s7ZVFrWJUm/dbVXDJJ1v8Nl8jPOSvnXx/nqDeI8ZZcOz4aBwGCrHI2RUBlcRxnLmz6MwNiormXiEuHcYbCwvIsTxxkhc5ZnAkkaRswKgq4OfXtFydBaq5wrpJh58PiIPlRQBUeE4rq0PWK5k1yed84qsTqe0a0fh3BRi8mJPXQLIi50DFGkFiVVwD2cuYi4sx2vYWIhw7vTX5tV/UtyZklbZSOHwymdgkiJARjIsEwB7EhkGp0tbR8lvoqRTmDwzwYfGiXIVXCHrOrv1bSHrT2c1sz9WUDNzJF7kE1a8N004VhpRhcP23HZC4eO66cgRYN/Deji8QwuMMkVgXjI6yKQdpbhXU29am42NtjWl4E3pvf095n9tKK1NbFF4/G/yd8GixxrHBA8rnkzS2UBAADrGSbnY7GhXD8JNFjtJuukftyEoqh7jqxouwFlOlvN9N4Plf6OSwv8AKOtleCQgMCxORwLKSDoRlFhfW+5ubkh5GcBCMXIYr/8AtonYMwYqzMxtdQBtl5c6OLhlHwvk7tV/IZ5np1R+f+FgXydxdQFxUzFVkaYksE7T3LFiOWp51O4B0B4YyCWFI5o2uAwbrFaxIOrEg63FZb5XulEmKxjwByMPAxQKDozro7sOZBBA8Bpua13yNpbhGHGu8u//AFElbIJLZIyZdVJtgrF9MuFYHEvhXV4jGQrFYvmxoD9A3tY8lq6DBwSRdbEVdHTMrKbhgRcEGvnbyrG3FcSRykX7i1p3kK4yZMBPG5/dSnKO5ZEDW9bZz66MXYZ41CvekzFeEcUnwzHqJWjLrqVsCSB2dSNNztat98ifFpsRw9jPI0jxztHmc5mtkRwCx1Ns34cq+dpHBWx5rp4Eaj31v3kEUDATAC37S2g/qYaEN4j8UlGbS932KJ5bx/tUf1Uf3mqJhejzYrBTYuN2VIFfYABmiXrQQSNRcgadxq1eVLoRjcbxDPBEChiVc7OqqCC19L5vYKt8vABguB4jD3DMuFlLEbFjG17eA0A8AKkdrDJpxgkzM/Jb0iJ4jCjKVzpJGTe4bs9Z3aG6fGoHlpcNxJ9RrGnwtVVgxTxsjxsVYSKAw3GZWU+4mpE3D5sVipEu8jhQQXYXtlBOrWGmYaeIqK5xQ00sWWSXoGPJOwHFsKDZizOcw8IZPZbatx8p3+68X9gf4i1h/kzwbRcZwYbQnPpYix6qS4s1mHrHo0sa3HyoD/ZWK+wP8RaL8rM8P/rH1X3PmzFuVmiUKMyqgGY3U5iWF/A5hceBoriuFph5CUJ7MaMx5MWdg2g0ANgABtpQvGQAyxZmv1iodNLAMyWF+YyjXvvSk4q0s2Z7lVAB0sTkuVLW3OYnawOmlZUpOqe1b/nzN2SUVKWpb3sEAvYxf6/4bU78j62KEgrdY1HaBIFgt9iCCCtvaKsnlA6MrgcNE6XzTMBJc3zXjO96ruFmIUNyYAuByNtWX8R6xrcG9qnRUvFGwXw3hccrTCTMSshFwbX1NyeXKp3D+jcEmLw8N5AjuFkIYXAa9rXG5IPI7VF4diCJJ1UXZpLjuAue0fDb03FWDo+QuKw2tz8ojJJ3JLAX/XIAUMjai2uwsIptWWOfyU4EMQJMV/aT/wDnXtaPava5H6nL/wBG72MOxnkovNJYHSMHTfnt41C6NY+V5pI2WwQXzHQMGY5SBudQQO4A31NqJkgTS+EQNgLm3a5bn1dxoNxTENGqYqEBmQZbX0kSU5QL87PkYeg99I1ri499kal4WpduZP47iHkmhhw1mnjkEjFgerjUxuozkczmuFGptQ/jXDlhmCs8ks8iKJZeznCu+TKguFjDeYoG199KMYdkwWHLv2mBzO30pZDv7T6lUdwqtYfHzOxeRkPWOC7m9lOb6K3IsijsnuPeCTZwibVR8q2vv3fp7iriHT35veu3+j/SLhfXmIR/Mq0pw4KeaqQuxQgX77rvyB5VfuDeTvJHIrTSuJo8j5jrqWJIOpB7W9+V96z+bCypw+57JbFIYr30VjFqeerZvf31dPIw0t585BDRxsLW0ZcyOGFriQNo1/C1hpXWlCKqDXzOXKU6lJOiT0g4dw/AKJMVq7rkFwzFgo0BA7IH2rc/GqLwG8WNlRwsiHtwhZBlWMszKFsCLW0summ9FfLo37TGDfXDWFvGR++qlwfiXWY4tCM3zeUZiQq5bi1wDoTqDbQHblVGVtXoSVe70NGGEXGLm29XvN86NRRSRLIIwL3031DFTy8KyTpf03nfE4vCJGCBK0UWS4IyEqbgefmIO/fWqeTzECXAxPYi7SXB3BErqR6iCKxGbjK4PjU+JdC6pisQSotc3aRRvpoTerZuTxrv/hXghH2k3WyuvmXvon0FwhxbSKFdLLKoCHKFJvGQxJBuVY2WwtuNVqT5c+kzYfDphImytOCZCNxENMv8Z09CsOdWzoLhVTDswFi8r5gBZQyt1bhF2VMykgDkb6kknGfLNjr8We6hhCsS5TsRlEpHoOcj11MdrGu4qSyZn2X8HHktxiYfEvEFE000a9WFyrYgM0iZ2F76CwByta5I0ta+E8RZcXi8fEwERxWFilRwQ4HVpA6GxsCpmJO9jFbW9wbxfBlwcC4lDbEiSLO6DKJS8yo6FF7OU52VRa63BBvcmszRj5NxYDb+U09+IhvWKOVSnrXuX1RZJXHT6modKOEDE4WbDkXzoQPBt1PqYA+qsR8kfSOHByzGYhMyix79drbk1v6B7XtrXzBweFW4g6ZwhLOImOwkVs0R/tAac9uddCb0q+xRhWqLj6AfiDmaWSQXs0jHNyuzE+3W9q+kvI7/ALpw/wBqX/uJKxfpZi8yFtVMk95ITqY5FhCXBGmuo/pBVYc62fyMm/CMP9qX/uJKGKbkroPEKnRjflLwzScXxKKLsZBYd/zannTGG4Vi4WEMc3UdYDI+WQ2VIwe02W9hdrC3MnuqR5SDIOMYnqiRJ1gykG1vm1vr6L0Gw3B5p5GLzM6W7clyQbfQBO9tb2NvXTw6+pZmXl9ENrwMKkWWVTNKM6q1gscZOjuxOhItZQL6+Gu4+RPCLHg5lWQP+0MSwvuYYr6kC/psKyLh/ColijdlZ5Ju0qAi5Fri9yAAqkXJ7/Gtl8kCAYWcCMpbEEFTbfqYteySCCLa0U5Xy2KckY6b6ld8rHTvG4LFiDDMiqYle5QM12Zhu1xbQcqPYXpA+O4FippQFlGHmjlA0AZYjyO1wQbePdWf+XNf9pp/UR/fepXEOKYlMHLBA0YSUEOGUljnURnKwcAdnXY1I72PKCjGDXqVHonwY4mdVsMiurE8ybMFA7ratfwFP9OeHPBxFYUkYBurJJJOrdgk63Omm+o0q3+TPo28cxJcOoIJIWwDAMAN9dGJ8NO+gnlkuvFlyqWYJEQo3JDHT17VFcYpBySjkzSa5D/QvDovFsCFhWJ1aVZAg0v1JKsD9JWAaxPcRuK1ryof7rxX2B99azroFwXETcRw2Mlg6lYUfMGIJYsrIii2umYtciw2rU+lnCzi8JNh1YIZFsGIuB2gdvVTSXYz6kpp+h81dKIIop8KSoCmJHbc37ZBve99BapvAeG/Ksb1cRLLOqbCwyXysdtlCmtLx3kgjxDI2IxT2jjEYEShdASbksW1JJ5d1H+C4Pg/CVIWeCNyLFpZVMjActTe3goA8KzYsUlFanuuZozcRGU5aeT5fKgH5e1C4XD+E1v/AMb1kEeOChBlYggXIGwuBc+sirr5YOmuFxqRxYeXOUkzGyta2RhuRY6kVm8i3QBnsADYafE62PdVteIEZL2SXvPcDjMjTFFvdhYA8rnuG1EYpZJGiEV+sZ1KhDZtGBuGG1vraW3qvwBSxDNpvfQben4UZ4Tj1hkDo2Z9hc9+gGmwoZL0uuYuJq0nyLpxbh+NaVmwokhgNskYxCxBeyM3zYcBbtc+N786VDW6VMuhxT3G+WFMvqzIT7SaVczTn7L5SOnqw939C1cf4N17+cUKorB1Yqy2uTawIa9tjbvvpagM2JKLDFIlgJ4csi3yMqvzv5jc7E8jYmrvKvbc/wDJH/lVMxk7MrRoocAZ5QSB2V7QFuYuVZtR2SPrVTw7c/C+S+hbmioeJc39Tzi+KkmPWqxSKI2BtdjnOjhTob5SATsDbfMA1gTcNdVBsCvIlVRgFAtsLC50vUDCI8pESMMzsqgFrliSzAMx3ANgPEuT3lcMkzICwADHNZTcE6FeZPPntrzBrqRxKEdC6HPeRylqfUuHTSa3D4CqkkNAQgFiT2DYDcd1G/I9ihI87GJhI0UbvMx/e57myjkiaoLdx53rOOL8VbEYqBVYiKJ4FCjYtmQHU7229Q3rYvJ7gYoiyxoinqxmyqAx7RUFiNW2Op7jRyZF7aKrd2V6W8UmulAnyldD58biYnjKCMRZGve987HQAba99DYfJt1bJM8+Rl3e4UsS12LM175trWtbbYWieWzjGKhnSODEzRKYg5WNioN3kBJK2OyjntWZ4TDzy4orKTKygm0zE3BF1JJJIGoNt+VNLRbbFgsumKvbpsfT3RPBxRYVEhkWRMznMrBgS0rM+o084kWG21fN3S7DM+PxgQAkYjENr3LI5PuFb95LcP1fDYE+rnF+89a5J8LnW1YtiZ4k4vi+uYKjTYpCx2BfrVFydtSNeVDJLwJot4WNOafb+Teeh8DJhIkbLmUFWyXy3VyDlvra40B5VjnTOKP/ANRkTreJ3iDAgkFWgRDoNbXuK1PyfcTaWJxJo5dpAlrFVkYsF8SuxPf6apXls4XJDiMNxKJSQhVXtsGR88ZPcGuVv4Ac6l68W3YrxrRlkn1v+wX0e4vj58ZkkheXD4UkiEkF8xVhA+bLHnJ0KySdmwLedlNTW4fImE4hCxVp3x2GZrXy9ZM+GkYDY5Q7kDY2Ao9wQRDEYnHKR1eIiicSOdgofPct5oAy3F7C3K1c9DcEcVxDFYk9YcOJYniJLLHIywBWIU2D2IjYMQR2FKnU3w4nryVFbKvuv9LMkXCNsv8AxvHLh8PLO20UbP8A2VJt69q+WujEAlmkU84H15ggXDDxDAG/fatS8vHS9VjHD4mBdiHnt9FR2kQ+LGzW7gPrCsq4LMkbMA4V3jyO7nKIw4YPa9iWy5bDv8BW/LbToTh2orfq19Aj0lxEcsSSiM9aXUvJaw7UCt1d79og67HLtcXsdu8i3+58P9qX/uJKy/oj0MXGxOPlL/J0mPVqii4tf6Zvfzu7lWwcLxnD+G4ePD/KYYkjFgJZVDEklmJuRckkk2HOmxQ0xoqz5FOXv6mJeUaANxjEIxIDOL27jCp594qNjMXDCiiGVmkPZRVkaRSRbsMpYhb3toARfStM6SdMOAtIZJHgmltbMIDIdNB2shHvrFeJzGTGNJEWiR3YxsVK2Gxso13uLCrI+EMsvtK6UkvkW3CdH3xkaYZbiWKPqnBGmW62YXZb3KAggnmCO7augvA2wmG6p2uxbNvewCLGATzNlBPiTWEcF4tjMKzSQSNO7C3zkLhVtqLF2Ua8/VRCfpNxqbz8W6X+inVxgehowzfjTMRqTexqXTDycw8QxIxEs8iARhMseUeazNfMQe/u5VEfg/CMIAs+MS4/nsTdj6QGBb2ViePw+JnWRZcRNK6OCQ8rPdStwR1hAPa56bGusPwmMlYii3BaSTLc5QwIRM2/O/8ADeolXIDUns2bJL5TeDYVcsUufLoFiia3qJAX31kfSzpL8r4iuKVCgXJZZiFJAYkG19iDyqPilhyBJn6t1QI4sO0F2Zbg672I7yK7wPE4UzSM6rmsFW+YqiDKoNtjubeNTTZIrSGcR5SuIRG0McQTbP1bn3tYe720I4h5QuLSjtYyRQfqBEtc2+gL1E41xVJIwEDntA3ym2x5mgTOxHm+2owaULH8WxEuk080nhJIzfeJqLGNG05ezUf6euuihLa14IzqKVkSPYZCCT4W7uVTcORYWUbd1Qhpvp8fdTgcHZSffUCjqOcB2J5munxII39HtvXCAqSQrX8bflXryFiCwY69/wCYqBVi+UKdx+vbSri39Fvd+Ve0NiWzeOKYvqr2XM7qI0UfSZiw9wudNbA2uSBWacf4nLhZZcKyDMnZLBtRnUNILga5ja+40sNLW0KPMwTirKerSaKOCMixIadUZiTf06bkAXsoJyTpQxbFYh2JLNM5JOv0zWPhuHWGCvmzfmyvLN6eSHsNxySOZSgyWKEHKM1wgF99dy3p1NP4LE5IkUDUA6E6bgk6j+lf9XqBweL5RiI1kbKpZVZz9FVAufDsqbaVJ4YT1T5r3zIPSXDAewC9vGtSffnsY6+ROwsqmXDgW7M0Wbw+dAF/YTrytytWueRmRXE0jSM87qrSZlYZUZmMKqCLZct27Ol2OprMOi3C1mnjSRsoMoY6fzSRsd9LZmUeIJrYOBz8J4SrqMZCHcIJC8qtIRGmRAVTYAdy8zvQcdUlLsCU9MHHuU/y5Q3xaE7HDKPZJJf4iqlhoCMcWRGbNCGPVoWJOo2UEkm3rrRuP+U/hMmwbEMgOQrBci+hsZALX07uVZ70I6WSYXF4x48MZOszydW79WVVC8liMra2a2Uc6rniTbbezLYZ3ojFR3Ru/QTDumBhEiMjHMxRxZlDSMwDDkbEacqy7pd5MsScRisQJIepdpJO1mL2e7kAZbXFyAb91SoPKLxWfP1WHw8KoYhZlZ3cYiURRmMlljbXW5IBsdam9I+EcYfDs0nEMqkXcEJHZbajLEjE/wD3Kk8mKCpvkJD2luucjNuDeUfFYWeWaNUfrWvllzHKMwJVLMAoI027uYvW1cB8pXDMdFlllSFmFnixJAGvIM3Yceg37wK+cZuFaGzgkbaWv67/AIUKZSNDVkNNVEXLq1Wz6gxeE4JHHkkxECw5xJ1Xymylgc2iq92GbXLqCbaVV+lfljiRDDwtC5At1zIQiXNrqhF2NzuwAuRo21YNapaTWUBSwb6WtwbEFbC2lvE0VFR8qFtydydhObAtIHmmeZ5WuzXXmdbszkEm+9gaawPD+3qgNl2aQ7990Hupz+U2ZSMjHTfYVzDNIW7KqCRzJPwqta97Lqhao9x+cLkDWjuewpYLfTUgtrQ+CPtWAFzoB6dLn0VLxqSW7TDU7BffrrUBowNz7TVsbornV7BLhs0QjAkYqbsLhQbg2JFiCNwDqKK8M4rAjZsxHZyItiWtcsxNhuza+oVX8DMq3BRX5js3Po1FvdRL+VZgOzEVHj2R/dy1ZYqLF/LROiYedvErlHtJpqTieIP/AAoo/wCslB9y1XJOIStu8Y9ef864vI3/ABZD4Ith7yKDkPbC2Kw00i55Jo499UBBI5i5IOU91QrQRi3Xytrc5HAVj36A++oycLZjfI58Wa3wH41Jj4Ow+jGv2tfvG3uoa0DSxg4vDA6RZj3tdr+1h8Kc/lPL+7gK+IUD7qg++picMb+dP/xj/wDQV7/JK81dvFj+ZvQ1smkFz4+RxYhB6WufeSaYKM30h/Cp/ICrPhuHD+bX2/5fjUxcF6B6F/O9ByYdJUBgGPKQ+mw+F6fThLn6AHiSSfdarQ8CgdpiB4m3wtTZEXg3qLfgaG4dKAC8Ntu6L6AP9adHDl5l29tvfpU5+NYddAGNuQW3xtUWbpGv0Yj/ABED4A1CbDGL4eotZDr6PzqN8jH1K7xPHHYjsoLctT+Ipg8WfuT2H86mxB35EPq0qa/ldu5fYfzpVCGgcQ4u8s2FGZur+S4ZVQnQN8phLHTS7Fb39HcKo/SH97Mf+Y/3jVymwRUcLcggSNGoP1ghiY+rMw9lVnj0Fxm755vd1f5mlkzVii9Lrrt9yH0ewjylERfOmSPzsuZpLiNTyAurdrlejMGAeOaSAlSUmbzTcExsFuDz82+trWN9yKD8FxNiYWcRxs3WGQDtgxRSFcpPM5iBzuRaxqbwudhbtHM4IbMTdusK3sSNGY7vuo13FFN2+xmarbqdcWPzQ7ZuSoBy7kuXtqdFUEC2obKp5Ag10l6AmPCJjIS8iG5muBde2QHGVR2e/u0O17VrjEyZSilCc1wUfsgDRbC5O3ibX8Be0cF6ScJWBBi4MZPKLgqZS8e9wR84ose7Lveq87mnGUL96S5gi400ys8G4hDGytNmYoFsoA7RTVVJIuFuBztp6RXUuPBxCyrIWfIzOYw3akZ3YqCLECxADa2sNDtQ7iZiZy0MTxrYdljext2iCeROtuVRoWZTmUgHvzXP92m9mufcOtrYsOB6XTRMrJEoSOTrcoULdx5rOVUBiu4uN7HkKsnSDyjY7EQGF4oYb3Vrh+s9my6d49lUPPK302P2U/O1PNgpXN26xidSXfUnx0N/bSPBjbtpB1y/KEY3+lMqjwt+F6iSiLnIzHv3+NjU0cHO5yD7RJ+JqRFwn+l/YT8QKuVIR2wGVUjRWPqr1YyOVvtMB7qsq8GU7h2+0f8AOpUPCQBoij3/AICjYNJVkVvrD+FSfwtTq4Rz/OH1BR+NW6PAegegfnevXw6jVnsPFrflU3DpKqnCGP0P7TE/C1Pw8J/pID4AH43NG2xeFXeRD6O0fdemX49ANg7ehbfeIqEpEVOF33eQ+AuB+Ap5OCoNeruf6R/K9Ny9Jx9GIfxN+AH41Gl6SzHYIv8ACT8T+FAOwXj4b3Ko9V/xFSvkOg7VvQAPwqpS8ZnO8reqw+6KhS4onznLekk/E1AWXaR4V8+RR4F/wvUZuLYZdmB+yp+NrVTDMP8ASuDL4UwNZoHysnVYz/EbX9l6bed9+wvp1/EfCgnDI3eNCXIBNlAOyjTnpyNSpMCLEksbAk2Ntvs2oDWQsZxmYMQjjKDYEKNfbeoa8Xlzgu7sAdRfQjnoLCm5kqE29jpQQGy4Q4tbXSPfnYg/CxpvE41srELYgbm2h5bMak9WoLbXHZHouaY4oy9WbH6Qv7f9KA+5WnXvFNEVLI5VCJoCnD03au7V0qU4jVjVKnerryjYNJrM05lj4VGbWgkw+Sw1AlMRa59NVvpLAUw+GJFusaeQegyhB9yrRwDDoXhlmfJDEmDd3OgGVWl39EdUvp90q+XYgOiCOCNergjAAyoDoTbmd7bDQcrlZK0aYZPZyv8AOoBIGvaFwb2I31CgAjUHUkjQWHM2FScRjh1IjUEOJGNxsEyqF/iuG17jbuAgROApJ1P0fA6a17hoC519f5UUiiUtTtdR7AYHP4DvteikXCh/TPo0/EU6JUgUMwuToFHdz/1pl+kZA7MQHpa/uAFQipEuHhK38wes6/CpcXDwDso9A/zoGvSGUsLlVW+uVeXrvRQY9D9Jm9B/C/4VBkwmuFA3PwHwtTUmIw6+dInrYE/jQXiU4KEBNzYkgg9/MCgUgt4UCWXhMZGy3jBYHS6i33rV2cQeSf2jb8DVX4G79sBuyNfWdNLEchz7qMDCsd2Pu+OW/vokTGsfxyRWyoqabnU/iKHS8bnP/Et6FA/A03KoubczzOvvqLLpS2yHU2PkbzpHP8R+F7VG6wfoV5JXAWihWOmYeNc9aeQrkLXQWoQ5MrV5Y99OdUakLhqgKIfVeNLq6IrhKcXB0dyUgQVr3LRA4btW/XdTgwdQNBDhXEVSJARqtwfax/GnJOLAgqdiCPbf86HLhKamwpGt2tQDZ67XofiBc3qathtf1muZVDDTepZGrOk4gxG5vax8fGuRiGPIm9NYZN7U+yGpQLObXFtjUd0toadvXpFx4jagE5jh2qQsFdQLoPRUtUp6AQ/k9Kp3V0qlELJ5ROlMfyeDh2FsY40jM8mhMkiRhQtxyXYnmRbZdaDhI1JbrGKhUYjvLWso/tW9V6jsNvGnWAJso0vp41OYvU8ijLEfqwo7g0SJOsbYbDmTXGBwgRSzaAC5NR8dMsije9yQo+iNRr4moFKjnHgOQwJZrAm2wvqB6v1reh7Lbvo5hMNlRQeYze0/lTE+HH6BpRqAzVcoMMF0Gy2Xf3+7eqriorW76fTiDEWJN9vTRAtmGeKqLIB4nTv0oLPHvXq4hzyJrtxcd3gaAR7o/ilTODubEeq9/iKKPxoA6CqsykHuNSVW4Fyb+FECdE7NfbaomINzSjIXa/rNPZw3gaUJByXNOCCn4I9SKnJBTJAB64apUOCqfFBU6KDSjpICRgqmxYPSpwgp+GLSmUSEFMIKcGGFTlSvJhZSe4E+6jRAFh4bsx9Hv7X41KENOYKLRvtW9mlSRFS0Eh9SK5aHSp/VVwy1KIVvGYOx7Ox91MLEasM8FwaiGEb/AK1FVsNAuGOxapSwGn4IQXNrWqekNPEDArYTwpDDWojiCc1gh056U1ISFvYbjS9I1uMhjCQXt3VOeGwvXXDVBUd9S8RHZatQoNy0qdy0qgADxXEB3FvOKjOSACWtrtpbanuE4S5B/QpUqrXJE/8AQuK43Oci6Iu3iRoT+Ve4GHsg/WJ92nxpUqJEd4nEMLc7VzDjATYgj1/lXtKgEUmGU7E+uoM0RU15SqEY7hoS19dabNxp3aV5SqMB64uKlwx6ClSoxIzyWCmxEb/r1UqVCQUTIE7V/CiMUNKlTx5AZKiiqdGmlKlTEOitdwrv6aVKiAdVaaxo7B8SB7SB+NKlRIQsCOwPHX2mpapSpUiGEwpplpUqhCDxZAE1BI52NqDfypGCCI72+trSpUkuZB7hL3Y2qwiMUqVNHkQEcV4cWN0Ygk6i+lC/kJHnS2PgDSpVGkQM4EZBorN49nX2mnsbO+Q9gW8W138BSpUwAdmb6g/tf5UqVKgQ/9k=)"
      ],
      "metadata": {
        "id": "ZnsDawzFAs_8"
      }
    },
    {
      "cell_type": "markdown",
      "source": [
        "### **Import Libraries**"
      ],
      "metadata": {
        "id": "Y3lxredqlCYt"
      }
    },
    {
      "cell_type": "code",
      "source": [
        "# Import Libraries\n",
        "import pandas as pd\n",
        "import numpy as np\n",
        "import seaborn as sns\n",
        "import matplotlib.pyplot as plt\n",
        "%matplotlib inline"
      ],
      "metadata": {
        "id": "M8Vqi-pPk-HR"
      },
      "execution_count": 231,
      "outputs": []
    },
    {
      "cell_type": "markdown",
      "source": [
        "### **Dataset Loading**"
      ],
      "metadata": {
        "id": "3RnN4peoiCZX"
      }
    },
    {
      "cell_type": "code",
      "source": [
        "# Load Dataset\n",
        "from google.colab import drive\n",
        "drive.mount('/content/drive')\n",
        "file_path=\"/content/drive/MyDrive/Colab Notebooks/project/Hotel Bookings.csv\"\n",
        "hotel_df= pd.read_csv(file_path)"
      ],
      "metadata": {
        "id": "4CkvbW_SlZ_R",
        "colab": {
          "base_uri": "https://localhost:8080/"
        },
        "outputId": "1dfcc48f-704f-4142-bc28-a18cc964f9c5"
      },
      "execution_count": 232,
      "outputs": [
        {
          "output_type": "stream",
          "name": "stdout",
          "text": [
            "Drive already mounted at /content/drive; to attempt to forcibly remount, call drive.mount(\"/content/drive\", force_remount=True).\n"
          ]
        }
      ]
    },
    {
      "cell_type": "markdown",
      "source": [
        "###**Dataset First View**"
      ],
      "metadata": {
        "id": "x71ZqKXriCWQ"
      }
    },
    {
      "cell_type": "code",
      "source": [
        "# Dataset First Look\n",
        "hotel_df.head()"
      ],
      "metadata": {
        "id": "LWNFOSvLl09H",
        "colab": {
          "base_uri": "https://localhost:8080/",
          "height": 386
        },
        "outputId": "d3b863d4-53bd-4621-a01a-0ae15f4791ee"
      },
      "execution_count": 233,
      "outputs": [
        {
          "output_type": "execute_result",
          "data": {
            "text/plain": [
              "          hotel  is_canceled  lead_time  arrival_date_year arrival_date_month  \\\n",
              "0  Resort Hotel            0        342               2015               July   \n",
              "1  Resort Hotel            0        737               2015               July   \n",
              "2  Resort Hotel            0          7               2015               July   \n",
              "3  Resort Hotel            0         13               2015               July   \n",
              "4  Resort Hotel            0         14               2015               July   \n",
              "\n",
              "   arrival_date_week_number  arrival_date_day_of_month  \\\n",
              "0                        27                          1   \n",
              "1                        27                          1   \n",
              "2                        27                          1   \n",
              "3                        27                          1   \n",
              "4                        27                          1   \n",
              "\n",
              "   stays_in_weekend_nights  stays_in_week_nights  adults  ...  deposit_type  \\\n",
              "0                        0                     0       2  ...    No Deposit   \n",
              "1                        0                     0       2  ...    No Deposit   \n",
              "2                        0                     1       1  ...    No Deposit   \n",
              "3                        0                     1       1  ...    No Deposit   \n",
              "4                        0                     2       2  ...    No Deposit   \n",
              "\n",
              "   agent company days_in_waiting_list customer_type   adr  \\\n",
              "0    NaN     NaN                    0     Transient   0.0   \n",
              "1    NaN     NaN                    0     Transient   0.0   \n",
              "2    NaN     NaN                    0     Transient  75.0   \n",
              "3  304.0     NaN                    0     Transient  75.0   \n",
              "4  240.0     NaN                    0     Transient  98.0   \n",
              "\n",
              "   required_car_parking_spaces  total_of_special_requests  reservation_status  \\\n",
              "0                            0                          0           Check-Out   \n",
              "1                            0                          0           Check-Out   \n",
              "2                            0                          0           Check-Out   \n",
              "3                            0                          0           Check-Out   \n",
              "4                            0                          1           Check-Out   \n",
              "\n",
              "  reservation_status_date  \n",
              "0              2015-07-01  \n",
              "1              2015-07-01  \n",
              "2              2015-07-02  \n",
              "3              2015-07-02  \n",
              "4              2015-07-03  \n",
              "\n",
              "[5 rows x 32 columns]"
            ],
            "text/html": [
              "\n",
              "  <div id=\"df-f410c083-615e-4ded-a702-289844fec8c0\">\n",
              "    <div class=\"colab-df-container\">\n",
              "      <div>\n",
              "<style scoped>\n",
              "    .dataframe tbody tr th:only-of-type {\n",
              "        vertical-align: middle;\n",
              "    }\n",
              "\n",
              "    .dataframe tbody tr th {\n",
              "        vertical-align: top;\n",
              "    }\n",
              "\n",
              "    .dataframe thead th {\n",
              "        text-align: right;\n",
              "    }\n",
              "</style>\n",
              "<table border=\"1\" class=\"dataframe\">\n",
              "  <thead>\n",
              "    <tr style=\"text-align: right;\">\n",
              "      <th></th>\n",
              "      <th>hotel</th>\n",
              "      <th>is_canceled</th>\n",
              "      <th>lead_time</th>\n",
              "      <th>arrival_date_year</th>\n",
              "      <th>arrival_date_month</th>\n",
              "      <th>arrival_date_week_number</th>\n",
              "      <th>arrival_date_day_of_month</th>\n",
              "      <th>stays_in_weekend_nights</th>\n",
              "      <th>stays_in_week_nights</th>\n",
              "      <th>adults</th>\n",
              "      <th>...</th>\n",
              "      <th>deposit_type</th>\n",
              "      <th>agent</th>\n",
              "      <th>company</th>\n",
              "      <th>days_in_waiting_list</th>\n",
              "      <th>customer_type</th>\n",
              "      <th>adr</th>\n",
              "      <th>required_car_parking_spaces</th>\n",
              "      <th>total_of_special_requests</th>\n",
              "      <th>reservation_status</th>\n",
              "      <th>reservation_status_date</th>\n",
              "    </tr>\n",
              "  </thead>\n",
              "  <tbody>\n",
              "    <tr>\n",
              "      <th>0</th>\n",
              "      <td>Resort Hotel</td>\n",
              "      <td>0</td>\n",
              "      <td>342</td>\n",
              "      <td>2015</td>\n",
              "      <td>July</td>\n",
              "      <td>27</td>\n",
              "      <td>1</td>\n",
              "      <td>0</td>\n",
              "      <td>0</td>\n",
              "      <td>2</td>\n",
              "      <td>...</td>\n",
              "      <td>No Deposit</td>\n",
              "      <td>NaN</td>\n",
              "      <td>NaN</td>\n",
              "      <td>0</td>\n",
              "      <td>Transient</td>\n",
              "      <td>0.0</td>\n",
              "      <td>0</td>\n",
              "      <td>0</td>\n",
              "      <td>Check-Out</td>\n",
              "      <td>2015-07-01</td>\n",
              "    </tr>\n",
              "    <tr>\n",
              "      <th>1</th>\n",
              "      <td>Resort Hotel</td>\n",
              "      <td>0</td>\n",
              "      <td>737</td>\n",
              "      <td>2015</td>\n",
              "      <td>July</td>\n",
              "      <td>27</td>\n",
              "      <td>1</td>\n",
              "      <td>0</td>\n",
              "      <td>0</td>\n",
              "      <td>2</td>\n",
              "      <td>...</td>\n",
              "      <td>No Deposit</td>\n",
              "      <td>NaN</td>\n",
              "      <td>NaN</td>\n",
              "      <td>0</td>\n",
              "      <td>Transient</td>\n",
              "      <td>0.0</td>\n",
              "      <td>0</td>\n",
              "      <td>0</td>\n",
              "      <td>Check-Out</td>\n",
              "      <td>2015-07-01</td>\n",
              "    </tr>\n",
              "    <tr>\n",
              "      <th>2</th>\n",
              "      <td>Resort Hotel</td>\n",
              "      <td>0</td>\n",
              "      <td>7</td>\n",
              "      <td>2015</td>\n",
              "      <td>July</td>\n",
              "      <td>27</td>\n",
              "      <td>1</td>\n",
              "      <td>0</td>\n",
              "      <td>1</td>\n",
              "      <td>1</td>\n",
              "      <td>...</td>\n",
              "      <td>No Deposit</td>\n",
              "      <td>NaN</td>\n",
              "      <td>NaN</td>\n",
              "      <td>0</td>\n",
              "      <td>Transient</td>\n",
              "      <td>75.0</td>\n",
              "      <td>0</td>\n",
              "      <td>0</td>\n",
              "      <td>Check-Out</td>\n",
              "      <td>2015-07-02</td>\n",
              "    </tr>\n",
              "    <tr>\n",
              "      <th>3</th>\n",
              "      <td>Resort Hotel</td>\n",
              "      <td>0</td>\n",
              "      <td>13</td>\n",
              "      <td>2015</td>\n",
              "      <td>July</td>\n",
              "      <td>27</td>\n",
              "      <td>1</td>\n",
              "      <td>0</td>\n",
              "      <td>1</td>\n",
              "      <td>1</td>\n",
              "      <td>...</td>\n",
              "      <td>No Deposit</td>\n",
              "      <td>304.0</td>\n",
              "      <td>NaN</td>\n",
              "      <td>0</td>\n",
              "      <td>Transient</td>\n",
              "      <td>75.0</td>\n",
              "      <td>0</td>\n",
              "      <td>0</td>\n",
              "      <td>Check-Out</td>\n",
              "      <td>2015-07-02</td>\n",
              "    </tr>\n",
              "    <tr>\n",
              "      <th>4</th>\n",
              "      <td>Resort Hotel</td>\n",
              "      <td>0</td>\n",
              "      <td>14</td>\n",
              "      <td>2015</td>\n",
              "      <td>July</td>\n",
              "      <td>27</td>\n",
              "      <td>1</td>\n",
              "      <td>0</td>\n",
              "      <td>2</td>\n",
              "      <td>2</td>\n",
              "      <td>...</td>\n",
              "      <td>No Deposit</td>\n",
              "      <td>240.0</td>\n",
              "      <td>NaN</td>\n",
              "      <td>0</td>\n",
              "      <td>Transient</td>\n",
              "      <td>98.0</td>\n",
              "      <td>0</td>\n",
              "      <td>1</td>\n",
              "      <td>Check-Out</td>\n",
              "      <td>2015-07-03</td>\n",
              "    </tr>\n",
              "  </tbody>\n",
              "</table>\n",
              "<p>5 rows × 32 columns</p>\n",
              "</div>\n",
              "      <button class=\"colab-df-convert\" onclick=\"convertToInteractive('df-f410c083-615e-4ded-a702-289844fec8c0')\"\n",
              "              title=\"Convert this dataframe to an interactive table.\"\n",
              "              style=\"display:none;\">\n",
              "        \n",
              "  <svg xmlns=\"http://www.w3.org/2000/svg\" height=\"24px\"viewBox=\"0 0 24 24\"\n",
              "       width=\"24px\">\n",
              "    <path d=\"M0 0h24v24H0V0z\" fill=\"none\"/>\n",
              "    <path d=\"M18.56 5.44l.94 2.06.94-2.06 2.06-.94-2.06-.94-.94-2.06-.94 2.06-2.06.94zm-11 1L8.5 8.5l.94-2.06 2.06-.94-2.06-.94L8.5 2.5l-.94 2.06-2.06.94zm10 10l.94 2.06.94-2.06 2.06-.94-2.06-.94-.94-2.06-.94 2.06-2.06.94z\"/><path d=\"M17.41 7.96l-1.37-1.37c-.4-.4-.92-.59-1.43-.59-.52 0-1.04.2-1.43.59L10.3 9.45l-7.72 7.72c-.78.78-.78 2.05 0 2.83L4 21.41c.39.39.9.59 1.41.59.51 0 1.02-.2 1.41-.59l7.78-7.78 2.81-2.81c.8-.78.8-2.07 0-2.86zM5.41 20L4 18.59l7.72-7.72 1.47 1.35L5.41 20z\"/>\n",
              "  </svg>\n",
              "      </button>\n",
              "      \n",
              "  <style>\n",
              "    .colab-df-container {\n",
              "      display:flex;\n",
              "      flex-wrap:wrap;\n",
              "      gap: 12px;\n",
              "    }\n",
              "\n",
              "    .colab-df-convert {\n",
              "      background-color: #E8F0FE;\n",
              "      border: none;\n",
              "      border-radius: 50%;\n",
              "      cursor: pointer;\n",
              "      display: none;\n",
              "      fill: #1967D2;\n",
              "      height: 32px;\n",
              "      padding: 0 0 0 0;\n",
              "      width: 32px;\n",
              "    }\n",
              "\n",
              "    .colab-df-convert:hover {\n",
              "      background-color: #E2EBFA;\n",
              "      box-shadow: 0px 1px 2px rgba(60, 64, 67, 0.3), 0px 1px 3px 1px rgba(60, 64, 67, 0.15);\n",
              "      fill: #174EA6;\n",
              "    }\n",
              "\n",
              "    [theme=dark] .colab-df-convert {\n",
              "      background-color: #3B4455;\n",
              "      fill: #D2E3FC;\n",
              "    }\n",
              "\n",
              "    [theme=dark] .colab-df-convert:hover {\n",
              "      background-color: #434B5C;\n",
              "      box-shadow: 0px 1px 3px 1px rgba(0, 0, 0, 0.15);\n",
              "      filter: drop-shadow(0px 1px 2px rgba(0, 0, 0, 0.3));\n",
              "      fill: #FFFFFF;\n",
              "    }\n",
              "  </style>\n",
              "\n",
              "      <script>\n",
              "        const buttonEl =\n",
              "          document.querySelector('#df-f410c083-615e-4ded-a702-289844fec8c0 button.colab-df-convert');\n",
              "        buttonEl.style.display =\n",
              "          google.colab.kernel.accessAllowed ? 'block' : 'none';\n",
              "\n",
              "        async function convertToInteractive(key) {\n",
              "          const element = document.querySelector('#df-f410c083-615e-4ded-a702-289844fec8c0');\n",
              "          const dataTable =\n",
              "            await google.colab.kernel.invokeFunction('convertToInteractive',\n",
              "                                                     [key], {});\n",
              "          if (!dataTable) return;\n",
              "\n",
              "          const docLinkHtml = 'Like what you see? Visit the ' +\n",
              "            '<a target=\"_blank\" href=https://colab.research.google.com/notebooks/data_table.ipynb>data table notebook</a>'\n",
              "            + ' to learn more about interactive tables.';\n",
              "          element.innerHTML = '';\n",
              "          dataTable['output_type'] = 'display_data';\n",
              "          await google.colab.output.renderOutput(dataTable, element);\n",
              "          const docLink = document.createElement('div');\n",
              "          docLink.innerHTML = docLinkHtml;\n",
              "          element.appendChild(docLink);\n",
              "        }\n",
              "      </script>\n",
              "    </div>\n",
              "  </div>\n",
              "  "
            ]
          },
          "metadata": {},
          "execution_count": 233
        }
      ]
    },
    {
      "cell_type": "code",
      "source": [
        "hotel_df.describe()"
      ],
      "metadata": {
        "id": "Cz7a4I-9YmlS",
        "colab": {
          "base_uri": "https://localhost:8080/",
          "height": 364
        },
        "outputId": "980b5682-4c88-4761-f482-3ac20fbbefe7"
      },
      "execution_count": 234,
      "outputs": [
        {
          "output_type": "execute_result",
          "data": {
            "text/plain": [
              "         is_canceled      lead_time  arrival_date_year  \\\n",
              "count  119390.000000  119390.000000      119390.000000   \n",
              "mean        0.370416     104.011416        2016.156554   \n",
              "std         0.482918     106.863097           0.707476   \n",
              "min         0.000000       0.000000        2015.000000   \n",
              "25%         0.000000      18.000000        2016.000000   \n",
              "50%         0.000000      69.000000        2016.000000   \n",
              "75%         1.000000     160.000000        2017.000000   \n",
              "max         1.000000     737.000000        2017.000000   \n",
              "\n",
              "       arrival_date_week_number  arrival_date_day_of_month  \\\n",
              "count             119390.000000              119390.000000   \n",
              "mean                  27.165173                  15.798241   \n",
              "std                   13.605138                   8.780829   \n",
              "min                    1.000000                   1.000000   \n",
              "25%                   16.000000                   8.000000   \n",
              "50%                   28.000000                  16.000000   \n",
              "75%                   38.000000                  23.000000   \n",
              "max                   53.000000                  31.000000   \n",
              "\n",
              "       stays_in_weekend_nights  stays_in_week_nights         adults  \\\n",
              "count            119390.000000         119390.000000  119390.000000   \n",
              "mean                  0.927599              2.500302       1.856403   \n",
              "std                   0.998613              1.908286       0.579261   \n",
              "min                   0.000000              0.000000       0.000000   \n",
              "25%                   0.000000              1.000000       2.000000   \n",
              "50%                   1.000000              2.000000       2.000000   \n",
              "75%                   2.000000              3.000000       2.000000   \n",
              "max                  19.000000             50.000000      55.000000   \n",
              "\n",
              "            children         babies  is_repeated_guest  \\\n",
              "count  119386.000000  119390.000000      119390.000000   \n",
              "mean        0.103890       0.007949           0.031912   \n",
              "std         0.398561       0.097436           0.175767   \n",
              "min         0.000000       0.000000           0.000000   \n",
              "25%         0.000000       0.000000           0.000000   \n",
              "50%         0.000000       0.000000           0.000000   \n",
              "75%         0.000000       0.000000           0.000000   \n",
              "max        10.000000      10.000000           1.000000   \n",
              "\n",
              "       previous_cancellations  previous_bookings_not_canceled  \\\n",
              "count           119390.000000                   119390.000000   \n",
              "mean                 0.087118                        0.137097   \n",
              "std                  0.844336                        1.497437   \n",
              "min                  0.000000                        0.000000   \n",
              "25%                  0.000000                        0.000000   \n",
              "50%                  0.000000                        0.000000   \n",
              "75%                  0.000000                        0.000000   \n",
              "max                 26.000000                       72.000000   \n",
              "\n",
              "       booking_changes          agent      company  days_in_waiting_list  \\\n",
              "count    119390.000000  103050.000000  6797.000000         119390.000000   \n",
              "mean          0.221124      86.693382   189.266735              2.321149   \n",
              "std           0.652306     110.774548   131.655015             17.594721   \n",
              "min           0.000000       1.000000     6.000000              0.000000   \n",
              "25%           0.000000       9.000000    62.000000              0.000000   \n",
              "50%           0.000000      14.000000   179.000000              0.000000   \n",
              "75%           0.000000     229.000000   270.000000              0.000000   \n",
              "max          21.000000     535.000000   543.000000            391.000000   \n",
              "\n",
              "                 adr  required_car_parking_spaces  total_of_special_requests  \n",
              "count  119390.000000                119390.000000              119390.000000  \n",
              "mean      101.831122                     0.062518                   0.571363  \n",
              "std        50.535790                     0.245291                   0.792798  \n",
              "min        -6.380000                     0.000000                   0.000000  \n",
              "25%        69.290000                     0.000000                   0.000000  \n",
              "50%        94.575000                     0.000000                   0.000000  \n",
              "75%       126.000000                     0.000000                   1.000000  \n",
              "max      5400.000000                     8.000000                   5.000000  "
            ],
            "text/html": [
              "\n",
              "  <div id=\"df-680ce2a5-6877-4816-a055-74f4a5449a80\">\n",
              "    <div class=\"colab-df-container\">\n",
              "      <div>\n",
              "<style scoped>\n",
              "    .dataframe tbody tr th:only-of-type {\n",
              "        vertical-align: middle;\n",
              "    }\n",
              "\n",
              "    .dataframe tbody tr th {\n",
              "        vertical-align: top;\n",
              "    }\n",
              "\n",
              "    .dataframe thead th {\n",
              "        text-align: right;\n",
              "    }\n",
              "</style>\n",
              "<table border=\"1\" class=\"dataframe\">\n",
              "  <thead>\n",
              "    <tr style=\"text-align: right;\">\n",
              "      <th></th>\n",
              "      <th>is_canceled</th>\n",
              "      <th>lead_time</th>\n",
              "      <th>arrival_date_year</th>\n",
              "      <th>arrival_date_week_number</th>\n",
              "      <th>arrival_date_day_of_month</th>\n",
              "      <th>stays_in_weekend_nights</th>\n",
              "      <th>stays_in_week_nights</th>\n",
              "      <th>adults</th>\n",
              "      <th>children</th>\n",
              "      <th>babies</th>\n",
              "      <th>is_repeated_guest</th>\n",
              "      <th>previous_cancellations</th>\n",
              "      <th>previous_bookings_not_canceled</th>\n",
              "      <th>booking_changes</th>\n",
              "      <th>agent</th>\n",
              "      <th>company</th>\n",
              "      <th>days_in_waiting_list</th>\n",
              "      <th>adr</th>\n",
              "      <th>required_car_parking_spaces</th>\n",
              "      <th>total_of_special_requests</th>\n",
              "    </tr>\n",
              "  </thead>\n",
              "  <tbody>\n",
              "    <tr>\n",
              "      <th>count</th>\n",
              "      <td>119390.000000</td>\n",
              "      <td>119390.000000</td>\n",
              "      <td>119390.000000</td>\n",
              "      <td>119390.000000</td>\n",
              "      <td>119390.000000</td>\n",
              "      <td>119390.000000</td>\n",
              "      <td>119390.000000</td>\n",
              "      <td>119390.000000</td>\n",
              "      <td>119386.000000</td>\n",
              "      <td>119390.000000</td>\n",
              "      <td>119390.000000</td>\n",
              "      <td>119390.000000</td>\n",
              "      <td>119390.000000</td>\n",
              "      <td>119390.000000</td>\n",
              "      <td>103050.000000</td>\n",
              "      <td>6797.000000</td>\n",
              "      <td>119390.000000</td>\n",
              "      <td>119390.000000</td>\n",
              "      <td>119390.000000</td>\n",
              "      <td>119390.000000</td>\n",
              "    </tr>\n",
              "    <tr>\n",
              "      <th>mean</th>\n",
              "      <td>0.370416</td>\n",
              "      <td>104.011416</td>\n",
              "      <td>2016.156554</td>\n",
              "      <td>27.165173</td>\n",
              "      <td>15.798241</td>\n",
              "      <td>0.927599</td>\n",
              "      <td>2.500302</td>\n",
              "      <td>1.856403</td>\n",
              "      <td>0.103890</td>\n",
              "      <td>0.007949</td>\n",
              "      <td>0.031912</td>\n",
              "      <td>0.087118</td>\n",
              "      <td>0.137097</td>\n",
              "      <td>0.221124</td>\n",
              "      <td>86.693382</td>\n",
              "      <td>189.266735</td>\n",
              "      <td>2.321149</td>\n",
              "      <td>101.831122</td>\n",
              "      <td>0.062518</td>\n",
              "      <td>0.571363</td>\n",
              "    </tr>\n",
              "    <tr>\n",
              "      <th>std</th>\n",
              "      <td>0.482918</td>\n",
              "      <td>106.863097</td>\n",
              "      <td>0.707476</td>\n",
              "      <td>13.605138</td>\n",
              "      <td>8.780829</td>\n",
              "      <td>0.998613</td>\n",
              "      <td>1.908286</td>\n",
              "      <td>0.579261</td>\n",
              "      <td>0.398561</td>\n",
              "      <td>0.097436</td>\n",
              "      <td>0.175767</td>\n",
              "      <td>0.844336</td>\n",
              "      <td>1.497437</td>\n",
              "      <td>0.652306</td>\n",
              "      <td>110.774548</td>\n",
              "      <td>131.655015</td>\n",
              "      <td>17.594721</td>\n",
              "      <td>50.535790</td>\n",
              "      <td>0.245291</td>\n",
              "      <td>0.792798</td>\n",
              "    </tr>\n",
              "    <tr>\n",
              "      <th>min</th>\n",
              "      <td>0.000000</td>\n",
              "      <td>0.000000</td>\n",
              "      <td>2015.000000</td>\n",
              "      <td>1.000000</td>\n",
              "      <td>1.000000</td>\n",
              "      <td>0.000000</td>\n",
              "      <td>0.000000</td>\n",
              "      <td>0.000000</td>\n",
              "      <td>0.000000</td>\n",
              "      <td>0.000000</td>\n",
              "      <td>0.000000</td>\n",
              "      <td>0.000000</td>\n",
              "      <td>0.000000</td>\n",
              "      <td>0.000000</td>\n",
              "      <td>1.000000</td>\n",
              "      <td>6.000000</td>\n",
              "      <td>0.000000</td>\n",
              "      <td>-6.380000</td>\n",
              "      <td>0.000000</td>\n",
              "      <td>0.000000</td>\n",
              "    </tr>\n",
              "    <tr>\n",
              "      <th>25%</th>\n",
              "      <td>0.000000</td>\n",
              "      <td>18.000000</td>\n",
              "      <td>2016.000000</td>\n",
              "      <td>16.000000</td>\n",
              "      <td>8.000000</td>\n",
              "      <td>0.000000</td>\n",
              "      <td>1.000000</td>\n",
              "      <td>2.000000</td>\n",
              "      <td>0.000000</td>\n",
              "      <td>0.000000</td>\n",
              "      <td>0.000000</td>\n",
              "      <td>0.000000</td>\n",
              "      <td>0.000000</td>\n",
              "      <td>0.000000</td>\n",
              "      <td>9.000000</td>\n",
              "      <td>62.000000</td>\n",
              "      <td>0.000000</td>\n",
              "      <td>69.290000</td>\n",
              "      <td>0.000000</td>\n",
              "      <td>0.000000</td>\n",
              "    </tr>\n",
              "    <tr>\n",
              "      <th>50%</th>\n",
              "      <td>0.000000</td>\n",
              "      <td>69.000000</td>\n",
              "      <td>2016.000000</td>\n",
              "      <td>28.000000</td>\n",
              "      <td>16.000000</td>\n",
              "      <td>1.000000</td>\n",
              "      <td>2.000000</td>\n",
              "      <td>2.000000</td>\n",
              "      <td>0.000000</td>\n",
              "      <td>0.000000</td>\n",
              "      <td>0.000000</td>\n",
              "      <td>0.000000</td>\n",
              "      <td>0.000000</td>\n",
              "      <td>0.000000</td>\n",
              "      <td>14.000000</td>\n",
              "      <td>179.000000</td>\n",
              "      <td>0.000000</td>\n",
              "      <td>94.575000</td>\n",
              "      <td>0.000000</td>\n",
              "      <td>0.000000</td>\n",
              "    </tr>\n",
              "    <tr>\n",
              "      <th>75%</th>\n",
              "      <td>1.000000</td>\n",
              "      <td>160.000000</td>\n",
              "      <td>2017.000000</td>\n",
              "      <td>38.000000</td>\n",
              "      <td>23.000000</td>\n",
              "      <td>2.000000</td>\n",
              "      <td>3.000000</td>\n",
              "      <td>2.000000</td>\n",
              "      <td>0.000000</td>\n",
              "      <td>0.000000</td>\n",
              "      <td>0.000000</td>\n",
              "      <td>0.000000</td>\n",
              "      <td>0.000000</td>\n",
              "      <td>0.000000</td>\n",
              "      <td>229.000000</td>\n",
              "      <td>270.000000</td>\n",
              "      <td>0.000000</td>\n",
              "      <td>126.000000</td>\n",
              "      <td>0.000000</td>\n",
              "      <td>1.000000</td>\n",
              "    </tr>\n",
              "    <tr>\n",
              "      <th>max</th>\n",
              "      <td>1.000000</td>\n",
              "      <td>737.000000</td>\n",
              "      <td>2017.000000</td>\n",
              "      <td>53.000000</td>\n",
              "      <td>31.000000</td>\n",
              "      <td>19.000000</td>\n",
              "      <td>50.000000</td>\n",
              "      <td>55.000000</td>\n",
              "      <td>10.000000</td>\n",
              "      <td>10.000000</td>\n",
              "      <td>1.000000</td>\n",
              "      <td>26.000000</td>\n",
              "      <td>72.000000</td>\n",
              "      <td>21.000000</td>\n",
              "      <td>535.000000</td>\n",
              "      <td>543.000000</td>\n",
              "      <td>391.000000</td>\n",
              "      <td>5400.000000</td>\n",
              "      <td>8.000000</td>\n",
              "      <td>5.000000</td>\n",
              "    </tr>\n",
              "  </tbody>\n",
              "</table>\n",
              "</div>\n",
              "      <button class=\"colab-df-convert\" onclick=\"convertToInteractive('df-680ce2a5-6877-4816-a055-74f4a5449a80')\"\n",
              "              title=\"Convert this dataframe to an interactive table.\"\n",
              "              style=\"display:none;\">\n",
              "        \n",
              "  <svg xmlns=\"http://www.w3.org/2000/svg\" height=\"24px\"viewBox=\"0 0 24 24\"\n",
              "       width=\"24px\">\n",
              "    <path d=\"M0 0h24v24H0V0z\" fill=\"none\"/>\n",
              "    <path d=\"M18.56 5.44l.94 2.06.94-2.06 2.06-.94-2.06-.94-.94-2.06-.94 2.06-2.06.94zm-11 1L8.5 8.5l.94-2.06 2.06-.94-2.06-.94L8.5 2.5l-.94 2.06-2.06.94zm10 10l.94 2.06.94-2.06 2.06-.94-2.06-.94-.94-2.06-.94 2.06-2.06.94z\"/><path d=\"M17.41 7.96l-1.37-1.37c-.4-.4-.92-.59-1.43-.59-.52 0-1.04.2-1.43.59L10.3 9.45l-7.72 7.72c-.78.78-.78 2.05 0 2.83L4 21.41c.39.39.9.59 1.41.59.51 0 1.02-.2 1.41-.59l7.78-7.78 2.81-2.81c.8-.78.8-2.07 0-2.86zM5.41 20L4 18.59l7.72-7.72 1.47 1.35L5.41 20z\"/>\n",
              "  </svg>\n",
              "      </button>\n",
              "      \n",
              "  <style>\n",
              "    .colab-df-container {\n",
              "      display:flex;\n",
              "      flex-wrap:wrap;\n",
              "      gap: 12px;\n",
              "    }\n",
              "\n",
              "    .colab-df-convert {\n",
              "      background-color: #E8F0FE;\n",
              "      border: none;\n",
              "      border-radius: 50%;\n",
              "      cursor: pointer;\n",
              "      display: none;\n",
              "      fill: #1967D2;\n",
              "      height: 32px;\n",
              "      padding: 0 0 0 0;\n",
              "      width: 32px;\n",
              "    }\n",
              "\n",
              "    .colab-df-convert:hover {\n",
              "      background-color: #E2EBFA;\n",
              "      box-shadow: 0px 1px 2px rgba(60, 64, 67, 0.3), 0px 1px 3px 1px rgba(60, 64, 67, 0.15);\n",
              "      fill: #174EA6;\n",
              "    }\n",
              "\n",
              "    [theme=dark] .colab-df-convert {\n",
              "      background-color: #3B4455;\n",
              "      fill: #D2E3FC;\n",
              "    }\n",
              "\n",
              "    [theme=dark] .colab-df-convert:hover {\n",
              "      background-color: #434B5C;\n",
              "      box-shadow: 0px 1px 3px 1px rgba(0, 0, 0, 0.15);\n",
              "      filter: drop-shadow(0px 1px 2px rgba(0, 0, 0, 0.3));\n",
              "      fill: #FFFFFF;\n",
              "    }\n",
              "  </style>\n",
              "\n",
              "      <script>\n",
              "        const buttonEl =\n",
              "          document.querySelector('#df-680ce2a5-6877-4816-a055-74f4a5449a80 button.colab-df-convert');\n",
              "        buttonEl.style.display =\n",
              "          google.colab.kernel.accessAllowed ? 'block' : 'none';\n",
              "\n",
              "        async function convertToInteractive(key) {\n",
              "          const element = document.querySelector('#df-680ce2a5-6877-4816-a055-74f4a5449a80');\n",
              "          const dataTable =\n",
              "            await google.colab.kernel.invokeFunction('convertToInteractive',\n",
              "                                                     [key], {});\n",
              "          if (!dataTable) return;\n",
              "\n",
              "          const docLinkHtml = 'Like what you see? Visit the ' +\n",
              "            '<a target=\"_blank\" href=https://colab.research.google.com/notebooks/data_table.ipynb>data table notebook</a>'\n",
              "            + ' to learn more about interactive tables.';\n",
              "          element.innerHTML = '';\n",
              "          dataTable['output_type'] = 'display_data';\n",
              "          await google.colab.output.renderOutput(dataTable, element);\n",
              "          const docLink = document.createElement('div');\n",
              "          docLink.innerHTML = docLinkHtml;\n",
              "          element.appendChild(docLink);\n",
              "        }\n",
              "      </script>\n",
              "    </div>\n",
              "  </div>\n",
              "  "
            ]
          },
          "metadata": {},
          "execution_count": 234
        }
      ]
    },
    {
      "cell_type": "code",
      "source": [
        "hotel_df.tail()"
      ],
      "metadata": {
        "id": "UVtm42c-WCWU",
        "colab": {
          "base_uri": "https://localhost:8080/",
          "height": 386
        },
        "outputId": "421d86c4-20d3-44da-d17d-97bca86bc226"
      },
      "execution_count": 235,
      "outputs": [
        {
          "output_type": "execute_result",
          "data": {
            "text/plain": [
              "             hotel  is_canceled  lead_time  arrival_date_year  \\\n",
              "119385  City Hotel            0         23               2017   \n",
              "119386  City Hotel            0        102               2017   \n",
              "119387  City Hotel            0         34               2017   \n",
              "119388  City Hotel            0        109               2017   \n",
              "119389  City Hotel            0        205               2017   \n",
              "\n",
              "       arrival_date_month  arrival_date_week_number  \\\n",
              "119385             August                        35   \n",
              "119386             August                        35   \n",
              "119387             August                        35   \n",
              "119388             August                        35   \n",
              "119389             August                        35   \n",
              "\n",
              "        arrival_date_day_of_month  stays_in_weekend_nights  \\\n",
              "119385                         30                        2   \n",
              "119386                         31                        2   \n",
              "119387                         31                        2   \n",
              "119388                         31                        2   \n",
              "119389                         29                        2   \n",
              "\n",
              "        stays_in_week_nights  adults  ...  deposit_type  agent company  \\\n",
              "119385                     5       2  ...    No Deposit  394.0     NaN   \n",
              "119386                     5       3  ...    No Deposit    9.0     NaN   \n",
              "119387                     5       2  ...    No Deposit    9.0     NaN   \n",
              "119388                     5       2  ...    No Deposit   89.0     NaN   \n",
              "119389                     7       2  ...    No Deposit    9.0     NaN   \n",
              "\n",
              "       days_in_waiting_list customer_type     adr  \\\n",
              "119385                    0     Transient   96.14   \n",
              "119386                    0     Transient  225.43   \n",
              "119387                    0     Transient  157.71   \n",
              "119388                    0     Transient  104.40   \n",
              "119389                    0     Transient  151.20   \n",
              "\n",
              "        required_car_parking_spaces  total_of_special_requests  \\\n",
              "119385                            0                          0   \n",
              "119386                            0                          2   \n",
              "119387                            0                          4   \n",
              "119388                            0                          0   \n",
              "119389                            0                          2   \n",
              "\n",
              "        reservation_status reservation_status_date  \n",
              "119385           Check-Out              2017-09-06  \n",
              "119386           Check-Out              2017-09-07  \n",
              "119387           Check-Out              2017-09-07  \n",
              "119388           Check-Out              2017-09-07  \n",
              "119389           Check-Out              2017-09-07  \n",
              "\n",
              "[5 rows x 32 columns]"
            ],
            "text/html": [
              "\n",
              "  <div id=\"df-a778938e-d9b9-4366-a39a-17b26a611702\">\n",
              "    <div class=\"colab-df-container\">\n",
              "      <div>\n",
              "<style scoped>\n",
              "    .dataframe tbody tr th:only-of-type {\n",
              "        vertical-align: middle;\n",
              "    }\n",
              "\n",
              "    .dataframe tbody tr th {\n",
              "        vertical-align: top;\n",
              "    }\n",
              "\n",
              "    .dataframe thead th {\n",
              "        text-align: right;\n",
              "    }\n",
              "</style>\n",
              "<table border=\"1\" class=\"dataframe\">\n",
              "  <thead>\n",
              "    <tr style=\"text-align: right;\">\n",
              "      <th></th>\n",
              "      <th>hotel</th>\n",
              "      <th>is_canceled</th>\n",
              "      <th>lead_time</th>\n",
              "      <th>arrival_date_year</th>\n",
              "      <th>arrival_date_month</th>\n",
              "      <th>arrival_date_week_number</th>\n",
              "      <th>arrival_date_day_of_month</th>\n",
              "      <th>stays_in_weekend_nights</th>\n",
              "      <th>stays_in_week_nights</th>\n",
              "      <th>adults</th>\n",
              "      <th>...</th>\n",
              "      <th>deposit_type</th>\n",
              "      <th>agent</th>\n",
              "      <th>company</th>\n",
              "      <th>days_in_waiting_list</th>\n",
              "      <th>customer_type</th>\n",
              "      <th>adr</th>\n",
              "      <th>required_car_parking_spaces</th>\n",
              "      <th>total_of_special_requests</th>\n",
              "      <th>reservation_status</th>\n",
              "      <th>reservation_status_date</th>\n",
              "    </tr>\n",
              "  </thead>\n",
              "  <tbody>\n",
              "    <tr>\n",
              "      <th>119385</th>\n",
              "      <td>City Hotel</td>\n",
              "      <td>0</td>\n",
              "      <td>23</td>\n",
              "      <td>2017</td>\n",
              "      <td>August</td>\n",
              "      <td>35</td>\n",
              "      <td>30</td>\n",
              "      <td>2</td>\n",
              "      <td>5</td>\n",
              "      <td>2</td>\n",
              "      <td>...</td>\n",
              "      <td>No Deposit</td>\n",
              "      <td>394.0</td>\n",
              "      <td>NaN</td>\n",
              "      <td>0</td>\n",
              "      <td>Transient</td>\n",
              "      <td>96.14</td>\n",
              "      <td>0</td>\n",
              "      <td>0</td>\n",
              "      <td>Check-Out</td>\n",
              "      <td>2017-09-06</td>\n",
              "    </tr>\n",
              "    <tr>\n",
              "      <th>119386</th>\n",
              "      <td>City Hotel</td>\n",
              "      <td>0</td>\n",
              "      <td>102</td>\n",
              "      <td>2017</td>\n",
              "      <td>August</td>\n",
              "      <td>35</td>\n",
              "      <td>31</td>\n",
              "      <td>2</td>\n",
              "      <td>5</td>\n",
              "      <td>3</td>\n",
              "      <td>...</td>\n",
              "      <td>No Deposit</td>\n",
              "      <td>9.0</td>\n",
              "      <td>NaN</td>\n",
              "      <td>0</td>\n",
              "      <td>Transient</td>\n",
              "      <td>225.43</td>\n",
              "      <td>0</td>\n",
              "      <td>2</td>\n",
              "      <td>Check-Out</td>\n",
              "      <td>2017-09-07</td>\n",
              "    </tr>\n",
              "    <tr>\n",
              "      <th>119387</th>\n",
              "      <td>City Hotel</td>\n",
              "      <td>0</td>\n",
              "      <td>34</td>\n",
              "      <td>2017</td>\n",
              "      <td>August</td>\n",
              "      <td>35</td>\n",
              "      <td>31</td>\n",
              "      <td>2</td>\n",
              "      <td>5</td>\n",
              "      <td>2</td>\n",
              "      <td>...</td>\n",
              "      <td>No Deposit</td>\n",
              "      <td>9.0</td>\n",
              "      <td>NaN</td>\n",
              "      <td>0</td>\n",
              "      <td>Transient</td>\n",
              "      <td>157.71</td>\n",
              "      <td>0</td>\n",
              "      <td>4</td>\n",
              "      <td>Check-Out</td>\n",
              "      <td>2017-09-07</td>\n",
              "    </tr>\n",
              "    <tr>\n",
              "      <th>119388</th>\n",
              "      <td>City Hotel</td>\n",
              "      <td>0</td>\n",
              "      <td>109</td>\n",
              "      <td>2017</td>\n",
              "      <td>August</td>\n",
              "      <td>35</td>\n",
              "      <td>31</td>\n",
              "      <td>2</td>\n",
              "      <td>5</td>\n",
              "      <td>2</td>\n",
              "      <td>...</td>\n",
              "      <td>No Deposit</td>\n",
              "      <td>89.0</td>\n",
              "      <td>NaN</td>\n",
              "      <td>0</td>\n",
              "      <td>Transient</td>\n",
              "      <td>104.40</td>\n",
              "      <td>0</td>\n",
              "      <td>0</td>\n",
              "      <td>Check-Out</td>\n",
              "      <td>2017-09-07</td>\n",
              "    </tr>\n",
              "    <tr>\n",
              "      <th>119389</th>\n",
              "      <td>City Hotel</td>\n",
              "      <td>0</td>\n",
              "      <td>205</td>\n",
              "      <td>2017</td>\n",
              "      <td>August</td>\n",
              "      <td>35</td>\n",
              "      <td>29</td>\n",
              "      <td>2</td>\n",
              "      <td>7</td>\n",
              "      <td>2</td>\n",
              "      <td>...</td>\n",
              "      <td>No Deposit</td>\n",
              "      <td>9.0</td>\n",
              "      <td>NaN</td>\n",
              "      <td>0</td>\n",
              "      <td>Transient</td>\n",
              "      <td>151.20</td>\n",
              "      <td>0</td>\n",
              "      <td>2</td>\n",
              "      <td>Check-Out</td>\n",
              "      <td>2017-09-07</td>\n",
              "    </tr>\n",
              "  </tbody>\n",
              "</table>\n",
              "<p>5 rows × 32 columns</p>\n",
              "</div>\n",
              "      <button class=\"colab-df-convert\" onclick=\"convertToInteractive('df-a778938e-d9b9-4366-a39a-17b26a611702')\"\n",
              "              title=\"Convert this dataframe to an interactive table.\"\n",
              "              style=\"display:none;\">\n",
              "        \n",
              "  <svg xmlns=\"http://www.w3.org/2000/svg\" height=\"24px\"viewBox=\"0 0 24 24\"\n",
              "       width=\"24px\">\n",
              "    <path d=\"M0 0h24v24H0V0z\" fill=\"none\"/>\n",
              "    <path d=\"M18.56 5.44l.94 2.06.94-2.06 2.06-.94-2.06-.94-.94-2.06-.94 2.06-2.06.94zm-11 1L8.5 8.5l.94-2.06 2.06-.94-2.06-.94L8.5 2.5l-.94 2.06-2.06.94zm10 10l.94 2.06.94-2.06 2.06-.94-2.06-.94-.94-2.06-.94 2.06-2.06.94z\"/><path d=\"M17.41 7.96l-1.37-1.37c-.4-.4-.92-.59-1.43-.59-.52 0-1.04.2-1.43.59L10.3 9.45l-7.72 7.72c-.78.78-.78 2.05 0 2.83L4 21.41c.39.39.9.59 1.41.59.51 0 1.02-.2 1.41-.59l7.78-7.78 2.81-2.81c.8-.78.8-2.07 0-2.86zM5.41 20L4 18.59l7.72-7.72 1.47 1.35L5.41 20z\"/>\n",
              "  </svg>\n",
              "      </button>\n",
              "      \n",
              "  <style>\n",
              "    .colab-df-container {\n",
              "      display:flex;\n",
              "      flex-wrap:wrap;\n",
              "      gap: 12px;\n",
              "    }\n",
              "\n",
              "    .colab-df-convert {\n",
              "      background-color: #E8F0FE;\n",
              "      border: none;\n",
              "      border-radius: 50%;\n",
              "      cursor: pointer;\n",
              "      display: none;\n",
              "      fill: #1967D2;\n",
              "      height: 32px;\n",
              "      padding: 0 0 0 0;\n",
              "      width: 32px;\n",
              "    }\n",
              "\n",
              "    .colab-df-convert:hover {\n",
              "      background-color: #E2EBFA;\n",
              "      box-shadow: 0px 1px 2px rgba(60, 64, 67, 0.3), 0px 1px 3px 1px rgba(60, 64, 67, 0.15);\n",
              "      fill: #174EA6;\n",
              "    }\n",
              "\n",
              "    [theme=dark] .colab-df-convert {\n",
              "      background-color: #3B4455;\n",
              "      fill: #D2E3FC;\n",
              "    }\n",
              "\n",
              "    [theme=dark] .colab-df-convert:hover {\n",
              "      background-color: #434B5C;\n",
              "      box-shadow: 0px 1px 3px 1px rgba(0, 0, 0, 0.15);\n",
              "      filter: drop-shadow(0px 1px 2px rgba(0, 0, 0, 0.3));\n",
              "      fill: #FFFFFF;\n",
              "    }\n",
              "  </style>\n",
              "\n",
              "      <script>\n",
              "        const buttonEl =\n",
              "          document.querySelector('#df-a778938e-d9b9-4366-a39a-17b26a611702 button.colab-df-convert');\n",
              "        buttonEl.style.display =\n",
              "          google.colab.kernel.accessAllowed ? 'block' : 'none';\n",
              "\n",
              "        async function convertToInteractive(key) {\n",
              "          const element = document.querySelector('#df-a778938e-d9b9-4366-a39a-17b26a611702');\n",
              "          const dataTable =\n",
              "            await google.colab.kernel.invokeFunction('convertToInteractive',\n",
              "                                                     [key], {});\n",
              "          if (!dataTable) return;\n",
              "\n",
              "          const docLinkHtml = 'Like what you see? Visit the ' +\n",
              "            '<a target=\"_blank\" href=https://colab.research.google.com/notebooks/data_table.ipynb>data table notebook</a>'\n",
              "            + ' to learn more about interactive tables.';\n",
              "          element.innerHTML = '';\n",
              "          dataTable['output_type'] = 'display_data';\n",
              "          await google.colab.output.renderOutput(dataTable, element);\n",
              "          const docLink = document.createElement('div');\n",
              "          docLink.innerHTML = docLinkHtml;\n",
              "          element.appendChild(docLink);\n",
              "        }\n",
              "      </script>\n",
              "    </div>\n",
              "  </div>\n",
              "  "
            ]
          },
          "metadata": {},
          "execution_count": 235
        }
      ]
    },
    {
      "cell_type": "markdown",
      "source": [
        "### **Dataset Rows & Columns count**"
      ],
      "metadata": {
        "id": "7hBIi_osiCS2"
      }
    },
    {
      "cell_type": "code",
      "source": [
        "# Dataset Rows & Columns count\n",
        "hotel_df.shape\n",
        "print(hotel_df.shape)\n",
        "print(f\"total number of rows in given data set is {hotel_df.shape[0]}\")\n",
        "print(f\"total number of columns in given data set is {hotel_df.shape[1]}\")"
      ],
      "metadata": {
        "id": "Kllu7SJgmLij",
        "colab": {
          "base_uri": "https://localhost:8080/"
        },
        "outputId": "2c2c1313-f4dd-4aee-a16c-9e8260a647bf"
      },
      "execution_count": 236,
      "outputs": [
        {
          "output_type": "stream",
          "name": "stdout",
          "text": [
            "(119390, 32)\n",
            "total number of rows in given data set is 119390\n",
            "total number of columns in given data set is 32\n"
          ]
        }
      ]
    },
    {
      "cell_type": "markdown",
      "source": [
        "### **Dataset Information**"
      ],
      "metadata": {
        "id": "JlHwYmJAmNHm"
      }
    },
    {
      "cell_type": "code",
      "source": [
        "# Dataset Info\n",
        "hotel_df.info()"
      ],
      "metadata": {
        "id": "e9hRXRi6meOf",
        "colab": {
          "base_uri": "https://localhost:8080/"
        },
        "outputId": "8e8b379b-f66a-48d5-dd26-851a5dbc62a2"
      },
      "execution_count": 237,
      "outputs": [
        {
          "output_type": "stream",
          "name": "stdout",
          "text": [
            "<class 'pandas.core.frame.DataFrame'>\n",
            "RangeIndex: 119390 entries, 0 to 119389\n",
            "Data columns (total 32 columns):\n",
            " #   Column                          Non-Null Count   Dtype  \n",
            "---  ------                          --------------   -----  \n",
            " 0   hotel                           119390 non-null  object \n",
            " 1   is_canceled                     119390 non-null  int64  \n",
            " 2   lead_time                       119390 non-null  int64  \n",
            " 3   arrival_date_year               119390 non-null  int64  \n",
            " 4   arrival_date_month              119390 non-null  object \n",
            " 5   arrival_date_week_number        119390 non-null  int64  \n",
            " 6   arrival_date_day_of_month       119390 non-null  int64  \n",
            " 7   stays_in_weekend_nights         119390 non-null  int64  \n",
            " 8   stays_in_week_nights            119390 non-null  int64  \n",
            " 9   adults                          119390 non-null  int64  \n",
            " 10  children                        119386 non-null  float64\n",
            " 11  babies                          119390 non-null  int64  \n",
            " 12  meal                            119390 non-null  object \n",
            " 13  country                         118902 non-null  object \n",
            " 14  market_segment                  119390 non-null  object \n",
            " 15  distribution_channel            119390 non-null  object \n",
            " 16  is_repeated_guest               119390 non-null  int64  \n",
            " 17  previous_cancellations          119390 non-null  int64  \n",
            " 18  previous_bookings_not_canceled  119390 non-null  int64  \n",
            " 19  reserved_room_type              119390 non-null  object \n",
            " 20  assigned_room_type              119390 non-null  object \n",
            " 21  booking_changes                 119390 non-null  int64  \n",
            " 22  deposit_type                    119390 non-null  object \n",
            " 23  agent                           103050 non-null  float64\n",
            " 24  company                         6797 non-null    float64\n",
            " 25  days_in_waiting_list            119390 non-null  int64  \n",
            " 26  customer_type                   119390 non-null  object \n",
            " 27  adr                             119390 non-null  float64\n",
            " 28  required_car_parking_spaces     119390 non-null  int64  \n",
            " 29  total_of_special_requests       119390 non-null  int64  \n",
            " 30  reservation_status              119390 non-null  object \n",
            " 31  reservation_status_date         119390 non-null  object \n",
            "dtypes: float64(4), int64(16), object(12)\n",
            "memory usage: 29.1+ MB\n"
          ]
        }
      ]
    },
    {
      "cell_type": "markdown",
      "source": [
        "#### **Duplicate Values**"
      ],
      "metadata": {
        "id": "35m5QtbWiB9F"
      }
    },
    {
      "cell_type": "code",
      "source": [
        "# Dataset Duplicate Value Count\n",
        "len(hotel_df[hotel_df.duplicated()])"
      ],
      "metadata": {
        "id": "1sLdpKYkmox0",
        "colab": {
          "base_uri": "https://localhost:8080/"
        },
        "outputId": "ea1885b9-ea21-4570-98c1-13f09f53e615"
      },
      "execution_count": 238,
      "outputs": [
        {
          "output_type": "execute_result",
          "data": {
            "text/plain": [
              "31994"
            ]
          },
          "metadata": {},
          "execution_count": 238
        }
      ]
    },
    {
      "cell_type": "code",
      "source": [
        "# Dropping duplicate values\n",
        "hotel_df.drop_duplicates(inplace = True)"
      ],
      "metadata": {
        "id": "bQ1Y_fdl6V-P"
      },
      "execution_count": 239,
      "outputs": []
    },
    {
      "cell_type": "code",
      "source": [
        "hotel_df.shape"
      ],
      "metadata": {
        "id": "-Pr66BDG6fN3",
        "colab": {
          "base_uri": "https://localhost:8080/"
        },
        "outputId": "9c7f951b-50bd-4b66-ba0e-33983d5a1134"
      },
      "execution_count": 240,
      "outputs": [
        {
          "output_type": "execute_result",
          "data": {
            "text/plain": [
              "(87396, 32)"
            ]
          },
          "metadata": {},
          "execution_count": 240
        }
      ]
    },
    {
      "cell_type": "code",
      "source": [
        "## Creating a copy of dataframe\n",
        "df_hotel_bookings =hotel_df.copy()"
      ],
      "metadata": {
        "id": "lQNvnefrYnP9"
      },
      "execution_count": 241,
      "outputs": []
    },
    {
      "cell_type": "code",
      "source": [
        "df_hotel_bookings.shape"
      ],
      "metadata": {
        "id": "mAq3ZCkjZMNN",
        "colab": {
          "base_uri": "https://localhost:8080/"
        },
        "outputId": "5807d8c7-e0a3-444b-a663-81d5a4431c5f"
      },
      "execution_count": 242,
      "outputs": [
        {
          "output_type": "execute_result",
          "data": {
            "text/plain": [
              "(87396, 32)"
            ]
          },
          "metadata": {},
          "execution_count": 242
        }
      ]
    },
    {
      "cell_type": "markdown",
      "source": [
        "#### **Missing Values/Null Values**"
      ],
      "metadata": {
        "id": "PoPl-ycgm1ru"
      }
    },
    {
      "cell_type": "code",
      "source": [
        "# Missing Values/Null Values Count\n",
        "df_hotel_bookings.isnull().sum() "
      ],
      "metadata": {
        "id": "GgHWkxvamxVg",
        "colab": {
          "base_uri": "https://localhost:8080/"
        },
        "outputId": "3790a383-36be-49e9-cada-884e6106b003"
      },
      "execution_count": 243,
      "outputs": [
        {
          "output_type": "execute_result",
          "data": {
            "text/plain": [
              "hotel                                 0\n",
              "is_canceled                           0\n",
              "lead_time                             0\n",
              "arrival_date_year                     0\n",
              "arrival_date_month                    0\n",
              "arrival_date_week_number              0\n",
              "arrival_date_day_of_month             0\n",
              "stays_in_weekend_nights               0\n",
              "stays_in_week_nights                  0\n",
              "adults                                0\n",
              "children                              4\n",
              "babies                                0\n",
              "meal                                  0\n",
              "country                             452\n",
              "market_segment                        0\n",
              "distribution_channel                  0\n",
              "is_repeated_guest                     0\n",
              "previous_cancellations                0\n",
              "previous_bookings_not_canceled        0\n",
              "reserved_room_type                    0\n",
              "assigned_room_type                    0\n",
              "booking_changes                       0\n",
              "deposit_type                          0\n",
              "agent                             12193\n",
              "company                           82137\n",
              "days_in_waiting_list                  0\n",
              "customer_type                         0\n",
              "adr                                   0\n",
              "required_car_parking_spaces           0\n",
              "total_of_special_requests             0\n",
              "reservation_status                    0\n",
              "reservation_status_date               0\n",
              "dtype: int64"
            ]
          },
          "metadata": {},
          "execution_count": 243
        }
      ]
    },
    {
      "cell_type": "code",
      "source": [
        "# Visualizing the missing values\n",
        "sns.heatmap(df_hotel_bookings.isnull() )"
      ],
      "metadata": {
        "id": "3q5wnI3om9sJ",
        "colab": {
          "base_uri": "https://localhost:8080/",
          "height": 441
        },
        "outputId": "d4f7a37c-12f1-4319-add5-cee942614d4d"
      },
      "execution_count": 244,
      "outputs": [
        {
          "output_type": "execute_result",
          "data": {
            "text/plain": [
              "<matplotlib.axes._subplots.AxesSubplot at 0x7fee8d072fd0>"
            ]
          },
          "metadata": {},
          "execution_count": 244
        },
        {
          "output_type": "display_data",
          "data": {
            "text/plain": [
              "<Figure size 432x288 with 2 Axes>"
            ],
            "image/png": "[encoded data removed]"
          },
          "metadata": {
            "needs_background": "light"
          }
        }
      ]
    },
    {
      "cell_type": "markdown",
      "source": [
        "### **Dataset Details**"
      ],
      "metadata": {
        "id": "H0kj-8xxnORC"
      }
    },
    {
      "cell_type": "markdown",
      "source": [
        "*The Country list has 488 missing values.\n",
        "\n",
        "*The Agent list has 12193 missing values.\n",
        "\n",
        "*The Company list has 82137 missing values.\n",
        "\n",
        "*The company and agent columns have company number and agent numbers as data. There may be some cases when customer didn't booked hotel via any agent or via any company. So in that case values can be null under these columns."
      ],
      "metadata": {
        "id": "gfoNAAC-nUe_"
      }
    },
    {
      "cell_type": "markdown",
      "source": [
        "###**Understanding Your Variables**"
      ],
      "metadata": {
        "id": "3J8KiMnMurJE"
      }
    },
    {
      "cell_type": "code",
      "source": [
        "# Dataset Columns\n",
        "df_hotel_bookings.columns "
      ],
      "metadata": {
        "id": "j7xfkqrt5Ag5",
        "colab": {
          "base_uri": "https://localhost:8080/"
        },
        "outputId": "11bb70a7-f237-4d11-8f19-d283f02a4e2f"
      },
      "execution_count": 245,
      "outputs": [
        {
          "output_type": "execute_result",
          "data": {
            "text/plain": [
              "Index(['hotel', 'is_canceled', 'lead_time', 'arrival_date_year',\n",
              "       'arrival_date_month', 'arrival_date_week_number',\n",
              "       'arrival_date_day_of_month', 'stays_in_weekend_nights',\n",
              "       'stays_in_week_nights', 'adults', 'children', 'babies', 'meal',\n",
              "       'country', 'market_segment', 'distribution_channel',\n",
              "       'is_repeated_guest', 'previous_cancellations',\n",
              "       'previous_bookings_not_canceled', 'reserved_room_type',\n",
              "       'assigned_room_type', 'booking_changes', 'deposit_type', 'agent',\n",
              "       'company', 'days_in_waiting_list', 'customer_type', 'adr',\n",
              "       'required_car_parking_spaces', 'total_of_special_requests',\n",
              "       'reservation_status', 'reservation_status_date'],\n",
              "      dtype='object')"
            ]
          },
          "metadata": {},
          "execution_count": 245
        }
      ]
    },
    {
      "cell_type": "code",
      "source": [
        "# Dataset Describe\n",
        "df_hotel_bookings.describe()"
      ],
      "metadata": {
        "id": "DnOaZdaE5Q5t",
        "colab": {
          "base_uri": "https://localhost:8080/",
          "height": 364
        },
        "outputId": "e51c05ce-612f-4dd5-94f0-841d7090d282"
      },
      "execution_count": 246,
      "outputs": [
        {
          "output_type": "execute_result",
          "data": {
            "text/plain": [
              "        is_canceled     lead_time  arrival_date_year  \\\n",
              "count  87396.000000  87396.000000       87396.000000   \n",
              "mean       0.274898     79.891368        2016.210296   \n",
              "std        0.446466     86.052325           0.686102   \n",
              "min        0.000000      0.000000        2015.000000   \n",
              "25%        0.000000     11.000000        2016.000000   \n",
              "50%        0.000000     49.000000        2016.000000   \n",
              "75%        1.000000    125.000000        2017.000000   \n",
              "max        1.000000    737.000000        2017.000000   \n",
              "\n",
              "       arrival_date_week_number  arrival_date_day_of_month  \\\n",
              "count              87396.000000               87396.000000   \n",
              "mean                  26.838334                  15.815541   \n",
              "std                   13.674572                   8.835146   \n",
              "min                    1.000000                   1.000000   \n",
              "25%                   16.000000                   8.000000   \n",
              "50%                   27.000000                  16.000000   \n",
              "75%                   37.000000                  23.000000   \n",
              "max                   53.000000                  31.000000   \n",
              "\n",
              "       stays_in_weekend_nights  stays_in_week_nights        adults  \\\n",
              "count             87396.000000          87396.000000  87396.000000   \n",
              "mean                  1.005263              2.625395      1.875795   \n",
              "std                   1.031921              2.053584      0.626500   \n",
              "min                   0.000000              0.000000      0.000000   \n",
              "25%                   0.000000              1.000000      2.000000   \n",
              "50%                   1.000000              2.000000      2.000000   \n",
              "75%                   2.000000              4.000000      2.000000   \n",
              "max                  19.000000             50.000000     55.000000   \n",
              "\n",
              "           children        babies  is_repeated_guest  previous_cancellations  \\\n",
              "count  87392.000000  87396.000000       87396.000000            87396.000000   \n",
              "mean       0.138640      0.010824           0.039075                0.030413   \n",
              "std        0.455881      0.113597           0.193775                0.369145   \n",
              "min        0.000000      0.000000           0.000000                0.000000   \n",
              "25%        0.000000      0.000000           0.000000                0.000000   \n",
              "50%        0.000000      0.000000           0.000000                0.000000   \n",
              "75%        0.000000      0.000000           0.000000                0.000000   \n",
              "max       10.000000     10.000000           1.000000               26.000000   \n",
              "\n",
              "       previous_bookings_not_canceled  booking_changes         agent  \\\n",
              "count                    87396.000000     87396.000000  75203.000000   \n",
              "mean                         0.183990         0.271603     94.138306   \n",
              "std                          1.731894         0.727245    113.188172   \n",
              "min                          0.000000         0.000000      1.000000   \n",
              "25%                          0.000000         0.000000      9.000000   \n",
              "50%                          0.000000         0.000000     14.000000   \n",
              "75%                          0.000000         0.000000    240.000000   \n",
              "max                         72.000000        21.000000    535.000000   \n",
              "\n",
              "           company  days_in_waiting_list           adr  \\\n",
              "count  5259.000000          87396.000000  87396.000000   \n",
              "mean    183.081384              0.749565    106.337246   \n",
              "std     130.557608             10.015731     55.013953   \n",
              "min       6.000000              0.000000     -6.380000   \n",
              "25%      47.000000              0.000000     72.000000   \n",
              "50%     169.000000              0.000000     98.100000   \n",
              "75%     263.000000              0.000000    134.000000   \n",
              "max     543.000000            391.000000   5400.000000   \n",
              "\n",
              "       required_car_parking_spaces  total_of_special_requests  \n",
              "count                 87396.000000               87396.000000  \n",
              "mean                      0.084226                   0.698567  \n",
              "std                       0.281533                   0.831946  \n",
              "min                       0.000000                   0.000000  \n",
              "25%                       0.000000                   0.000000  \n",
              "50%                       0.000000                   0.000000  \n",
              "75%                       0.000000                   1.000000  \n",
              "max                       8.000000                   5.000000  "
            ],
            "text/html": [
              "\n",
              "  <div id=\"df-b9f609e8-6b04-40d6-9259-3011ce4a2cb8\">\n",
              "    <div class=\"colab-df-container\">\n",
              "      <div>\n",
              "<style scoped>\n",
              "    .dataframe tbody tr th:only-of-type {\n",
              "        vertical-align: middle;\n",
              "    }\n",
              "\n",
              "    .dataframe tbody tr th {\n",
              "        vertical-align: top;\n",
              "    }\n",
              "\n",
              "    .dataframe thead th {\n",
              "        text-align: right;\n",
              "    }\n",
              "</style>\n",
              "<table border=\"1\" class=\"dataframe\">\n",
              "  <thead>\n",
              "    <tr style=\"text-align: right;\">\n",
              "      <th></th>\n",
              "      <th>is_canceled</th>\n",
              "      <th>lead_time</th>\n",
              "      <th>arrival_date_year</th>\n",
              "      <th>arrival_date_week_number</th>\n",
              "      <th>arrival_date_day_of_month</th>\n",
              "      <th>stays_in_weekend_nights</th>\n",
              "      <th>stays_in_week_nights</th>\n",
              "      <th>adults</th>\n",
              "      <th>children</th>\n",
              "      <th>babies</th>\n",
              "      <th>is_repeated_guest</th>\n",
              "      <th>previous_cancellations</th>\n",
              "      <th>previous_bookings_not_canceled</th>\n",
              "      <th>booking_changes</th>\n",
              "      <th>agent</th>\n",
              "      <th>company</th>\n",
              "      <th>days_in_waiting_list</th>\n",
              "      <th>adr</th>\n",
              "      <th>required_car_parking_spaces</th>\n",
              "      <th>total_of_special_requests</th>\n",
              "    </tr>\n",
              "  </thead>\n",
              "  <tbody>\n",
              "    <tr>\n",
              "      <th>count</th>\n",
              "      <td>87396.000000</td>\n",
              "      <td>87396.000000</td>\n",
              "      <td>87396.000000</td>\n",
              "      <td>87396.000000</td>\n",
              "      <td>87396.000000</td>\n",
              "      <td>87396.000000</td>\n",
              "      <td>87396.000000</td>\n",
              "      <td>87396.000000</td>\n",
              "      <td>87392.000000</td>\n",
              "      <td>87396.000000</td>\n",
              "      <td>87396.000000</td>\n",
              "      <td>87396.000000</td>\n",
              "      <td>87396.000000</td>\n",
              "      <td>87396.000000</td>\n",
              "      <td>75203.000000</td>\n",
              "      <td>5259.000000</td>\n",
              "      <td>87396.000000</td>\n",
              "      <td>87396.000000</td>\n",
              "      <td>87396.000000</td>\n",
              "      <td>87396.000000</td>\n",
              "    </tr>\n",
              "    <tr>\n",
              "      <th>mean</th>\n",
              "      <td>0.274898</td>\n",
              "      <td>79.891368</td>\n",
              "      <td>2016.210296</td>\n",
              "      <td>26.838334</td>\n",
              "      <td>15.815541</td>\n",
              "      <td>1.005263</td>\n",
              "      <td>2.625395</td>\n",
              "      <td>1.875795</td>\n",
              "      <td>0.138640</td>\n",
              "      <td>0.010824</td>\n",
              "      <td>0.039075</td>\n",
              "      <td>0.030413</td>\n",
              "      <td>0.183990</td>\n",
              "      <td>0.271603</td>\n",
              "      <td>94.138306</td>\n",
              "      <td>183.081384</td>\n",
              "      <td>0.749565</td>\n",
              "      <td>106.337246</td>\n",
              "      <td>0.084226</td>\n",
              "      <td>0.698567</td>\n",
              "    </tr>\n",
              "    <tr>\n",
              "      <th>std</th>\n",
              "      <td>0.446466</td>\n",
              "      <td>86.052325</td>\n",
              "      <td>0.686102</td>\n",
              "      <td>13.674572</td>\n",
              "      <td>8.835146</td>\n",
              "      <td>1.031921</td>\n",
              "      <td>2.053584</td>\n",
              "      <td>0.626500</td>\n",
              "      <td>0.455881</td>\n",
              "      <td>0.113597</td>\n",
              "      <td>0.193775</td>\n",
              "      <td>0.369145</td>\n",
              "      <td>1.731894</td>\n",
              "      <td>0.727245</td>\n",
              "      <td>113.188172</td>\n",
              "      <td>130.557608</td>\n",
              "      <td>10.015731</td>\n",
              "      <td>55.013953</td>\n",
              "      <td>0.281533</td>\n",
              "      <td>0.831946</td>\n",
              "    </tr>\n",
              "    <tr>\n",
              "      <th>min</th>\n",
              "      <td>0.000000</td>\n",
              "      <td>0.000000</td>\n",
              "      <td>2015.000000</td>\n",
              "      <td>1.000000</td>\n",
              "      <td>1.000000</td>\n",
              "      <td>0.000000</td>\n",
              "      <td>0.000000</td>\n",
              "      <td>0.000000</td>\n",
              "      <td>0.000000</td>\n",
              "      <td>0.000000</td>\n",
              "      <td>0.000000</td>\n",
              "      <td>0.000000</td>\n",
              "      <td>0.000000</td>\n",
              "      <td>0.000000</td>\n",
              "      <td>1.000000</td>\n",
              "      <td>6.000000</td>\n",
              "      <td>0.000000</td>\n",
              "      <td>-6.380000</td>\n",
              "      <td>0.000000</td>\n",
              "      <td>0.000000</td>\n",
              "    </tr>\n",
              "    <tr>\n",
              "      <th>25%</th>\n",
              "      <td>0.000000</td>\n",
              "      <td>11.000000</td>\n",
              "      <td>2016.000000</td>\n",
              "      <td>16.000000</td>\n",
              "      <td>8.000000</td>\n",
              "      <td>0.000000</td>\n",
              "      <td>1.000000</td>\n",
              "      <td>2.000000</td>\n",
              "      <td>0.000000</td>\n",
              "      <td>0.000000</td>\n",
              "      <td>0.000000</td>\n",
              "      <td>0.000000</td>\n",
              "      <td>0.000000</td>\n",
              "      <td>0.000000</td>\n",
              "      <td>9.000000</td>\n",
              "      <td>47.000000</td>\n",
              "      <td>0.000000</td>\n",
              "      <td>72.000000</td>\n",
              "      <td>0.000000</td>\n",
              "      <td>0.000000</td>\n",
              "    </tr>\n",
              "    <tr>\n",
              "      <th>50%</th>\n",
              "      <td>0.000000</td>\n",
              "      <td>49.000000</td>\n",
              "      <td>2016.000000</td>\n",
              "      <td>27.000000</td>\n",
              "      <td>16.000000</td>\n",
              "      <td>1.000000</td>\n",
              "      <td>2.000000</td>\n",
              "      <td>2.000000</td>\n",
              "      <td>0.000000</td>\n",
              "      <td>0.000000</td>\n",
              "      <td>0.000000</td>\n",
              "      <td>0.000000</td>\n",
              "      <td>0.000000</td>\n",
              "      <td>0.000000</td>\n",
              "      <td>14.000000</td>\n",
              "      <td>169.000000</td>\n",
              "      <td>0.000000</td>\n",
              "      <td>98.100000</td>\n",
              "      <td>0.000000</td>\n",
              "      <td>0.000000</td>\n",
              "    </tr>\n",
              "    <tr>\n",
              "      <th>75%</th>\n",
              "      <td>1.000000</td>\n",
              "      <td>125.000000</td>\n",
              "      <td>2017.000000</td>\n",
              "      <td>37.000000</td>\n",
              "      <td>23.000000</td>\n",
              "      <td>2.000000</td>\n",
              "      <td>4.000000</td>\n",
              "      <td>2.000000</td>\n",
              "      <td>0.000000</td>\n",
              "      <td>0.000000</td>\n",
              "      <td>0.000000</td>\n",
              "      <td>0.000000</td>\n",
              "      <td>0.000000</td>\n",
              "      <td>0.000000</td>\n",
              "      <td>240.000000</td>\n",
              "      <td>263.000000</td>\n",
              "      <td>0.000000</td>\n",
              "      <td>134.000000</td>\n",
              "      <td>0.000000</td>\n",
              "      <td>1.000000</td>\n",
              "    </tr>\n",
              "    <tr>\n",
              "      <th>max</th>\n",
              "      <td>1.000000</td>\n",
              "      <td>737.000000</td>\n",
              "      <td>2017.000000</td>\n",
              "      <td>53.000000</td>\n",
              "      <td>31.000000</td>\n",
              "      <td>19.000000</td>\n",
              "      <td>50.000000</td>\n",
              "      <td>55.000000</td>\n",
              "      <td>10.000000</td>\n",
              "      <td>10.000000</td>\n",
              "      <td>1.000000</td>\n",
              "      <td>26.000000</td>\n",
              "      <td>72.000000</td>\n",
              "      <td>21.000000</td>\n",
              "      <td>535.000000</td>\n",
              "      <td>543.000000</td>\n",
              "      <td>391.000000</td>\n",
              "      <td>5400.000000</td>\n",
              "      <td>8.000000</td>\n",
              "      <td>5.000000</td>\n",
              "    </tr>\n",
              "  </tbody>\n",
              "</table>\n",
              "</div>\n",
              "      <button class=\"colab-df-convert\" onclick=\"convertToInteractive('df-b9f609e8-6b04-40d6-9259-3011ce4a2cb8')\"\n",
              "              title=\"Convert this dataframe to an interactive table.\"\n",
              "              style=\"display:none;\">\n",
              "        \n",
              "  <svg xmlns=\"http://www.w3.org/2000/svg\" height=\"24px\"viewBox=\"0 0 24 24\"\n",
              "       width=\"24px\">\n",
              "    <path d=\"M0 0h24v24H0V0z\" fill=\"none\"/>\n",
              "    <path d=\"M18.56 5.44l.94 2.06.94-2.06 2.06-.94-2.06-.94-.94-2.06-.94 2.06-2.06.94zm-11 1L8.5 8.5l.94-2.06 2.06-.94-2.06-.94L8.5 2.5l-.94 2.06-2.06.94zm10 10l.94 2.06.94-2.06 2.06-.94-2.06-.94-.94-2.06-.94 2.06-2.06.94z\"/><path d=\"M17.41 7.96l-1.37-1.37c-.4-.4-.92-.59-1.43-.59-.52 0-1.04.2-1.43.59L10.3 9.45l-7.72 7.72c-.78.78-.78 2.05 0 2.83L4 21.41c.39.39.9.59 1.41.59.51 0 1.02-.2 1.41-.59l7.78-7.78 2.81-2.81c.8-.78.8-2.07 0-2.86zM5.41 20L4 18.59l7.72-7.72 1.47 1.35L5.41 20z\"/>\n",
              "  </svg>\n",
              "      </button>\n",
              "      \n",
              "  <style>\n",
              "    .colab-df-container {\n",
              "      display:flex;\n",
              "      flex-wrap:wrap;\n",
              "      gap: 12px;\n",
              "    }\n",
              "\n",
              "    .colab-df-convert {\n",
              "      background-color: #E8F0FE;\n",
              "      border: none;\n",
              "      border-radius: 50%;\n",
              "      cursor: pointer;\n",
              "      display: none;\n",
              "      fill: #1967D2;\n",
              "      height: 32px;\n",
              "      padding: 0 0 0 0;\n",
              "      width: 32px;\n",
              "    }\n",
              "\n",
              "    .colab-df-convert:hover {\n",
              "      background-color: #E2EBFA;\n",
              "      box-shadow: 0px 1px 2px rgba(60, 64, 67, 0.3), 0px 1px 3px 1px rgba(60, 64, 67, 0.15);\n",
              "      fill: #174EA6;\n",
              "    }\n",
              "\n",
              "    [theme=dark] .colab-df-convert {\n",
              "      background-color: #3B4455;\n",
              "      fill: #D2E3FC;\n",
              "    }\n",
              "\n",
              "    [theme=dark] .colab-df-convert:hover {\n",
              "      background-color: #434B5C;\n",
              "      box-shadow: 0px 1px 3px 1px rgba(0, 0, 0, 0.15);\n",
              "      filter: drop-shadow(0px 1px 2px rgba(0, 0, 0, 0.3));\n",
              "      fill: #FFFFFF;\n",
              "    }\n",
              "  </style>\n",
              "\n",
              "      <script>\n",
              "        const buttonEl =\n",
              "          document.querySelector('#df-b9f609e8-6b04-40d6-9259-3011ce4a2cb8 button.colab-df-convert');\n",
              "        buttonEl.style.display =\n",
              "          google.colab.kernel.accessAllowed ? 'block' : 'none';\n",
              "\n",
              "        async function convertToInteractive(key) {\n",
              "          const element = document.querySelector('#df-b9f609e8-6b04-40d6-9259-3011ce4a2cb8');\n",
              "          const dataTable =\n",
              "            await google.colab.kernel.invokeFunction('convertToInteractive',\n",
              "                                                     [key], {});\n",
              "          if (!dataTable) return;\n",
              "\n",
              "          const docLinkHtml = 'Like what you see? Visit the ' +\n",
              "            '<a target=\"_blank\" href=https://colab.research.google.com/notebooks/data_table.ipynb>data table notebook</a>'\n",
              "            + ' to learn more about interactive tables.';\n",
              "          element.innerHTML = '';\n",
              "          dataTable['output_type'] = 'display_data';\n",
              "          await google.colab.output.renderOutput(dataTable, element);\n",
              "          const docLink = document.createElement('div');\n",
              "          docLink.innerHTML = docLinkHtml;\n",
              "          element.appendChild(docLink);\n",
              "        }\n",
              "      </script>\n",
              "    </div>\n",
              "  </div>\n",
              "  "
            ]
          },
          "metadata": {},
          "execution_count": 246
        }
      ]
    },
    {
      "cell_type": "markdown",
      "source": [
        "**Variables Description**"
      ],
      "metadata": {
        "id": "PBTbrJXOngz2"
      }
    },
    {
      "cell_type": "markdown",
      "source": [
        "* Hotel : H1= Resort Hotel H2=City Hotel\n",
        "* is_cancelled : If the booking was cancelled(1) or not(0)\n",
        "* lead time : Number of days that elapsed between the entering date of the booking into the PMS and the arrival date\n",
        "* arrival_date_year : Year of arrival date\n",
        "  arrival_date_monthb : Month of arrival date\n",
        "  arrival_date_week_number : Week number for arrival date\n",
        "* arrival dat day : Day of arrival date\n",
        "* stays_in_weekend_nights: Number of weekend nights (Saturday or Sunday) the guest stayed or booked to stay at the hotel\n",
        "* stays in week nights : Number of week nights (Monday to Friday) the guest stayed or booked to stay at the hotel\n",
        "* adults : Number of adults\n",
        "* children : Number of children\n",
        "* babies : Number of babies\n",
        "* meal : Kind of meal opted for \n",
        "* country : Country code\n",
        "* market segment : Which segment the customer belongs to\n",
        "* Distribution channel : How the customer accessed the stay- corporate booking/Direct/TA.TO\n",
        "* is_repeated_guest : Guest coming for first time or not\n",
        "* previous cancellation : Was there a cancellation before\n",
        "* previous bookings : Count of previous bookings\n",
        "* reserved_room_type : Type of room reserved\n",
        "* assigned room type : Type of room assigned\n",
        "* booking changes : Count of changes made to booking\n",
        "* deposit type : Deposit type\n",
        "* agent :  Booked through agent\n",
        "* days in waiting list : Number of days in waiting list\n",
        "* customer_type : Type of customer\n",
        "* required car parking : If car parking is required\n",
        "* total_of_special_req : Number of additional special requirements.\n",
        "* reservation status : Reservation of status\n",
        "* reservation_status_date : Date of the specific status\n",
        "\n",
        "\n",
        "\n",
        "\n"
      ],
      "metadata": {
        "id": "gy0jYuXhajTC"
      }
    },
    {
      "cell_type": "markdown",
      "source": [
        "### **Lets Explore Our data and Analyse it.**"
      ],
      "metadata": {
        "id": "GFi8svNrquKZ"
      }
    },
    {
      "cell_type": "markdown",
      "source": [
        "###**Check Unique Values for each variable.**"
      ],
      "metadata": {
        "id": "u3PMJOP6ngxN"
      }
    },
    {
      "cell_type": "code",
      "source": [
        "# Check Unique Values for each variable.\n",
        "for i in df_hotel_bookings.columns.tolist():\n",
        "  print(\"No. of unique values in \",i,\"is\",df_hotel_bookings[i].nunique(),\".\")\n",
        "     "
      ],
      "metadata": {
        "id": "zms12Yq5n-jE",
        "colab": {
          "base_uri": "https://localhost:8080/"
        },
        "outputId": "bfff8d42-345e-4d8b-a93e-81f2a10d3e9a"
      },
      "execution_count": 247,
      "outputs": [
        {
          "output_type": "stream",
          "name": "stdout",
          "text": [
            "No. of unique values in  hotel is 2 .\n",
            "No. of unique values in  is_canceled is 2 .\n",
            "No. of unique values in  lead_time is 479 .\n",
            "No. of unique values in  arrival_date_year is 3 .\n",
            "No. of unique values in  arrival_date_month is 12 .\n",
            "No. of unique values in  arrival_date_week_number is 53 .\n",
            "No. of unique values in  arrival_date_day_of_month is 31 .\n",
            "No. of unique values in  stays_in_weekend_nights is 17 .\n",
            "No. of unique values in  stays_in_week_nights is 35 .\n",
            "No. of unique values in  adults is 14 .\n",
            "No. of unique values in  children is 5 .\n",
            "No. of unique values in  babies is 5 .\n",
            "No. of unique values in  meal is 5 .\n",
            "No. of unique values in  country is 177 .\n",
            "No. of unique values in  market_segment is 8 .\n",
            "No. of unique values in  distribution_channel is 5 .\n",
            "No. of unique values in  is_repeated_guest is 2 .\n",
            "No. of unique values in  previous_cancellations is 15 .\n",
            "No. of unique values in  previous_bookings_not_canceled is 73 .\n",
            "No. of unique values in  reserved_room_type is 10 .\n",
            "No. of unique values in  assigned_room_type is 12 .\n",
            "No. of unique values in  booking_changes is 21 .\n",
            "No. of unique values in  deposit_type is 3 .\n",
            "No. of unique values in  agent is 333 .\n",
            "No. of unique values in  company is 352 .\n",
            "No. of unique values in  days_in_waiting_list is 128 .\n",
            "No. of unique values in  customer_type is 4 .\n",
            "No. of unique values in  adr is 8879 .\n",
            "No. of unique values in  required_car_parking_spaces is 5 .\n",
            "No. of unique values in  total_of_special_requests is 6 .\n",
            "No. of unique values in  reservation_status is 3 .\n",
            "No. of unique values in  reservation_status_date is 926 .\n"
          ]
        }
      ]
    },
    {
      "cell_type": "code",
      "source": [
        "# Handling missing values\n",
        "df_hotel_bookings.isnull().sum().sort_values(ascending = False)[:6]"
      ],
      "metadata": {
        "id": "mUdt9zI8ur7J",
        "colab": {
          "base_uri": "https://localhost:8080/"
        },
        "outputId": "21be905e-9379-4055-85a6-4467ac3aba90"
      },
      "execution_count": 248,
      "outputs": [
        {
          "output_type": "execute_result",
          "data": {
            "text/plain": [
              "company               82137\n",
              "agent                 12193\n",
              "country                 452\n",
              "children                  4\n",
              "reserved_room_type        0\n",
              "assigned_room_type        0\n",
              "dtype: int64"
            ]
          },
          "metadata": {},
          "execution_count": 248
        }
      ]
    },
    {
      "cell_type": "code",
      "source": [
        "#We will replace null values by 0 in these columns:\n",
        "df_hotel_bookings[['company','agent']] = df_hotel_bookings[['company','agent']].fillna(0)\n"
      ],
      "metadata": {
        "id": "9nGsFVH0zYPF"
      },
      "execution_count": 249,
      "outputs": []
    },
    {
      "cell_type": "code",
      "source": [
        "df_hotel_bookings['children'].unique()"
      ],
      "metadata": {
        "id": "i0CLoxqtzqmV",
        "colab": {
          "base_uri": "https://localhost:8080/"
        },
        "outputId": "c6572714-d412-4353-cce3-b172615d29f6"
      },
      "execution_count": 250,
      "outputs": [
        {
          "output_type": "execute_result",
          "data": {
            "text/plain": [
              "array([ 0.,  1.,  2., 10.,  3., nan])"
            ]
          },
          "metadata": {},
          "execution_count": 250
        }
      ]
    },
    {
      "cell_type": "markdown",
      "source": [
        "The column children has 0 as value which means 0 children were present in group of customers who made that transaction.\n",
        "We will replace the null values under this column with mean value of children.\n",
        "\n",
        "\n",
        "\n",
        "\n"
      ],
      "metadata": {
        "id": "AKGXTgf2sKaP"
      }
    },
    {
      "cell_type": "code",
      "source": [
        "# Replacing null values\n",
        "df_hotel_bookings['children'].fillna(0 , inplace = True)"
      ],
      "metadata": {
        "id": "ZOmjsZu218b-"
      },
      "execution_count": 251,
      "outputs": []
    },
    {
      "cell_type": "markdown",
      "source": [
        "This column represents the country of origin of customer.\n",
        "\n",
        "\n",
        "\n",
        "\n",
        "\n",
        "\n"
      ],
      "metadata": {
        "id": "QDC7SuT5uB3A"
      }
    },
    {
      "cell_type": "code",
      "source": [
        "#We will replace the missing value with the mode of 'country' column.\n",
        "df_hotel_bookings['country'].fillna('others', inplace = True)"
      ],
      "metadata": {
        "id": "96BzB-L70TNa"
      },
      "execution_count": 252,
      "outputs": []
    },
    {
      "cell_type": "code",
      "source": [
        "# Check all null values are removed.\n",
        "df_hotel_bookings.isnull().sum().sort_values(ascending = False)[:6]"
      ],
      "metadata": {
        "id": "3Ghw2h8k0eZT",
        "colab": {
          "base_uri": "https://localhost:8080/"
        },
        "outputId": "9f0ad2b6-9fa8-427b-dccd-940574c74c31"
      },
      "execution_count": 253,
      "outputs": [
        {
          "output_type": "execute_result",
          "data": {
            "text/plain": [
              "hotel                          0\n",
              "is_canceled                    0\n",
              "reservation_status             0\n",
              "total_of_special_requests      0\n",
              "required_car_parking_spaces    0\n",
              "adr                            0\n",
              "dtype: int64"
            ]
          },
          "metadata": {},
          "execution_count": 253
        }
      ]
    },
    {
      "cell_type": "markdown",
      "source": [
        " \n",
        "Adults, babies, and children can’t be zero at the same time, so dropping the rows having all these zero at the same time because will mean that the hotel/room was not even booked."
      ],
      "metadata": {
        "id": "keVLEj6zrxOH"
      }
    },
    {
      "cell_type": "code",
      "source": [
        "df_hotel_bookings[df_hotel_bookings['adults']+df_hotel_bookings['babies']+df_hotel_bookings['children'] == 0].shape"
      ],
      "metadata": {
        "id": "UNb0ORdKrweI",
        "colab": {
          "base_uri": "https://localhost:8080/"
        },
        "outputId": "c76c5729-06d6-4e13-e295-c5e4b99c15e0"
      },
      "execution_count": 254,
      "outputs": [
        {
          "output_type": "execute_result",
          "data": {
            "text/plain": [
              "(166, 32)"
            ]
          },
          "metadata": {},
          "execution_count": 254
        }
      ]
    },
    {
      "cell_type": "code",
      "source": [
        "df_hotel_bookings.drop(df_hotel_bookings[df_hotel_bookings['adults']+df_hotel_bookings['babies']+df_hotel_bookings['children'] == 0].index, inplace = True)"
      ],
      "metadata": {
        "id": "jjMmqYxKuUtP"
      },
      "execution_count": 255,
      "outputs": []
    },
    {
      "cell_type": "code",
      "source": [
        "# Converting datatype of columns 'children', 'company' and 'agent' from float to int.\n",
        "df_hotel_bookings[['children', 'company', 'agent']] = df_hotel_bookings[['children', 'company', 'agent']].astype('int64')"
      ],
      "metadata": {
        "id": "0SE4-eMLzOeo"
      },
      "execution_count": 256,
      "outputs": []
    },
    {
      "cell_type": "code",
      "source": [
        "# changing datatype of column 'reservation_status_date' to data_type.\n",
        "df_hotel_bookings['reservation_status_date'] = pd.to_datetime(df_hotel_bookings['reservation_status_date'], format = '%Y-%m-%d')"
      ],
      "metadata": {
        "id": "DUXWoksKz1P3"
      },
      "execution_count": 257,
      "outputs": []
    },
    {
      "cell_type": "markdown",
      "source": [
        "###**Types of customers w.r.t the hotels.**"
      ],
      "metadata": {
        "id": "2znR82tpu9Pi"
      }
    },
    {
      "cell_type": "code",
      "source": [
        "# Grouping types of customers with respect to both the hotels\n",
        "types_of_customers = df_hotel_bookings.groupby(['hotel','customer_type'])['hotel'].count().unstack()\n",
        "print(types_of_customers)"
      ],
      "metadata": {
        "id": "wk-9a2fpoLcV",
        "colab": {
          "base_uri": "https://localhost:8080/"
        },
        "outputId": "b6b0bfc6-73bc-44e6-c9af-24972071720c"
      },
      "execution_count": 258,
      "outputs": [
        {
          "output_type": "stream",
          "name": "stdout",
          "text": [
            "customer_type  Contract  Group  Transient  Transient-Party\n",
            "hotel                                                     \n",
            "City Hotel         1467    269      44522             7016\n",
            "Resort Hotel       1668    272      27340             4676\n"
          ]
        }
      ]
    },
    {
      "cell_type": "code",
      "source": [
        "# Creating a Bar Plot for representing the types of customers for both the hotels\n",
        "types_of_customers.plot(kind='bar')\n",
        "\n",
        "plt.title('Types of customers')\n",
        "plt.ylabel('Number of customers')\n",
        "plt.xlabel('Hotel')\n",
        "\n",
        "# Fixing the size of the plot\n",
        "plt.rcParams['figure.figsize'] = (5,5)"
      ],
      "metadata": {
        "id": "vWpSgw0ZK6wQ",
        "colab": {
          "base_uri": "https://localhost:8080/",
          "height": 347
        },
        "outputId": "2203271b-dcb9-48dd-c91a-b0aefc1d1da2"
      },
      "execution_count": 259,
      "outputs": [
        {
          "output_type": "display_data",
          "data": {
            "text/plain": [
              "<Figure size 432x288 with 1 Axes>"
            ],
            "image/png": "[encoded data removed]"
          },
          "metadata": {
            "needs_background": "light"
          }
        }
      ]
    },
    {
      "cell_type": "markdown",
      "source": [
        "From above bar plot chart the 'Transient Type' of customer is highest and the 'Group Type' customers are lower."
      ],
      "metadata": {
        "id": "ov_AT-_TmAv1"
      }
    },
    {
      "cell_type": "markdown",
      "source": [
        "###**Repeated and New Customers**"
      ],
      "metadata": {
        "id": "uTh1pofZvCIB"
      }
    },
    {
      "cell_type": "code",
      "source": [
        "# Finding number of new and repeated customers\n",
        "total_repeated_guests = hotel_df.groupby(['hotel','is_repeated_guest','customer_type'])['hotel'].count().unstack()\n",
        "print(total_repeated_guests)"
      ],
      "metadata": {
        "id": "E5F8wpoUOfQH",
        "colab": {
          "base_uri": "https://localhost:8080/"
        },
        "outputId": "3e2196ae-d6a8-43b9-f64a-d83eaa018d92"
      },
      "execution_count": 260,
      "outputs": [
        {
          "output_type": "stream",
          "name": "stdout",
          "text": [
            "customer_type                   Contract  Group  Transient  Transient-Party\n",
            "hotel        is_repeated_guest                                             \n",
            "City Hotel   0                      1457    227      43135             6901\n",
            "             1                        14     44       1506              144\n",
            "Resort Hotel 0                      1649    161      25915             4536\n",
            "             1                        19    112       1430              146\n"
          ]
        }
      ]
    },
    {
      "cell_type": "code",
      "source": [
        "# Creating a Bar Plot for representing the number of new and repeated customers for both the hotels\n",
        "total_repeated_guests.plot(kind='bar')\n",
        "\n",
        "plt.title('New & repeated cusromers')\n",
        "plt.ylabel('Number of customers')\n",
        "plt.xlabel('Hotel')\n",
        "\n",
        "# Fixing the size of the plot\n",
        "plt.rcParams['figure.figsize'] = (5,5)"
      ],
      "metadata": {
        "id": "z6shv_ZON8GB",
        "colab": {
          "base_uri": "https://localhost:8080/",
          "height": 421
        },
        "outputId": "638a6492-f6d0-400e-eff5-f70bf98bb2e9"
      },
      "execution_count": 261,
      "outputs": [
        {
          "output_type": "display_data",
          "data": {
            "text/plain": [
              "<Figure size 360x360 with 1 Axes>"
            ],
            "image/png": "[encoded data removed]"
          },
          "metadata": {
            "needs_background": "light"
          }
        }
      ]
    },
    {
      "cell_type": "markdown",
      "source": [
        "From above bar plot chart the 'Transient Type' of customers are more repeated and the 'Contract Type' customers has less repeated."
      ],
      "metadata": {
        "id": "xUndk4N5m6kC"
      }
    },
    {
      "cell_type": "markdown",
      "source": [
        "###**Top Countries customers**"
      ],
      "metadata": {
        "id": "fDu28ShVvO56"
      }
    },
    {
      "cell_type": "code",
      "source": [
        "# Finding the top countries from where the hotels are attending most guests\n",
        "top_countries_customers = hotel_df['country'].value_counts().head()\n",
        "print(top_countries_customers)"
      ],
      "metadata": {
        "id": "AchBwrdNT0Qn",
        "colab": {
          "base_uri": "https://localhost:8080/"
        },
        "outputId": "207189ba-d91d-4eb9-99b0-03fe7a0180bc"
      },
      "execution_count": 262,
      "outputs": [
        {
          "output_type": "stream",
          "name": "stdout",
          "text": [
            "PRT    27453\n",
            "GBR    10433\n",
            "FRA     8837\n",
            "ESP     7252\n",
            "DEU     5387\n",
            "Name: country, dtype: int64\n"
          ]
        }
      ]
    },
    {
      "cell_type": "code",
      "source": [
        "# Creating a bar plot to visualize visitors from countries\n",
        "\n",
        "top_countries_customers.plot(kind = 'bar')\n",
        "\n",
        "plt.title('Visitors from top countries')\n",
        "plt.ylabel('Number of Visitors')\n",
        "plt.xlabel('Country')\n",
        "\n",
        "# Fixing the size of the plot\n",
        "\n",
        "plt.rcParams['figure.figsize'] = (5,5)"
      ],
      "metadata": {
        "id": "NSo1TM4DUG5O",
        "colab": {
          "base_uri": "https://localhost:8080/",
          "height": 361
        },
        "outputId": "9a9d74ce-5b23-49a9-d39e-9dac0fddc29e"
      },
      "execution_count": 263,
      "outputs": [
        {
          "output_type": "display_data",
          "data": {
            "text/plain": [
              "<Figure size 360x360 with 1 Axes>"
            ],
            "image/png": "[encoded data removed]"
          },
          "metadata": {
            "needs_background": "light"
          }
        }
      ]
    },
    {
      "cell_type": "markdown",
      "source": [
        "From above bar plot chart the most of the visitors are from Portugal(PRT)."
      ],
      "metadata": {
        "id": "6WcaCGJFnfOQ"
      }
    },
    {
      "cell_type": "markdown",
      "source": [
        "###**Change in Bookings**"
      ],
      "metadata": {
        "id": "EybW-SIkvYGK"
      }
    },
    {
      "cell_type": "code",
      "source": [
        "# Finding out which type of cystomers make change in booking the most\n",
        "changes_in_bookings = hotel_df.groupby('customer_type')['booking_changes'].sum()\n",
        "print(changes_in_bookings)"
      ],
      "metadata": {
        "id": "RSpVKbrKZkaZ",
        "colab": {
          "base_uri": "https://localhost:8080/"
        },
        "outputId": "00443553-b38b-4f04-f3c7-4fb04066b45a"
      },
      "execution_count": 264,
      "outputs": [
        {
          "output_type": "stream",
          "name": "stdout",
          "text": [
            "customer_type\n",
            "Contract             471\n",
            "Group                165\n",
            "Transient          16142\n",
            "Transient-Party     6959\n",
            "Name: booking_changes, dtype: int64\n"
          ]
        }
      ]
    },
    {
      "cell_type": "code",
      "source": [
        "# Creating a bar plot to visualize, which type of customers are making the most changes in bookings\n",
        "changes_in_bookings.plot(kind='bar')\n",
        "\n",
        "plt.title('Changes in Bookings')\n",
        "plt.ylabel('Number of Changes in Bookings')\n",
        "plt.xlabel('Types of Customers')\n",
        "\n",
        "# Fixing the size of the plot\n",
        "plt.rcParams['figure.figsize'] = (5,5)"
      ],
      "metadata": {
        "id": "TQAREzoVZymP",
        "colab": {
          "base_uri": "https://localhost:8080/",
          "height": 414
        },
        "outputId": "9612d804-83e1-43df-ddcd-1c6c29bb0b67"
      },
      "execution_count": 265,
      "outputs": [
        {
          "output_type": "display_data",
          "data": {
            "text/plain": [
              "<Figure size 360x360 with 1 Axes>"
            ],
            "image/png": "[encoded data removed]"
          },
          "metadata": {
            "needs_background": "light"
          }
        }
      ]
    },
    {
      "cell_type": "markdown",
      "source": [
        "From Above bar plot chart the 'Transient Type' customer are making more changes in bookings and the 'Group Type' cutsomer are making less changes in bookings."
      ],
      "metadata": {
        "id": "Glkwy_SjoXzo"
      }
    },
    {
      "cell_type": "markdown",
      "source": [
        "##**Exploratory Data Analysis(EDA) and Data Visualization**"
      ],
      "metadata": {
        "id": "GF8Ens_Soomf"
      }
    },
    {
      "cell_type": "markdown",
      "source": [
        "##**1. What is percentage of bookings in City and Resort hotel?**"
      ],
      "metadata": {
        "id": "0wOQAZs5pc--"
      }
    },
    {
      "cell_type": "code",
      "source": [
        "# Chart - 1 visualization code\n",
        "hotel_bookings_percentage = df_hotel_bookings.groupby('hotel')\n",
        "d1 = pd.DataFrame((hotel_bookings_percentage.size()/df_hotel_bookings.shape[0])*100).reset_index().rename(columns = {0:'Booking %'})      #Calculating percentage\n",
        "plt.figure(figsize = (8,5))\n",
        "sns.barplot(x = d1['hotel'], y = d1['Booking %'] )\n",
        "plt.show()"
      ],
      "metadata": {
        "id": "7v_ESjsspbW7",
        "colab": {
          "base_uri": "https://localhost:8080/",
          "height": 334
        },
        "outputId": "3c75772c-cde0-4b8c-9584-4198b7278629"
      },
      "execution_count": 266,
      "outputs": [
        {
          "output_type": "display_data",
          "data": {
            "text/plain": [
              "<Figure size 576x360 with 1 Axes>"
            ],
            "image/png": "[encoded data removed]"
          },
          "metadata": {
            "needs_background": "light"
          }
        }
      ]
    },
    {
      "cell_type": "markdown",
      "source": [
        "**Findings**"
      ],
      "metadata": {
        "id": "lQ7QKXXCp7Bj"
      }
    },
    {
      "cell_type": "markdown",
      "source": [
        "Around 60% bookings are for City hotel and 40% bookings are for Resort hotel."
      ],
      "metadata": {
        "id": "C_j1G7yiqdRP"
      }
    },
    {
      "cell_type": "markdown",
      "source": [
        "##**2. Which hotel has higher lead time?**"
      ],
      "metadata": {
        "id": "BmxVtCrIvhoM"
      }
    },
    {
      "cell_type": "code",
      "source": [
        "# Chart - 2 visualization code\n",
        "lead_df = hotel_bookings_percentage['lead_time'].median().reset_index().rename(columns = {'lead_time':'lead_time'})\n",
        "print(lead_df)\n",
        "plt.figure(figsize = (8,5))\n",
        "sns.barplot(x = lead_df['hotel'], y = lead_df['lead_time'] )\n",
        "plt.show()"
      ],
      "metadata": {
        "id": "R4YgtaqtYklH",
        "colab": {
          "base_uri": "https://localhost:8080/",
          "height": 386
        },
        "outputId": "82343929-a17f-451f-f28d-ab8149d4f3d9"
      },
      "execution_count": 267,
      "outputs": [
        {
          "output_type": "stream",
          "name": "stdout",
          "text": [
            "          hotel  lead_time\n",
            "0    City Hotel       51.0\n",
            "1  Resort Hotel       47.0\n"
          ]
        },
        {
          "output_type": "display_data",
          "data": {
            "text/plain": [
              "<Figure size 576x360 with 1 Axes>"
            ],
            "image/png": "[encoded data removed]"
          },
          "metadata": {
            "needs_background": "light"
          }
        }
      ]
    },
    {
      "cell_type": "markdown",
      "source": [
        "**Findings**"
      ],
      "metadata": {
        "id": "ijmpgYnKYklI"
      }
    },
    {
      "cell_type": "markdown",
      "source": [
        "City hotel has more lead time as compared to resort hotel."
      ],
      "metadata": {
        "id": "PSx9atu2YklI"
      }
    },
    {
      "cell_type": "markdown",
      "source": [
        "##**3.What is total number of canceled Bookings by hotel type?**"
      ],
      "metadata": {
        "id": "EM7whBJCYoAo"
      }
    },
    {
      "cell_type": "code",
      "source": [
        "# Chart - 3 visualization code\n",
        "df_canceled_booking =df_hotel_bookings.groupby(['hotel', 'is_canceled',])['is_canceled'].count().unstack()\n",
        "print(df_canceled_booking)\n",
        "# creating the plot object\n",
        "df_canceled_booking.plot(kind = 'bar')\n",
        "plt.title('Bookings Vs canceled')\n",
        "plt.xlabel('Bookings and cancelation by hotel types(No=0,yes=1')\n",
        "plt.ylabel('Bookings and canceled values')\n"
      ],
      "metadata": {
        "id": "t6GMdE67YoAp",
        "colab": {
          "base_uri": "https://localhost:8080/",
          "height": 488
        },
        "outputId": "4ea82712-de85-4e79-aca5-7faf36920755"
      },
      "execution_count": 268,
      "outputs": [
        {
          "output_type": "stream",
          "name": "stdout",
          "text": [
            "is_canceled       0      1\n",
            "hotel                     \n",
            "City Hotel    37239  16035\n",
            "Resort Hotel  25982   7974\n"
          ]
        },
        {
          "output_type": "execute_result",
          "data": {
            "text/plain": [
              "Text(0, 0.5, 'Bookings and canceled values')"
            ]
          },
          "metadata": {},
          "execution_count": 268
        },
        {
          "output_type": "display_data",
          "data": {
            "text/plain": [
              "<Figure size 360x360 with 1 Axes>"
            ],
            "image/png": "[encoded data removed]"
          },
          "metadata": {
            "needs_background": "light"
          }
        }
      ]
    },
    {
      "cell_type": "markdown",
      "source": [
        "**Findings**"
      ],
      "metadata": {
        "id": "7_wGbZDH7L05"
      }
    },
    {
      "cell_type": "markdown",
      "source": [
        "From above bar plot chart 'City Hotel' has highest bookings and higher cancellation also as compared to resort hotel."
      ],
      "metadata": {
        "id": "uKfTkTS97TCv"
      }
    },
    {
      "cell_type": "markdown",
      "source": [
        "##**4.What is total number of Bookings&Cancellations through market segme**nts?\n"
      ],
      "metadata": {
        "id": "4Of9eVA-YrdM"
      }
    },
    {
      "cell_type": "code",
      "source": [
        "# Chart - 4 visualization code\n",
        "df_Segments = df_hotel_bookings.groupby(['hotel', 'is_canceled',\"market_segment\"])['is_canceled'].count().unstack()\n",
        "df_Segments\n",
        "\n"
      ],
      "metadata": {
        "id": "irlUoxc8YrdO",
        "colab": {
          "base_uri": "https://localhost:8080/",
          "height": 206
        },
        "outputId": "16718d32-4a6f-45cd-9075-71709add2e8b"
      },
      "execution_count": 269,
      "outputs": [
        {
          "output_type": "execute_result",
          "data": {
            "text/plain": [
              "market_segment            Aviation  Complementary  Corporate  Direct  Groups  \\\n",
              "hotel        is_canceled                                                       \n",
              "City Hotel   0               181.0          449.0     1955.0  4626.0  1732.0   \n",
              "             1                45.0           54.0      263.0   912.0   887.0   \n",
              "Resort Hotel 0                 NaN          158.0     1736.0  5417.0  1858.0   \n",
              "             1                 NaN           31.0      246.0   825.0   445.0   \n",
              "\n",
              "market_segment            Offline TA/TO  Online TA  Undefined  \n",
              "hotel        is_canceled                                       \n",
              "City Hotel   0                   5982.0    22314.0        NaN  \n",
              "             1                   1257.0    12615.0        2.0  \n",
              "Resort Hotel 0                   5816.0    10997.0        NaN  \n",
              "             1                    800.0     5627.0        NaN  "
            ],
            "text/html": [
              "\n",
              "  <div id=\"df-82660c4a-be4e-47ad-92a6-b6209a156491\">\n",
              "    <div class=\"colab-df-container\">\n",
              "      <div>\n",
              "<style scoped>\n",
              "    .dataframe tbody tr th:only-of-type {\n",
              "        vertical-align: middle;\n",
              "    }\n",
              "\n",
              "    .dataframe tbody tr th {\n",
              "        vertical-align: top;\n",
              "    }\n",
              "\n",
              "    .dataframe thead th {\n",
              "        text-align: right;\n",
              "    }\n",
              "</style>\n",
              "<table border=\"1\" class=\"dataframe\">\n",
              "  <thead>\n",
              "    <tr style=\"text-align: right;\">\n",
              "      <th></th>\n",
              "      <th>market_segment</th>\n",
              "      <th>Aviation</th>\n",
              "      <th>Complementary</th>\n",
              "      <th>Corporate</th>\n",
              "      <th>Direct</th>\n",
              "      <th>Groups</th>\n",
              "      <th>Offline TA/TO</th>\n",
              "      <th>Online TA</th>\n",
              "      <th>Undefined</th>\n",
              "    </tr>\n",
              "    <tr>\n",
              "      <th>hotel</th>\n",
              "      <th>is_canceled</th>\n",
              "      <th></th>\n",
              "      <th></th>\n",
              "      <th></th>\n",
              "      <th></th>\n",
              "      <th></th>\n",
              "      <th></th>\n",
              "      <th></th>\n",
              "      <th></th>\n",
              "    </tr>\n",
              "  </thead>\n",
              "  <tbody>\n",
              "    <tr>\n",
              "      <th rowspan=\"2\" valign=\"top\">City Hotel</th>\n",
              "      <th>0</th>\n",
              "      <td>181.0</td>\n",
              "      <td>449.0</td>\n",
              "      <td>1955.0</td>\n",
              "      <td>4626.0</td>\n",
              "      <td>1732.0</td>\n",
              "      <td>5982.0</td>\n",
              "      <td>22314.0</td>\n",
              "      <td>NaN</td>\n",
              "    </tr>\n",
              "    <tr>\n",
              "      <th>1</th>\n",
              "      <td>45.0</td>\n",
              "      <td>54.0</td>\n",
              "      <td>263.0</td>\n",
              "      <td>912.0</td>\n",
              "      <td>887.0</td>\n",
              "      <td>1257.0</td>\n",
              "      <td>12615.0</td>\n",
              "      <td>2.0</td>\n",
              "    </tr>\n",
              "    <tr>\n",
              "      <th rowspan=\"2\" valign=\"top\">Resort Hotel</th>\n",
              "      <th>0</th>\n",
              "      <td>NaN</td>\n",
              "      <td>158.0</td>\n",
              "      <td>1736.0</td>\n",
              "      <td>5417.0</td>\n",
              "      <td>1858.0</td>\n",
              "      <td>5816.0</td>\n",
              "      <td>10997.0</td>\n",
              "      <td>NaN</td>\n",
              "    </tr>\n",
              "    <tr>\n",
              "      <th>1</th>\n",
              "      <td>NaN</td>\n",
              "      <td>31.0</td>\n",
              "      <td>246.0</td>\n",
              "      <td>825.0</td>\n",
              "      <td>445.0</td>\n",
              "      <td>800.0</td>\n",
              "      <td>5627.0</td>\n",
              "      <td>NaN</td>\n",
              "    </tr>\n",
              "  </tbody>\n",
              "</table>\n",
              "</div>\n",
              "      <button class=\"colab-df-convert\" onclick=\"convertToInteractive('df-82660c4a-be4e-47ad-92a6-b6209a156491')\"\n",
              "              title=\"Convert this dataframe to an interactive table.\"\n",
              "              style=\"display:none;\">\n",
              "        \n",
              "  <svg xmlns=\"http://www.w3.org/2000/svg\" height=\"24px\"viewBox=\"0 0 24 24\"\n",
              "       width=\"24px\">\n",
              "    <path d=\"M0 0h24v24H0V0z\" fill=\"none\"/>\n",
              "    <path d=\"M18.56 5.44l.94 2.06.94-2.06 2.06-.94-2.06-.94-.94-2.06-.94 2.06-2.06.94zm-11 1L8.5 8.5l.94-2.06 2.06-.94-2.06-.94L8.5 2.5l-.94 2.06-2.06.94zm10 10l.94 2.06.94-2.06 2.06-.94-2.06-.94-.94-2.06-.94 2.06-2.06.94z\"/><path d=\"M17.41 7.96l-1.37-1.37c-.4-.4-.92-.59-1.43-.59-.52 0-1.04.2-1.43.59L10.3 9.45l-7.72 7.72c-.78.78-.78 2.05 0 2.83L4 21.41c.39.39.9.59 1.41.59.51 0 1.02-.2 1.41-.59l7.78-7.78 2.81-2.81c.8-.78.8-2.07 0-2.86zM5.41 20L4 18.59l7.72-7.72 1.47 1.35L5.41 20z\"/>\n",
              "  </svg>\n",
              "      </button>\n",
              "      \n",
              "  <style>\n",
              "    .colab-df-container {\n",
              "      display:flex;\n",
              "      flex-wrap:wrap;\n",
              "      gap: 12px;\n",
              "    }\n",
              "\n",
              "    .colab-df-convert {\n",
              "      background-color: #E8F0FE;\n",
              "      border: none;\n",
              "      border-radius: 50%;\n",
              "      cursor: pointer;\n",
              "      display: none;\n",
              "      fill: #1967D2;\n",
              "      height: 32px;\n",
              "      padding: 0 0 0 0;\n",
              "      width: 32px;\n",
              "    }\n",
              "\n",
              "    .colab-df-convert:hover {\n",
              "      background-color: #E2EBFA;\n",
              "      box-shadow: 0px 1px 2px rgba(60, 64, 67, 0.3), 0px 1px 3px 1px rgba(60, 64, 67, 0.15);\n",
              "      fill: #174EA6;\n",
              "    }\n",
              "\n",
              "    [theme=dark] .colab-df-convert {\n",
              "      background-color: #3B4455;\n",
              "      fill: #D2E3FC;\n",
              "    }\n",
              "\n",
              "    [theme=dark] .colab-df-convert:hover {\n",
              "      background-color: #434B5C;\n",
              "      box-shadow: 0px 1px 3px 1px rgba(0, 0, 0, 0.15);\n",
              "      filter: drop-shadow(0px 1px 2px rgba(0, 0, 0, 0.3));\n",
              "      fill: #FFFFFF;\n",
              "    }\n",
              "  </style>\n",
              "\n",
              "      <script>\n",
              "        const buttonEl =\n",
              "          document.querySelector('#df-82660c4a-be4e-47ad-92a6-b6209a156491 button.colab-df-convert');\n",
              "        buttonEl.style.display =\n",
              "          google.colab.kernel.accessAllowed ? 'block' : 'none';\n",
              "\n",
              "        async function convertToInteractive(key) {\n",
              "          const element = document.querySelector('#df-82660c4a-be4e-47ad-92a6-b6209a156491');\n",
              "          const dataTable =\n",
              "            await google.colab.kernel.invokeFunction('convertToInteractive',\n",
              "                                                     [key], {});\n",
              "          if (!dataTable) return;\n",
              "\n",
              "          const docLinkHtml = 'Like what you see? Visit the ' +\n",
              "            '<a target=\"_blank\" href=https://colab.research.google.com/notebooks/data_table.ipynb>data table notebook</a>'\n",
              "            + ' to learn more about interactive tables.';\n",
              "          element.innerHTML = '';\n",
              "          dataTable['output_type'] = 'display_data';\n",
              "          await google.colab.output.renderOutput(dataTable, element);\n",
              "          const docLink = document.createElement('div');\n",
              "          docLink.innerHTML = docLinkHtml;\n",
              "          element.appendChild(docLink);\n",
              "        }\n",
              "      </script>\n",
              "    </div>\n",
              "  </div>\n",
              "  "
            ]
          },
          "metadata": {},
          "execution_count": 269
        }
      ]
    },
    {
      "cell_type": "code",
      "source": [
        "df_Segments.plot(kind = 'bar')\n",
        "plt.title('Cancellation & Bookings Via Market Segments')\n",
        "plt.xlabel('Cancellation & Bookings by Hotel Types')\n",
        "plt.ylabel('Values')\n",
        "     "
      ],
      "metadata": {
        "id": "Onc5H7iGS1k9",
        "colab": {
          "base_uri": "https://localhost:8080/",
          "height": 438
        },
        "outputId": "3e733799-b8df-494f-c973-f7904b200143"
      },
      "execution_count": 270,
      "outputs": [
        {
          "output_type": "execute_result",
          "data": {
            "text/plain": [
              "Text(0, 0.5, 'Values')"
            ]
          },
          "metadata": {},
          "execution_count": 270
        },
        {
          "output_type": "display_data",
          "data": {
            "text/plain": [
              "<Figure size 360x360 with 1 Axes>"
            ],
            "image/png": "[encoded data removed]"
          },
          "metadata": {
            "needs_background": "light"
          }
        }
      ]
    },
    {
      "cell_type": "markdown",
      "source": [
        "**Findings**"
      ],
      "metadata": {
        "id": "F6T5p64dYrdO"
      }
    },
    {
      "cell_type": "markdown",
      "source": [
        "From Above bar plot chart we find that the highest segment from where the booking and cancellation done are Online TA ."
      ],
      "metadata": {
        "id": "Xx8WAJvtYrdO"
      }
    },
    {
      "cell_type": "markdown",
      "source": [
        "##**5.Which year had the highest bookings?**\n"
      ],
      "metadata": {
        "id": "bamQiAODYuh1"
      }
    },
    {
      "cell_type": "code",
      "source": [
        "# Chart - 5 visualization code\n",
        "plt.figure(figsize=(7,7))\n",
        "\n",
        "#  plot with countplot\n",
        "sns.countplot(x=df_hotel_bookings['arrival_date_year'],hue=df_hotel_bookings['hotel'])\n",
        "plt.title(\"Year Wise bookings\")"
      ],
      "metadata": {
        "id": "TIJwrbroYuh3",
        "colab": {
          "base_uri": "https://localhost:8080/",
          "height": 476
        },
        "outputId": "39e0bd86-c54f-42c4-80bf-5b864d67ea03"
      },
      "execution_count": 271,
      "outputs": [
        {
          "output_type": "execute_result",
          "data": {
            "text/plain": [
              "Text(0.5, 1.0, 'Year Wise bookings')"
            ]
          },
          "metadata": {},
          "execution_count": 271
        },
        {
          "output_type": "display_data",
          "data": {
            "text/plain": [
              "<Figure size 504x504 with 1 Axes>"
            ],
            "image/png": "[encoded data removed]"
          },
          "metadata": {
            "needs_background": "light"
          }
        }
      ]
    },
    {
      "cell_type": "markdown",
      "source": [
        "**Findings**"
      ],
      "metadata": {
        "id": "rmia6Yw_9sPB"
      }
    },
    {
      "cell_type": "markdown",
      "source": [
        "*   2016 had the highest booking.\n",
        "*   2015 had the lowest booking.\n",
        "*   Overall City hotels had the most of the bookings.\n",
        "\n",
        "\n",
        "\n",
        "\n",
        "\n",
        "\n"
      ],
      "metadata": {
        "id": "ldXvAinV9vAA"
      }
    },
    {
      "cell_type": "markdown",
      "source": [
        "##**6. Which hotel has longer waiting time?**"
      ],
      "metadata": {
        "id": "OH-pJp9IphqM"
      }
    },
    {
      "cell_type": "code",
      "source": [
        "df_waiting_time = df_hotel_bookings .groupby('hotel')['days_in_waiting_list'].mean().reset_index()\n",
        "df_waiting_time "
      ],
      "metadata": {
        "id": "pKkWXVjpIal5",
        "colab": {
          "base_uri": "https://localhost:8080/",
          "height": 112
        },
        "outputId": "f989774a-6b74-4d3c-8940-8342598d24e2"
      },
      "execution_count": 272,
      "outputs": [
        {
          "output_type": "execute_result",
          "data": {
            "text/plain": [
              "          hotel  days_in_waiting_list\n",
              "0    City Hotel              1.020066\n",
              "1  Resort Hotel              0.316763"
            ],
            "text/html": [
              "\n",
              "  <div id=\"df-69438dc3-68bf-40c7-a4ef-c6128b274025\">\n",
              "    <div class=\"colab-df-container\">\n",
              "      <div>\n",
              "<style scoped>\n",
              "    .dataframe tbody tr th:only-of-type {\n",
              "        vertical-align: middle;\n",
              "    }\n",
              "\n",
              "    .dataframe tbody tr th {\n",
              "        vertical-align: top;\n",
              "    }\n",
              "\n",
              "    .dataframe thead th {\n",
              "        text-align: right;\n",
              "    }\n",
              "</style>\n",
              "<table border=\"1\" class=\"dataframe\">\n",
              "  <thead>\n",
              "    <tr style=\"text-align: right;\">\n",
              "      <th></th>\n",
              "      <th>hotel</th>\n",
              "      <th>days_in_waiting_list</th>\n",
              "    </tr>\n",
              "  </thead>\n",
              "  <tbody>\n",
              "    <tr>\n",
              "      <th>0</th>\n",
              "      <td>City Hotel</td>\n",
              "      <td>1.020066</td>\n",
              "    </tr>\n",
              "    <tr>\n",
              "      <th>1</th>\n",
              "      <td>Resort Hotel</td>\n",
              "      <td>0.316763</td>\n",
              "    </tr>\n",
              "  </tbody>\n",
              "</table>\n",
              "</div>\n",
              "      <button class=\"colab-df-convert\" onclick=\"convertToInteractive('df-69438dc3-68bf-40c7-a4ef-c6128b274025')\"\n",
              "              title=\"Convert this dataframe to an interactive table.\"\n",
              "              style=\"display:none;\">\n",
              "        \n",
              "  <svg xmlns=\"http://www.w3.org/2000/svg\" height=\"24px\"viewBox=\"0 0 24 24\"\n",
              "       width=\"24px\">\n",
              "    <path d=\"M0 0h24v24H0V0z\" fill=\"none\"/>\n",
              "    <path d=\"M18.56 5.44l.94 2.06.94-2.06 2.06-.94-2.06-.94-.94-2.06-.94 2.06-2.06.94zm-11 1L8.5 8.5l.94-2.06 2.06-.94-2.06-.94L8.5 2.5l-.94 2.06-2.06.94zm10 10l.94 2.06.94-2.06 2.06-.94-2.06-.94-.94-2.06-.94 2.06-2.06.94z\"/><path d=\"M17.41 7.96l-1.37-1.37c-.4-.4-.92-.59-1.43-.59-.52 0-1.04.2-1.43.59L10.3 9.45l-7.72 7.72c-.78.78-.78 2.05 0 2.83L4 21.41c.39.39.9.59 1.41.59.51 0 1.02-.2 1.41-.59l7.78-7.78 2.81-2.81c.8-.78.8-2.07 0-2.86zM5.41 20L4 18.59l7.72-7.72 1.47 1.35L5.41 20z\"/>\n",
              "  </svg>\n",
              "      </button>\n",
              "      \n",
              "  <style>\n",
              "    .colab-df-container {\n",
              "      display:flex;\n",
              "      flex-wrap:wrap;\n",
              "      gap: 12px;\n",
              "    }\n",
              "\n",
              "    .colab-df-convert {\n",
              "      background-color: #E8F0FE;\n",
              "      border: none;\n",
              "      border-radius: 50%;\n",
              "      cursor: pointer;\n",
              "      display: none;\n",
              "      fill: #1967D2;\n",
              "      height: 32px;\n",
              "      padding: 0 0 0 0;\n",
              "      width: 32px;\n",
              "    }\n",
              "\n",
              "    .colab-df-convert:hover {\n",
              "      background-color: #E2EBFA;\n",
              "      box-shadow: 0px 1px 2px rgba(60, 64, 67, 0.3), 0px 1px 3px 1px rgba(60, 64, 67, 0.15);\n",
              "      fill: #174EA6;\n",
              "    }\n",
              "\n",
              "    [theme=dark] .colab-df-convert {\n",
              "      background-color: #3B4455;\n",
              "      fill: #D2E3FC;\n",
              "    }\n",
              "\n",
              "    [theme=dark] .colab-df-convert:hover {\n",
              "      background-color: #434B5C;\n",
              "      box-shadow: 0px 1px 3px 1px rgba(0, 0, 0, 0.15);\n",
              "      filter: drop-shadow(0px 1px 2px rgba(0, 0, 0, 0.3));\n",
              "      fill: #FFFFFF;\n",
              "    }\n",
              "  </style>\n",
              "\n",
              "      <script>\n",
              "        const buttonEl =\n",
              "          document.querySelector('#df-69438dc3-68bf-40c7-a4ef-c6128b274025 button.colab-df-convert');\n",
              "        buttonEl.style.display =\n",
              "          google.colab.kernel.accessAllowed ? 'block' : 'none';\n",
              "\n",
              "        async function convertToInteractive(key) {\n",
              "          const element = document.querySelector('#df-69438dc3-68bf-40c7-a4ef-c6128b274025');\n",
              "          const dataTable =\n",
              "            await google.colab.kernel.invokeFunction('convertToInteractive',\n",
              "                                                     [key], {});\n",
              "          if (!dataTable) return;\n",
              "\n",
              "          const docLinkHtml = 'Like what you see? Visit the ' +\n",
              "            '<a target=\"_blank\" href=https://colab.research.google.com/notebooks/data_table.ipynb>data table notebook</a>'\n",
              "            + ' to learn more about interactive tables.';\n",
              "          element.innerHTML = '';\n",
              "          dataTable['output_type'] = 'display_data';\n",
              "          await google.colab.output.renderOutput(dataTable, element);\n",
              "          const docLink = document.createElement('div');\n",
              "          docLink.innerHTML = docLinkHtml;\n",
              "          element.appendChild(docLink);\n",
              "        }\n",
              "      </script>\n",
              "    </div>\n",
              "  </div>\n",
              "  "
            ]
          },
          "metadata": {},
          "execution_count": 272
        }
      ]
    },
    {
      "cell_type": "code",
      "source": [
        "# Chart - 6 visualization code\n",
        "sns.barplot(x=df_waiting_time['hotel'],y=df_waiting_time['days_in_waiting_list'],palette='Greens')\n",
        "plt.xlabel('Hotel')\n",
        "plt.ylabel('Waiting_Time')\n",
        "plt.title('Waiting Time For Each Hotel Type')"
      ],
      "metadata": {
        "id": "tY0kI2VOIy96",
        "colab": {
          "base_uri": "https://localhost:8080/",
          "height": 367
        },
        "outputId": "496ff526-5ba8-4f8a-a878-70fcb33b1055"
      },
      "execution_count": 273,
      "outputs": [
        {
          "output_type": "execute_result",
          "data": {
            "text/plain": [
              "Text(0.5, 1.0, 'Waiting Time For Each Hotel Type')"
            ]
          },
          "metadata": {},
          "execution_count": 273
        },
        {
          "output_type": "display_data",
          "data": {
            "text/plain": [
              "<Figure size 360x360 with 1 Axes>"
            ],
            "image/png": "[encoded data removed]"
          },
          "metadata": {
            "needs_background": "light"
          }
        }
      ]
    },
    {
      "cell_type": "markdown",
      "source": [
        "**Findings**"
      ],
      "metadata": {
        "id": "_ouA3fa0phqN"
      }
    },
    {
      "cell_type": "markdown",
      "source": [
        "We observed that the City Hotels has longer waiting period than the Resort Hotels.Therefore that City Hotels are much busier than the Resort Hotels"
      ],
      "metadata": {
        "id": "VECbqPI7phqN"
      }
    },
    {
      "cell_type": "markdown",
      "source": [
        "##**7.What is the cancellation percentage of bookings?**"
      ],
      "metadata": {
        "id": "PIIx-8_IphqN"
      }
    },
    {
      "cell_type": "code",
      "source": [
        "# Chart - 7 visualization code\n",
        "canceled_bookings = df_hotel_bookings['is_canceled'].value_counts().plot.pie(\n",
        "    explode=[0.02,0.02],\n",
        "    autopct=\"%1.1f%%\",\n",
        "    shadow=True,\n",
        "    figsize=(7,7),fontsize=20)\n",
        "plt.title(\"Cancellation(1) & Non_Cancellation(0) Of Bookings\")"
      ],
      "metadata": {
        "id": "lqAIGUfyphqO",
        "colab": {
          "base_uri": "https://localhost:8080/",
          "height": 444
        },
        "outputId": "e5c1147c-21bc-4191-eea4-97df6b58647c"
      },
      "execution_count": 274,
      "outputs": [
        {
          "output_type": "execute_result",
          "data": {
            "text/plain": [
              "Text(0.5, 1.0, 'Cancellation(1) & Non_Cancellation(0) Of Bookings')"
            ]
          },
          "metadata": {},
          "execution_count": 274
        },
        {
          "output_type": "display_data",
          "data": {
            "text/plain": [
              "<Figure size 504x504 with 1 Axes>"
            ],
            "image/png": "[encoded data removed]"
          },
          "metadata": {}
        }
      ]
    },
    {
      "cell_type": "markdown",
      "source": [
        "**Findings**"
      ],
      "metadata": {
        "id": "r2jJGEOYphqO"
      }
    },
    {
      "cell_type": "markdown",
      "source": [
        "27.5% of the bookings were cancelled."
      ],
      "metadata": {
        "id": "Po6ZPi4hphqO"
      }
    },
    {
      "cell_type": "markdown",
      "source": [
        "##**8. What is the Percentage of repeated guests?**"
      ],
      "metadata": {
        "id": "BZR9WyysphqO"
      }
    },
    {
      "cell_type": "code",
      "source": [
        "# Chart - 8 visualization code\n",
        "percentage_repeated_guests = df_hotel_bookings['is_repeated_guest'].value_counts().plot.pie(\n",
        "    explode=[0.1,0.1],\n",
        "    autopct='%1.1f%%',\n",
        "    shadow=True,\n",
        "    figsize=(7,7),fontsize=15)\n",
        "plt.title(\"Percentage Of Repeated Guests\")"
      ],
      "metadata": {
        "id": "TdPTWpAVphqO",
        "colab": {
          "base_uri": "https://localhost:8080/",
          "height": 444
        },
        "outputId": "8dbfee51-d4f2-4b2e-da45-27e73d6bcc7b"
      },
      "execution_count": 275,
      "outputs": [
        {
          "output_type": "execute_result",
          "data": {
            "text/plain": [
              "Text(0.5, 1.0, 'Percentage Of Repeated Guests')"
            ]
          },
          "metadata": {},
          "execution_count": 275
        },
        {
          "output_type": "display_data",
          "data": {
            "text/plain": [
              "<Figure size 504x504 with 1 Axes>"
            ],
            "image/png": "[encoded data removed]"
          },
          "metadata": {}
        }
      ]
    },
    {
      "cell_type": "markdown",
      "source": [
        "**Findings**"
      ],
      "metadata": {
        "id": "MV1yMp7w_gFq"
      }
    },
    {
      "cell_type": "markdown",
      "source": [
        "Repeated guests are only 3.9%, so to retain the guests, it is important to take feedback from them, with the help of these feedbacks hotel management should make some improvements according to the guest needs and provide services to reach the guests."
      ],
      "metadata": {
        "id": "kHTTiLZ1_hz1"
      }
    },
    {
      "cell_type": "markdown",
      "source": [
        "##**9.What is The Percentage Distribution of Deposit type ?**"
      ],
      "metadata": {
        "id": "YJ55k-q6phqO"
      }
    },
    {
      "cell_type": "code",
      "source": [
        "# Chart - 9 visualization code\n",
        "percentage_deposit_type = df_hotel_bookings['deposit_type'].value_counts().plot.pie(explode=(0.1,0.8,0.4),autopct='%1.1f%%',shadow=True,figsize=(7,8),fontsize=15,labels=None)\n",
        "plt.title(\"Percentage Distribution of deposit type\")\n",
        "labels=df_hotel_bookings['deposit_type'].value_counts().index.tolist()\n",
        "plt.legend(bbox_to_anchor=(0.8, 1), loc='upper left', labels=labels)"
      ],
      "metadata": {
        "id": "B2aS4O1ophqO",
        "colab": {
          "base_uri": "https://localhost:8080/",
          "height": 455
        },
        "outputId": "843c57f4-bb42-42e1-c130-a6db4ccc8646"
      },
      "execution_count": 276,
      "outputs": [
        {
          "output_type": "execute_result",
          "data": {
            "text/plain": [
              "<matplotlib.legend.Legend at 0x7fee8cb9e9d0>"
            ]
          },
          "metadata": {},
          "execution_count": 276
        },
        {
          "output_type": "display_data",
          "data": {
            "text/plain": [
              "<Figure size 504x576 with 1 Axes>"
            ],
            "image/png": "[encoded data removed]"
          },
          "metadata": {}
        }
      ]
    },
    {
      "cell_type": "markdown",
      "source": [
        "**Findings**"
      ],
      "metadata": {
        "id": "OVtJsKN_phqQ"
      }
    },
    {
      "cell_type": "markdown",
      "source": [
        "From above bar plot we find that 98.7 % of guests prefer \"No Deposit\" type of deposit.\n",
        "\n"
      ],
      "metadata": {
        "id": "ngGi97qjphqQ"
      }
    },
    {
      "cell_type": "markdown",
      "source": [
        "##**10. Which type of food is mostly preferred by the guests?**"
      ],
      "metadata": {
        "id": "U2RJ9gkRphqQ"
      }
    },
    {
      "cell_type": "code",
      "source": [
        "# Chart - 10 visualization code\n",
        "sns.countplot(x=df_hotel_bookings['meal']).set(xlabel='Meal',ylabel='Count');"
      ],
      "metadata": {
        "id": "GM7a4YP4phqQ",
        "colab": {
          "base_uri": "https://localhost:8080/",
          "height": 334
        },
        "outputId": "9b1fa146-d756-4391-e1f6-c08c11185079"
      },
      "execution_count": 277,
      "outputs": [
        {
          "output_type": "display_data",
          "data": {
            "text/plain": [
              "<Figure size 360x360 with 1 Axes>"
            ],
            "image/png": "[encoded data removed]"
          },
          "metadata": {
            "needs_background": "light"
          }
        }
      ]
    },
    {
      "cell_type": "markdown",
      "source": [
        "**Findings**"
      ],
      "metadata": {
        "id": "tgIPom80phqQ"
      }
    },
    {
      "cell_type": "markdown",
      "source": [
        "From above chart we found that:\n",
        "* So the most preferred meal type by the guests is BB( Bed and Breakfast).\n",
        "* HB- (Half Board) and SC- (Self Catering) are equally preferred.\n",
        "\n",
        "\n",
        "\n"
      ],
      "metadata": {
        "id": "Qp13pnNzphqQ"
      }
    },
    {
      "cell_type": "markdown",
      "source": [
        "##**11.Which is the most preferred room type by the customers?**"
      ],
      "metadata": {
        "id": "x-EpHcCOp1ci"
      }
    },
    {
      "cell_type": "code",
      "source": [
        "# Chart - 11 visualization code\n",
        "plt.figure(figsize=(6,6))\n",
        "sns.countplot(x=df_hotel_bookings['assigned_room_type'],order=df_hotel_bookings['assigned_room_type'].value_counts().index)\n",
        "plt.xlabel('assigned_room_type')\n",
        "plt.ylabel('Count_of_room_type')\n",
        "plt.title(\"Most Preferred Room Type\")"
      ],
      "metadata": {
        "id": "mAQTIvtqp1cj",
        "colab": {
          "base_uri": "https://localhost:8080/",
          "height": 422
        },
        "outputId": "9be6e9fa-cf0b-4385-a860-3fe4ae3b87b6"
      },
      "execution_count": 278,
      "outputs": [
        {
          "output_type": "execute_result",
          "data": {
            "text/plain": [
              "Text(0.5, 1.0, 'Most Preferred Room Type')"
            ]
          },
          "metadata": {},
          "execution_count": 278
        },
        {
          "output_type": "display_data",
          "data": {
            "text/plain": [
              "<Figure size 432x432 with 1 Axes>"
            ],
            "image/png": "[encoded data removed]"
          },
          "metadata": {
            "needs_background": "light"
          }
        }
      ]
    },
    {
      "cell_type": "markdown",
      "source": [
        "**Findings**"
      ],
      "metadata": {
        "id": "ZYdMsrqVp1ck"
      }
    },
    {
      "cell_type": "markdown",
      "source": [
        "From above chart we observed that mostly guests prefer to stay in the room type\"A\"."
      ],
      "metadata": {
        "id": "lLeLUUtvU04G"
      }
    },
    {
      "cell_type": "markdown",
      "source": [
        "##**12.In which month most of the bookings happened?**"
      ],
      "metadata": {
        "id": "n3dbpmDWp1ck"
      }
    },
    {
      "cell_type": "code",
      "source": [
        "# Chart - 12 visualization code\n",
        "df_arrival_date_month=df_hotel_bookings.groupby(['arrival_date_month'])['hotel'].count().reset_index().rename(columns={'hotel':\"Counts\"})\n",
        "df_arrival_date_month"
      ],
      "metadata": {
        "id": "bwevp1tKp1ck",
        "colab": {
          "base_uri": "https://localhost:8080/",
          "height": 426
        },
        "outputId": "e897aab6-5d61-4b17-a567-82e52ab416d1"
      },
      "execution_count": 279,
      "outputs": [
        {
          "output_type": "execute_result",
          "data": {
            "text/plain": [
              "   arrival_date_month  Counts\n",
              "0               April    7900\n",
              "1              August   11242\n",
              "2            December    5112\n",
              "3            February    6083\n",
              "4             January    4685\n",
              "5                July   10043\n",
              "6                June    7756\n",
              "7               March    7489\n",
              "8                 May    8344\n",
              "9            November    4973\n",
              "10            October    6921\n",
              "11          September    6682"
            ],
            "text/html": [
              "\n",
              "  <div id=\"df-417677c4-3860-423f-8920-2a83ea483edf\">\n",
              "    <div class=\"colab-df-container\">\n",
              "      <div>\n",
              "<style scoped>\n",
              "    .dataframe tbody tr th:only-of-type {\n",
              "        vertical-align: middle;\n",
              "    }\n",
              "\n",
              "    .dataframe tbody tr th {\n",
              "        vertical-align: top;\n",
              "    }\n",
              "\n",
              "    .dataframe thead th {\n",
              "        text-align: right;\n",
              "    }\n",
              "</style>\n",
              "<table border=\"1\" class=\"dataframe\">\n",
              "  <thead>\n",
              "    <tr style=\"text-align: right;\">\n",
              "      <th></th>\n",
              "      <th>arrival_date_month</th>\n",
              "      <th>Counts</th>\n",
              "    </tr>\n",
              "  </thead>\n",
              "  <tbody>\n",
              "    <tr>\n",
              "      <th>0</th>\n",
              "      <td>April</td>\n",
              "      <td>7900</td>\n",
              "    </tr>\n",
              "    <tr>\n",
              "      <th>1</th>\n",
              "      <td>August</td>\n",
              "      <td>11242</td>\n",
              "    </tr>\n",
              "    <tr>\n",
              "      <th>2</th>\n",
              "      <td>December</td>\n",
              "      <td>5112</td>\n",
              "    </tr>\n",
              "    <tr>\n",
              "      <th>3</th>\n",
              "      <td>February</td>\n",
              "      <td>6083</td>\n",
              "    </tr>\n",
              "    <tr>\n",
              "      <th>4</th>\n",
              "      <td>January</td>\n",
              "      <td>4685</td>\n",
              "    </tr>\n",
              "    <tr>\n",
              "      <th>5</th>\n",
              "      <td>July</td>\n",
              "      <td>10043</td>\n",
              "    </tr>\n",
              "    <tr>\n",
              "      <th>6</th>\n",
              "      <td>June</td>\n",
              "      <td>7756</td>\n",
              "    </tr>\n",
              "    <tr>\n",
              "      <th>7</th>\n",
              "      <td>March</td>\n",
              "      <td>7489</td>\n",
              "    </tr>\n",
              "    <tr>\n",
              "      <th>8</th>\n",
              "      <td>May</td>\n",
              "      <td>8344</td>\n",
              "    </tr>\n",
              "    <tr>\n",
              "      <th>9</th>\n",
              "      <td>November</td>\n",
              "      <td>4973</td>\n",
              "    </tr>\n",
              "    <tr>\n",
              "      <th>10</th>\n",
              "      <td>October</td>\n",
              "      <td>6921</td>\n",
              "    </tr>\n",
              "    <tr>\n",
              "      <th>11</th>\n",
              "      <td>September</td>\n",
              "      <td>6682</td>\n",
              "    </tr>\n",
              "  </tbody>\n",
              "</table>\n",
              "</div>\n",
              "      <button class=\"colab-df-convert\" onclick=\"convertToInteractive('df-417677c4-3860-423f-8920-2a83ea483edf')\"\n",
              "              title=\"Convert this dataframe to an interactive table.\"\n",
              "              style=\"display:none;\">\n",
              "        \n",
              "  <svg xmlns=\"http://www.w3.org/2000/svg\" height=\"24px\"viewBox=\"0 0 24 24\"\n",
              "       width=\"24px\">\n",
              "    <path d=\"M0 0h24v24H0V0z\" fill=\"none\"/>\n",
              "    <path d=\"M18.56 5.44l.94 2.06.94-2.06 2.06-.94-2.06-.94-.94-2.06-.94 2.06-2.06.94zm-11 1L8.5 8.5l.94-2.06 2.06-.94-2.06-.94L8.5 2.5l-.94 2.06-2.06.94zm10 10l.94 2.06.94-2.06 2.06-.94-2.06-.94-.94-2.06-.94 2.06-2.06.94z\"/><path d=\"M17.41 7.96l-1.37-1.37c-.4-.4-.92-.59-1.43-.59-.52 0-1.04.2-1.43.59L10.3 9.45l-7.72 7.72c-.78.78-.78 2.05 0 2.83L4 21.41c.39.39.9.59 1.41.59.51 0 1.02-.2 1.41-.59l7.78-7.78 2.81-2.81c.8-.78.8-2.07 0-2.86zM5.41 20L4 18.59l7.72-7.72 1.47 1.35L5.41 20z\"/>\n",
              "  </svg>\n",
              "      </button>\n",
              "      \n",
              "  <style>\n",
              "    .colab-df-container {\n",
              "      display:flex;\n",
              "      flex-wrap:wrap;\n",
              "      gap: 12px;\n",
              "    }\n",
              "\n",
              "    .colab-df-convert {\n",
              "      background-color: #E8F0FE;\n",
              "      border: none;\n",
              "      border-radius: 50%;\n",
              "      cursor: pointer;\n",
              "      display: none;\n",
              "      fill: #1967D2;\n",
              "      height: 32px;\n",
              "      padding: 0 0 0 0;\n",
              "      width: 32px;\n",
              "    }\n",
              "\n",
              "    .colab-df-convert:hover {\n",
              "      background-color: #E2EBFA;\n",
              "      box-shadow: 0px 1px 2px rgba(60, 64, 67, 0.3), 0px 1px 3px 1px rgba(60, 64, 67, 0.15);\n",
              "      fill: #174EA6;\n",
              "    }\n",
              "\n",
              "    [theme=dark] .colab-df-convert {\n",
              "      background-color: #3B4455;\n",
              "      fill: #D2E3FC;\n",
              "    }\n",
              "\n",
              "    [theme=dark] .colab-df-convert:hover {\n",
              "      background-color: #434B5C;\n",
              "      box-shadow: 0px 1px 3px 1px rgba(0, 0, 0, 0.15);\n",
              "      filter: drop-shadow(0px 1px 2px rgba(0, 0, 0, 0.3));\n",
              "      fill: #FFFFFF;\n",
              "    }\n",
              "  </style>\n",
              "\n",
              "      <script>\n",
              "        const buttonEl =\n",
              "          document.querySelector('#df-417677c4-3860-423f-8920-2a83ea483edf button.colab-df-convert');\n",
              "        buttonEl.style.display =\n",
              "          google.colab.kernel.accessAllowed ? 'block' : 'none';\n",
              "\n",
              "        async function convertToInteractive(key) {\n",
              "          const element = document.querySelector('#df-417677c4-3860-423f-8920-2a83ea483edf');\n",
              "          const dataTable =\n",
              "            await google.colab.kernel.invokeFunction('convertToInteractive',\n",
              "                                                     [key], {});\n",
              "          if (!dataTable) return;\n",
              "\n",
              "          const docLinkHtml = 'Like what you see? Visit the ' +\n",
              "            '<a target=\"_blank\" href=https://colab.research.google.com/notebooks/data_table.ipynb>data table notebook</a>'\n",
              "            + ' to learn more about interactive tables.';\n",
              "          element.innerHTML = '';\n",
              "          dataTable['output_type'] = 'display_data';\n",
              "          await google.colab.output.renderOutput(dataTable, element);\n",
              "          const docLink = document.createElement('div');\n",
              "          docLink.innerHTML = docLinkHtml;\n",
              "          element.appendChild(docLink);\n",
              "        }\n",
              "      </script>\n",
              "    </div>\n",
              "  </div>\n",
              "  "
            ]
          },
          "metadata": {},
          "execution_count": 279
        }
      ]
    },
    {
      "cell_type": "code",
      "source": [
        "# Create list of months in order\n",
        "months = ['January', 'February', 'March', 'April', 'May', 'June', 'July', 'August', 'September', 'October', 'November', 'December']\n",
        "# create DataFrame\n",
        "df_arrival_date_month['arrival_date_month']=pd.Categorical(df_arrival_date_month['arrival_date_month'],categories=months,ordered=True)\n",
        "# sorting by arrival_date_month\n",
        "df_arrival_date_month=df_arrival_date_month.sort_values('arrival_date_month')\n"
      ],
      "metadata": {
        "id": "iYcdeRRlPfLS"
      },
      "execution_count": 280,
      "outputs": []
    },
    {
      "cell_type": "code",
      "source": [
        "plt.figure(figsize=(12,7))\n",
        "sns.lineplot(x=df_arrival_date_month['arrival_date_month'],y=df_arrival_date_month['Counts'],linewidth=3,palette='Blues')\n",
        "plt.xlabel('Months')\n",
        "plt.ylabel('Number_Of_Bookings')\n",
        "plt.title('Total Number Of Bookings In Each Month')"
      ],
      "metadata": {
        "id": "Ax8FMlf_QDOT",
        "colab": {
          "base_uri": "https://localhost:8080/",
          "height": 475
        },
        "outputId": "755b951b-3a63-4cac-9694-8e4b7aad2107"
      },
      "execution_count": 281,
      "outputs": [
        {
          "output_type": "execute_result",
          "data": {
            "text/plain": [
              "Text(0.5, 1.0, 'Total Number Of Bookings In Each Month')"
            ]
          },
          "metadata": {},
          "execution_count": 281
        },
        {
          "output_type": "display_data",
          "data": {
            "text/plain": [
              "<Figure size 864x504 with 1 Axes>"
            ],
            "image/png": "[encoded data removed]"
          },
          "metadata": {
            "needs_background": "light"
          }
        }
      ]
    },
    {
      "cell_type": "markdown",
      "source": [
        "**Findings**"
      ],
      "metadata": {
        "id": "ZWILFDl5p1ck"
      }
    },
    {
      "cell_type": "markdown",
      "source": [
        "July and August months had the most Bookings.After august line is deeping and bookings are low in september and octomber so on.Summer vaccation can be the reason for bookings."
      ],
      "metadata": {
        "id": "x-lUsV2mp1ck"
      }
    },
    {
      "cell_type": "markdown",
      "source": [
        "##**13. Which Distribution channel is mostly used for hotel bookings?**"
      ],
      "metadata": {
        "id": "Ag9LCva-p1cl"
      }
    },
    {
      "cell_type": "code",
      "source": [
        "# Chart - 13 visualization code\n",
        "df_distribution_channel= df_hotel_bookings['distribution_channel'].value_counts().reset_index().rename(\n",
        "    columns={'index':'channel', 'distribution_channel':'count'}\n",
        ")\n",
        "labels = df_hotel_bookings['distribution_channel'].value_counts().index.tolist()\n",
        "df_distribution_channel['percentage'] = round(df_distribution_channel['count']*100/df_hotel_bookings.shape[0], 1)\n",
        "sizes = df_distribution_channel['percentage'].tolist()\n"
      ],
      "metadata": {
        "id": "EUfxeq9-p1cl"
      },
      "execution_count": 282,
      "outputs": []
    },
    {
      "cell_type": "code",
      "source": [
        "plt.figure(figsize=(14, 8))\n",
        "df_hotel_bookings['distribution_channel'].value_counts().plot.pie(explode=[0.05, 0.05,0.05,0.05,0.05], \n",
        "                                                    shadow=False, autopct='%1.1f%%', \n",
        "                                                    figsize=(15,8),\n",
        "                                                    fontsize=10,\n",
        "                                                    labels=None)  \n",
        "plt.legend(bbox_to_anchor=(0.85, 1), loc='upper left', labels=labels)\n",
        "plt.title(' Mostly Used Distribution Channel for Hotel Bookings ')"
      ],
      "metadata": {
        "id": "JJm9wh1VU97F",
        "colab": {
          "base_uri": "https://localhost:8080/",
          "height": 499
        },
        "outputId": "092b603c-8867-4f08-8c8c-e9d38fe4b598"
      },
      "execution_count": 283,
      "outputs": [
        {
          "output_type": "execute_result",
          "data": {
            "text/plain": [
              "Text(0.5, 1.0, ' Mostly Used Distribution Channel for Hotel Bookings ')"
            ]
          },
          "metadata": {},
          "execution_count": 283
        },
        {
          "output_type": "display_data",
          "data": {
            "text/plain": [
              "<Figure size 1080x576 with 1 Axes>"
            ],
            "image/png": "[encoded data removed]"
          },
          "metadata": {}
        }
      ]
    },
    {
      "cell_type": "markdown",
      "source": [
        "**Findings**"
      ],
      "metadata": {
        "id": "2cELzS2fp1cl"
      }
    },
    {
      "cell_type": "markdown",
      "source": [
        "We observed that the'TA/TO' is mostly(79.1%) used for booking hotels."
      ],
      "metadata": {
        "id": "ozQPc2_Ip1cl"
      }
    },
    {
      "cell_type": "markdown",
      "source": [
        "##**14. Which distribution channel has the highest cancellation rate?**"
      ],
      "metadata": {
        "id": "NC_X3p0fY2L0"
      }
    },
    {
      "cell_type": "code",
      "source": [
        "# Chart - 14 visualization code\n",
        "df_distribution_canceled = df_hotel_bookings[df_hotel_bookings['is_canceled'] == 1]\n",
        "df_distribution_canceled  = df_distribution_canceled .groupby(['distribution_channel', 'hotel']).size().reset_index().rename(columns={0:'count'})"
      ],
      "metadata": {
        "id": "xyC9zolEZNRQ"
      },
      "execution_count": 284,
      "outputs": []
    },
    {
      "cell_type": "code",
      "source": [
        "plt.figure(figsize=(8, 8))\n",
        "sns.barplot(x='distribution_channel',y='count',hue=\"hotel\",data=df_distribution_canceled)\n",
        "\n",
        "plt.xlabel('Distribution channel')\n",
        "plt.ylabel('counts')\n",
        "plt.title('Cancellation Rate Vs Distribution channel')"
      ],
      "metadata": {
        "id": "9DS2BKtrX8O1",
        "colab": {
          "base_uri": "https://localhost:8080/",
          "height": 530
        },
        "outputId": "c879515f-ee99-4015-fc49-0ff92715f1f8"
      },
      "execution_count": 285,
      "outputs": [
        {
          "output_type": "execute_result",
          "data": {
            "text/plain": [
              "Text(0.5, 1.0, 'Cancellation Rate Vs Distribution channel')"
            ]
          },
          "metadata": {},
          "execution_count": 285
        },
        {
          "output_type": "display_data",
          "data": {
            "text/plain": [
              "<Figure size 576x576 with 1 Axes>"
            ],
            "image/png": "[encoded data removed]"
          },
          "metadata": {
            "needs_background": "light"
          }
        }
      ]
    },
    {
      "cell_type": "markdown",
      "source": [
        "**Findings**"
      ],
      "metadata": {
        "id": "YPEH6qLeZNRQ"
      }
    },
    {
      "cell_type": "markdown",
      "source": [
        "From above bar plot chart we observed that in \"TA/TO\" City hotels has the high cancellation rate compared to resort hotels and in \"Direct\" both the hotels has almost same cancellation rate."
      ],
      "metadata": {
        "id": "imkbztZsDdl8"
      }
    },
    {
      "cell_type": "markdown",
      "source": [
        "##**15.Which Hotel type has the highest ADR(Average Daily Rate)?**"
      ],
      "metadata": {
        "id": "dD89_y9DEWOi"
      }
    },
    {
      "cell_type": "code",
      "source": [
        "df_highest_adr = df_hotel_bookings.groupby('hotel')['adr'].mean().reset_index()\n",
        "df_highest_adr"
      ],
      "metadata": {
        "id": "o58-TEIhveiU",
        "colab": {
          "base_uri": "https://localhost:8080/",
          "height": 112
        },
        "outputId": "6c0cc342-02aa-4b27-e9e2-426daca04d80"
      },
      "execution_count": 286,
      "outputs": [
        {
          "output_type": "execute_result",
          "data": {
            "text/plain": [
              "          hotel         adr\n",
              "0    City Hotel  111.271969\n",
              "1  Resort Hotel   99.059517"
            ],
            "text/html": [
              "\n",
              "  <div id=\"df-931465ad-2809-4807-973a-340b16415c3b\">\n",
              "    <div class=\"colab-df-container\">\n",
              "      <div>\n",
              "<style scoped>\n",
              "    .dataframe tbody tr th:only-of-type {\n",
              "        vertical-align: middle;\n",
              "    }\n",
              "\n",
              "    .dataframe tbody tr th {\n",
              "        vertical-align: top;\n",
              "    }\n",
              "\n",
              "    .dataframe thead th {\n",
              "        text-align: right;\n",
              "    }\n",
              "</style>\n",
              "<table border=\"1\" class=\"dataframe\">\n",
              "  <thead>\n",
              "    <tr style=\"text-align: right;\">\n",
              "      <th></th>\n",
              "      <th>hotel</th>\n",
              "      <th>adr</th>\n",
              "    </tr>\n",
              "  </thead>\n",
              "  <tbody>\n",
              "    <tr>\n",
              "      <th>0</th>\n",
              "      <td>City Hotel</td>\n",
              "      <td>111.271969</td>\n",
              "    </tr>\n",
              "    <tr>\n",
              "      <th>1</th>\n",
              "      <td>Resort Hotel</td>\n",
              "      <td>99.059517</td>\n",
              "    </tr>\n",
              "  </tbody>\n",
              "</table>\n",
              "</div>\n",
              "      <button class=\"colab-df-convert\" onclick=\"convertToInteractive('df-931465ad-2809-4807-973a-340b16415c3b')\"\n",
              "              title=\"Convert this dataframe to an interactive table.\"\n",
              "              style=\"display:none;\">\n",
              "        \n",
              "  <svg xmlns=\"http://www.w3.org/2000/svg\" height=\"24px\"viewBox=\"0 0 24 24\"\n",
              "       width=\"24px\">\n",
              "    <path d=\"M0 0h24v24H0V0z\" fill=\"none\"/>\n",
              "    <path d=\"M18.56 5.44l.94 2.06.94-2.06 2.06-.94-2.06-.94-.94-2.06-.94 2.06-2.06.94zm-11 1L8.5 8.5l.94-2.06 2.06-.94-2.06-.94L8.5 2.5l-.94 2.06-2.06.94zm10 10l.94 2.06.94-2.06 2.06-.94-2.06-.94-.94-2.06-.94 2.06-2.06.94z\"/><path d=\"M17.41 7.96l-1.37-1.37c-.4-.4-.92-.59-1.43-.59-.52 0-1.04.2-1.43.59L10.3 9.45l-7.72 7.72c-.78.78-.78 2.05 0 2.83L4 21.41c.39.39.9.59 1.41.59.51 0 1.02-.2 1.41-.59l7.78-7.78 2.81-2.81c.8-.78.8-2.07 0-2.86zM5.41 20L4 18.59l7.72-7.72 1.47 1.35L5.41 20z\"/>\n",
              "  </svg>\n",
              "      </button>\n",
              "      \n",
              "  <style>\n",
              "    .colab-df-container {\n",
              "      display:flex;\n",
              "      flex-wrap:wrap;\n",
              "      gap: 12px;\n",
              "    }\n",
              "\n",
              "    .colab-df-convert {\n",
              "      background-color: #E8F0FE;\n",
              "      border: none;\n",
              "      border-radius: 50%;\n",
              "      cursor: pointer;\n",
              "      display: none;\n",
              "      fill: #1967D2;\n",
              "      height: 32px;\n",
              "      padding: 0 0 0 0;\n",
              "      width: 32px;\n",
              "    }\n",
              "\n",
              "    .colab-df-convert:hover {\n",
              "      background-color: #E2EBFA;\n",
              "      box-shadow: 0px 1px 2px rgba(60, 64, 67, 0.3), 0px 1px 3px 1px rgba(60, 64, 67, 0.15);\n",
              "      fill: #174EA6;\n",
              "    }\n",
              "\n",
              "    [theme=dark] .colab-df-convert {\n",
              "      background-color: #3B4455;\n",
              "      fill: #D2E3FC;\n",
              "    }\n",
              "\n",
              "    [theme=dark] .colab-df-convert:hover {\n",
              "      background-color: #434B5C;\n",
              "      box-shadow: 0px 1px 3px 1px rgba(0, 0, 0, 0.15);\n",
              "      filter: drop-shadow(0px 1px 2px rgba(0, 0, 0, 0.3));\n",
              "      fill: #FFFFFF;\n",
              "    }\n",
              "  </style>\n",
              "\n",
              "      <script>\n",
              "        const buttonEl =\n",
              "          document.querySelector('#df-931465ad-2809-4807-973a-340b16415c3b button.colab-df-convert');\n",
              "        buttonEl.style.display =\n",
              "          google.colab.kernel.accessAllowed ? 'block' : 'none';\n",
              "\n",
              "        async function convertToInteractive(key) {\n",
              "          const element = document.querySelector('#df-931465ad-2809-4807-973a-340b16415c3b');\n",
              "          const dataTable =\n",
              "            await google.colab.kernel.invokeFunction('convertToInteractive',\n",
              "                                                     [key], {});\n",
              "          if (!dataTable) return;\n",
              "\n",
              "          const docLinkHtml = 'Like what you see? Visit the ' +\n",
              "            '<a target=\"_blank\" href=https://colab.research.google.com/notebooks/data_table.ipynb>data table notebook</a>'\n",
              "            + ' to learn more about interactive tables.';\n",
              "          element.innerHTML = '';\n",
              "          dataTable['output_type'] = 'display_data';\n",
              "          await google.colab.output.renderOutput(dataTable, element);\n",
              "          const docLink = document.createElement('div');\n",
              "          docLink.innerHTML = docLinkHtml;\n",
              "          element.appendChild(docLink);\n",
              "        }\n",
              "      </script>\n",
              "    </div>\n",
              "  </div>\n",
              "  "
            ]
          },
          "metadata": {},
          "execution_count": 286
        }
      ]
    },
    {
      "cell_type": "code",
      "source": [
        "# Chart - 15 visualization code\n",
        "plt.figure(figsize=(7,7))\n",
        "\n",
        "#plot the graph\n",
        "sns.barplot(x=df_highest_adr['hotel'],y=df_highest_adr['adr'],palette='summer')\n",
        "\n",
        "# set labels\n",
        "plt.xlabel('Hotel')\n",
        "plt.ylabel('ADR')\n",
        "plt.title(\"Highest ADR Of Each Hotel type\")"
      ],
      "metadata": {
        "id": "p4JoUokkY9Lq",
        "colab": {
          "base_uri": "https://localhost:8080/",
          "height": 475
        },
        "outputId": "da84fe17-c007-4628-c7d7-01eb860d6fe3"
      },
      "execution_count": 287,
      "outputs": [
        {
          "output_type": "execute_result",
          "data": {
            "text/plain": [
              "Text(0.5, 1.0, 'Highest ADR Of Each Hotel type')"
            ]
          },
          "metadata": {},
          "execution_count": 287
        },
        {
          "output_type": "display_data",
          "data": {
            "text/plain": [
              "<Figure size 504x504 with 1 Axes>"
            ],
            "image/png": "[encoded data removed]"
          },
          "metadata": {
            "needs_background": "light"
          }
        }
      ]
    },
    {
      "cell_type": "markdown",
      "source": [
        "**Findings**"
      ],
      "metadata": {
        "id": "22aHeOlLveiV"
      }
    },
    {
      "cell_type": "markdown",
      "source": [
        "We observed that the Adr is directly proportional to revenue, so if adr increases, revenue will automatically increase.and City hotel has the highest ADR. That means city hotels are generating more revenues than the resort hotels."
      ],
      "metadata": {
        "id": "uPQ8RGwHveiV"
      }
    },
    {
      "cell_type": "markdown",
      "source": [
        "##**16.ADR across different market segment.**"
      ],
      "metadata": {
        "id": "NtJUUPT0ZYR6"
      }
    },
    {
      "cell_type": "code",
      "source": [
        "adr_market_df = df_hotel_bookings.groupby(['market_segment','hotel','is_canceled'])['adr'].mean().reset_index()\n",
        "adr_market_df"
      ],
      "metadata": {
        "id": "okfoUrpcZWcB",
        "colab": {
          "base_uri": "https://localhost:8080/",
          "height": 896
        },
        "outputId": "a927c1ef-d404-4dd0-a801-30fc335f933c"
      },
      "execution_count": 288,
      "outputs": [
        {
          "output_type": "execute_result",
          "data": {
            "text/plain": [
              "   market_segment         hotel  is_canceled         adr\n",
              "0        Aviation    City Hotel            0  100.630829\n",
              "1        Aviation    City Hotel            1  100.544444\n",
              "2   Complementary    City Hotel            0    2.875501\n",
              "3   Complementary    City Hotel            1    2.191296\n",
              "4   Complementary  Resort Hotel            0    4.390127\n",
              "5   Complementary  Resort Hotel            1    1.209677\n",
              "6       Corporate    City Hotel            0   82.079575\n",
              "7       Corporate    City Hotel            1   90.012586\n",
              "8       Corporate  Resort Hotel            0   49.569977\n",
              "9       Corporate  Resort Hotel            1   68.510935\n",
              "10         Direct    City Hotel            0  120.829624\n",
              "11         Direct    City Hotel            1  123.343936\n",
              "12         Direct  Resort Hotel            0  110.152088\n",
              "13         Direct  Resort Hotel            1  130.393709\n",
              "14         Groups    City Hotel            0   86.065029\n",
              "15         Groups    City Hotel            1   83.694104\n",
              "16         Groups  Resort Hotel            0   64.170640\n",
              "17         Groups  Resort Hotel            1   61.675416\n",
              "18  Offline TA/TO    City Hotel            0   85.982270\n",
              "19  Offline TA/TO    City Hotel            1   95.484519\n",
              "20  Offline TA/TO  Resort Hotel            0   74.264852\n",
              "21  Offline TA/TO  Resort Hotel            1   86.384512\n",
              "22      Online TA    City Hotel            0  118.463338\n",
              "23      Online TA    City Hotel            1  122.637824\n",
              "24      Online TA  Resort Hotel            0  107.461988\n",
              "25      Online TA  Resort Hotel            1  129.072667\n",
              "26      Undefined    City Hotel            1   15.000000"
            ],
            "text/html": [
              "\n",
              "  <div id=\"df-12adfea4-5935-4439-9ebd-fb22438ea64a\">\n",
              "    <div class=\"colab-df-container\">\n",
              "      <div>\n",
              "<style scoped>\n",
              "    .dataframe tbody tr th:only-of-type {\n",
              "        vertical-align: middle;\n",
              "    }\n",
              "\n",
              "    .dataframe tbody tr th {\n",
              "        vertical-align: top;\n",
              "    }\n",
              "\n",
              "    .dataframe thead th {\n",
              "        text-align: right;\n",
              "    }\n",
              "</style>\n",
              "<table border=\"1\" class=\"dataframe\">\n",
              "  <thead>\n",
              "    <tr style=\"text-align: right;\">\n",
              "      <th></th>\n",
              "      <th>market_segment</th>\n",
              "      <th>hotel</th>\n",
              "      <th>is_canceled</th>\n",
              "      <th>adr</th>\n",
              "    </tr>\n",
              "  </thead>\n",
              "  <tbody>\n",
              "    <tr>\n",
              "      <th>0</th>\n",
              "      <td>Aviation</td>\n",
              "      <td>City Hotel</td>\n",
              "      <td>0</td>\n",
              "      <td>100.630829</td>\n",
              "    </tr>\n",
              "    <tr>\n",
              "      <th>1</th>\n",
              "      <td>Aviation</td>\n",
              "      <td>City Hotel</td>\n",
              "      <td>1</td>\n",
              "      <td>100.544444</td>\n",
              "    </tr>\n",
              "    <tr>\n",
              "      <th>2</th>\n",
              "      <td>Complementary</td>\n",
              "      <td>City Hotel</td>\n",
              "      <td>0</td>\n",
              "      <td>2.875501</td>\n",
              "    </tr>\n",
              "    <tr>\n",
              "      <th>3</th>\n",
              "      <td>Complementary</td>\n",
              "      <td>City Hotel</td>\n",
              "      <td>1</td>\n",
              "      <td>2.191296</td>\n",
              "    </tr>\n",
              "    <tr>\n",
              "      <th>4</th>\n",
              "      <td>Complementary</td>\n",
              "      <td>Resort Hotel</td>\n",
              "      <td>0</td>\n",
              "      <td>4.390127</td>\n",
              "    </tr>\n",
              "    <tr>\n",
              "      <th>5</th>\n",
              "      <td>Complementary</td>\n",
              "      <td>Resort Hotel</td>\n",
              "      <td>1</td>\n",
              "      <td>1.209677</td>\n",
              "    </tr>\n",
              "    <tr>\n",
              "      <th>6</th>\n",
              "      <td>Corporate</td>\n",
              "      <td>City Hotel</td>\n",
              "      <td>0</td>\n",
              "      <td>82.079575</td>\n",
              "    </tr>\n",
              "    <tr>\n",
              "      <th>7</th>\n",
              "      <td>Corporate</td>\n",
              "      <td>City Hotel</td>\n",
              "      <td>1</td>\n",
              "      <td>90.012586</td>\n",
              "    </tr>\n",
              "    <tr>\n",
              "      <th>8</th>\n",
              "      <td>Corporate</td>\n",
              "      <td>Resort Hotel</td>\n",
              "      <td>0</td>\n",
              "      <td>49.569977</td>\n",
              "    </tr>\n",
              "    <tr>\n",
              "      <th>9</th>\n",
              "      <td>Corporate</td>\n",
              "      <td>Resort Hotel</td>\n",
              "      <td>1</td>\n",
              "      <td>68.510935</td>\n",
              "    </tr>\n",
              "    <tr>\n",
              "      <th>10</th>\n",
              "      <td>Direct</td>\n",
              "      <td>City Hotel</td>\n",
              "      <td>0</td>\n",
              "      <td>120.829624</td>\n",
              "    </tr>\n",
              "    <tr>\n",
              "      <th>11</th>\n",
              "      <td>Direct</td>\n",
              "      <td>City Hotel</td>\n",
              "      <td>1</td>\n",
              "      <td>123.343936</td>\n",
              "    </tr>\n",
              "    <tr>\n",
              "      <th>12</th>\n",
              "      <td>Direct</td>\n",
              "      <td>Resort Hotel</td>\n",
              "      <td>0</td>\n",
              "      <td>110.152088</td>\n",
              "    </tr>\n",
              "    <tr>\n",
              "      <th>13</th>\n",
              "      <td>Direct</td>\n",
              "      <td>Resort Hotel</td>\n",
              "      <td>1</td>\n",
              "      <td>130.393709</td>\n",
              "    </tr>\n",
              "    <tr>\n",
              "      <th>14</th>\n",
              "      <td>Groups</td>\n",
              "      <td>City Hotel</td>\n",
              "      <td>0</td>\n",
              "      <td>86.065029</td>\n",
              "    </tr>\n",
              "    <tr>\n",
              "      <th>15</th>\n",
              "      <td>Groups</td>\n",
              "      <td>City Hotel</td>\n",
              "      <td>1</td>\n",
              "      <td>83.694104</td>\n",
              "    </tr>\n",
              "    <tr>\n",
              "      <th>16</th>\n",
              "      <td>Groups</td>\n",
              "      <td>Resort Hotel</td>\n",
              "      <td>0</td>\n",
              "      <td>64.170640</td>\n",
              "    </tr>\n",
              "    <tr>\n",
              "      <th>17</th>\n",
              "      <td>Groups</td>\n",
              "      <td>Resort Hotel</td>\n",
              "      <td>1</td>\n",
              "      <td>61.675416</td>\n",
              "    </tr>\n",
              "    <tr>\n",
              "      <th>18</th>\n",
              "      <td>Offline TA/TO</td>\n",
              "      <td>City Hotel</td>\n",
              "      <td>0</td>\n",
              "      <td>85.982270</td>\n",
              "    </tr>\n",
              "    <tr>\n",
              "      <th>19</th>\n",
              "      <td>Offline TA/TO</td>\n",
              "      <td>City Hotel</td>\n",
              "      <td>1</td>\n",
              "      <td>95.484519</td>\n",
              "    </tr>\n",
              "    <tr>\n",
              "      <th>20</th>\n",
              "      <td>Offline TA/TO</td>\n",
              "      <td>Resort Hotel</td>\n",
              "      <td>0</td>\n",
              "      <td>74.264852</td>\n",
              "    </tr>\n",
              "    <tr>\n",
              "      <th>21</th>\n",
              "      <td>Offline TA/TO</td>\n",
              "      <td>Resort Hotel</td>\n",
              "      <td>1</td>\n",
              "      <td>86.384512</td>\n",
              "    </tr>\n",
              "    <tr>\n",
              "      <th>22</th>\n",
              "      <td>Online TA</td>\n",
              "      <td>City Hotel</td>\n",
              "      <td>0</td>\n",
              "      <td>118.463338</td>\n",
              "    </tr>\n",
              "    <tr>\n",
              "      <th>23</th>\n",
              "      <td>Online TA</td>\n",
              "      <td>City Hotel</td>\n",
              "      <td>1</td>\n",
              "      <td>122.637824</td>\n",
              "    </tr>\n",
              "    <tr>\n",
              "      <th>24</th>\n",
              "      <td>Online TA</td>\n",
              "      <td>Resort Hotel</td>\n",
              "      <td>0</td>\n",
              "      <td>107.461988</td>\n",
              "    </tr>\n",
              "    <tr>\n",
              "      <th>25</th>\n",
              "      <td>Online TA</td>\n",
              "      <td>Resort Hotel</td>\n",
              "      <td>1</td>\n",
              "      <td>129.072667</td>\n",
              "    </tr>\n",
              "    <tr>\n",
              "      <th>26</th>\n",
              "      <td>Undefined</td>\n",
              "      <td>City Hotel</td>\n",
              "      <td>1</td>\n",
              "      <td>15.000000</td>\n",
              "    </tr>\n",
              "  </tbody>\n",
              "</table>\n",
              "</div>\n",
              "      <button class=\"colab-df-convert\" onclick=\"convertToInteractive('df-12adfea4-5935-4439-9ebd-fb22438ea64a')\"\n",
              "              title=\"Convert this dataframe to an interactive table.\"\n",
              "              style=\"display:none;\">\n",
              "        \n",
              "  <svg xmlns=\"http://www.w3.org/2000/svg\" height=\"24px\"viewBox=\"0 0 24 24\"\n",
              "       width=\"24px\">\n",
              "    <path d=\"M0 0h24v24H0V0z\" fill=\"none\"/>\n",
              "    <path d=\"M18.56 5.44l.94 2.06.94-2.06 2.06-.94-2.06-.94-.94-2.06-.94 2.06-2.06.94zm-11 1L8.5 8.5l.94-2.06 2.06-.94-2.06-.94L8.5 2.5l-.94 2.06-2.06.94zm10 10l.94 2.06.94-2.06 2.06-.94-2.06-.94-.94-2.06-.94 2.06-2.06.94z\"/><path d=\"M17.41 7.96l-1.37-1.37c-.4-.4-.92-.59-1.43-.59-.52 0-1.04.2-1.43.59L10.3 9.45l-7.72 7.72c-.78.78-.78 2.05 0 2.83L4 21.41c.39.39.9.59 1.41.59.51 0 1.02-.2 1.41-.59l7.78-7.78 2.81-2.81c.8-.78.8-2.07 0-2.86zM5.41 20L4 18.59l7.72-7.72 1.47 1.35L5.41 20z\"/>\n",
              "  </svg>\n",
              "      </button>\n",
              "      \n",
              "  <style>\n",
              "    .colab-df-container {\n",
              "      display:flex;\n",
              "      flex-wrap:wrap;\n",
              "      gap: 12px;\n",
              "    }\n",
              "\n",
              "    .colab-df-convert {\n",
              "      background-color: #E8F0FE;\n",
              "      border: none;\n",
              "      border-radius: 50%;\n",
              "      cursor: pointer;\n",
              "      display: none;\n",
              "      fill: #1967D2;\n",
              "      height: 32px;\n",
              "      padding: 0 0 0 0;\n",
              "      width: 32px;\n",
              "    }\n",
              "\n",
              "    .colab-df-convert:hover {\n",
              "      background-color: #E2EBFA;\n",
              "      box-shadow: 0px 1px 2px rgba(60, 64, 67, 0.3), 0px 1px 3px 1px rgba(60, 64, 67, 0.15);\n",
              "      fill: #174EA6;\n",
              "    }\n",
              "\n",
              "    [theme=dark] .colab-df-convert {\n",
              "      background-color: #3B4455;\n",
              "      fill: #D2E3FC;\n",
              "    }\n",
              "\n",
              "    [theme=dark] .colab-df-convert:hover {\n",
              "      background-color: #434B5C;\n",
              "      box-shadow: 0px 1px 3px 1px rgba(0, 0, 0, 0.15);\n",
              "      filter: drop-shadow(0px 1px 2px rgba(0, 0, 0, 0.3));\n",
              "      fill: #FFFFFF;\n",
              "    }\n",
              "  </style>\n",
              "\n",
              "      <script>\n",
              "        const buttonEl =\n",
              "          document.querySelector('#df-12adfea4-5935-4439-9ebd-fb22438ea64a button.colab-df-convert');\n",
              "        buttonEl.style.display =\n",
              "          google.colab.kernel.accessAllowed ? 'block' : 'none';\n",
              "\n",
              "        async function convertToInteractive(key) {\n",
              "          const element = document.querySelector('#df-12adfea4-5935-4439-9ebd-fb22438ea64a');\n",
              "          const dataTable =\n",
              "            await google.colab.kernel.invokeFunction('convertToInteractive',\n",
              "                                                     [key], {});\n",
              "          if (!dataTable) return;\n",
              "\n",
              "          const docLinkHtml = 'Like what you see? Visit the ' +\n",
              "            '<a target=\"_blank\" href=https://colab.research.google.com/notebooks/data_table.ipynb>data table notebook</a>'\n",
              "            + ' to learn more about interactive tables.';\n",
              "          element.innerHTML = '';\n",
              "          dataTable['output_type'] = 'display_data';\n",
              "          await google.colab.output.renderOutput(dataTable, element);\n",
              "          const docLink = document.createElement('div');\n",
              "          docLink.innerHTML = docLinkHtml;\n",
              "          element.appendChild(docLink);\n",
              "        }\n",
              "      </script>\n",
              "    </div>\n",
              "  </div>\n",
              "  "
            ]
          },
          "metadata": {},
          "execution_count": 288
        }
      ]
    },
    {
      "cell_type": "code",
      "source": [
        "# Chart - 16 visualization code\n",
        "plt.figure(figsize=(10,6))\n",
        "sns.barplot(x='market_segment',y='adr',hue='hotel',data=adr_market_df.sort_values(by='adr',ascending=False))\n",
        "plt.title('Adr across market segment')"
      ],
      "metadata": {
        "id": "FQuG4lkRZ4ds",
        "colab": {
          "base_uri": "https://localhost:8080/",
          "height": 422
        },
        "outputId": "27ac693b-7eda-46f0-9fcc-c75c9fc556f3"
      },
      "execution_count": 289,
      "outputs": [
        {
          "output_type": "execute_result",
          "data": {
            "text/plain": [
              "Text(0.5, 1.0, 'Adr across market segment')"
            ]
          },
          "metadata": {},
          "execution_count": 289
        },
        {
          "output_type": "display_data",
          "data": {
            "text/plain": [
              "<Figure size 720x432 with 1 Axes>"
            ],
            "image/png": "[encoded data removed]"
          },
          "metadata": {
            "needs_background": "light"
          }
        }
      ]
    },
    {
      "cell_type": "markdown",
      "source": [
        "**Findings**"
      ],
      "metadata": {
        "id": "MPZ39NIUFAek"
      }
    },
    {
      "cell_type": "markdown",
      "source": [
        "From above bar plot chart we found that 'Direct' and 'Online TA' contribute the most in both types of hotels.The aviation department should focus on increasing 'city hotel' bookings."
      ],
      "metadata": {
        "id": "cmhn-KS6FFZl"
      }
    },
    {
      "cell_type": "markdown",
      "source": [
        "##**17.Finding total of Special requests with respect to customer.**"
      ],
      "metadata": {
        "id": "pCQg_qaubLZq"
      }
    },
    {
      "cell_type": "code",
      "source": [
        "df_special_requests = df_hotel_bookings.groupby(['hotel', 'customer_type','total_of_special_requests'])['customer_type'].count().unstack()\n",
        "df_special_requests"
      ],
      "metadata": {
        "id": "Mm-VXPUHbR0m",
        "colab": {
          "base_uri": "https://localhost:8080/",
          "height": 332
        },
        "outputId": "327978b7-ba66-48e5-c40d-94d4855e389e"
      },
      "execution_count": 290,
      "outputs": [
        {
          "output_type": "execute_result",
          "data": {
            "text/plain": [
              "total_of_special_requests           0        1       2       3      4     5\n",
              "hotel        customer_type                                                 \n",
              "City Hotel   Contract           297.0    597.0   492.0    77.0    3.0   1.0\n",
              "             Group              144.0     79.0    36.0     8.0    2.0   NaN\n",
              "             Transient        21122.0  15577.0  6333.0  1306.0  167.0  17.0\n",
              "             Transient-Party   4703.0   1761.0   459.0    78.0   11.0   4.0\n",
              "Resort Hotel Contract          1082.0    413.0   138.0    31.0    3.0   1.0\n",
              "             Group              153.0     81.0    30.0     6.0    1.0   1.0\n",
              "             Transient        13252.0   9412.0  3860.0   692.0  114.0  10.0\n",
              "             Transient-Party   3036.0   1056.0   447.0   116.0   19.0   2.0"
            ],
            "text/html": [
              "\n",
              "  <div id=\"df-2ed72a42-1d33-4dbf-98e2-e29b2d4ab096\">\n",
              "    <div class=\"colab-df-container\">\n",
              "      <div>\n",
              "<style scoped>\n",
              "    .dataframe tbody tr th:only-of-type {\n",
              "        vertical-align: middle;\n",
              "    }\n",
              "\n",
              "    .dataframe tbody tr th {\n",
              "        vertical-align: top;\n",
              "    }\n",
              "\n",
              "    .dataframe thead th {\n",
              "        text-align: right;\n",
              "    }\n",
              "</style>\n",
              "<table border=\"1\" class=\"dataframe\">\n",
              "  <thead>\n",
              "    <tr style=\"text-align: right;\">\n",
              "      <th></th>\n",
              "      <th>total_of_special_requests</th>\n",
              "      <th>0</th>\n",
              "      <th>1</th>\n",
              "      <th>2</th>\n",
              "      <th>3</th>\n",
              "      <th>4</th>\n",
              "      <th>5</th>\n",
              "    </tr>\n",
              "    <tr>\n",
              "      <th>hotel</th>\n",
              "      <th>customer_type</th>\n",
              "      <th></th>\n",
              "      <th></th>\n",
              "      <th></th>\n",
              "      <th></th>\n",
              "      <th></th>\n",
              "      <th></th>\n",
              "    </tr>\n",
              "  </thead>\n",
              "  <tbody>\n",
              "    <tr>\n",
              "      <th rowspan=\"4\" valign=\"top\">City Hotel</th>\n",
              "      <th>Contract</th>\n",
              "      <td>297.0</td>\n",
              "      <td>597.0</td>\n",
              "      <td>492.0</td>\n",
              "      <td>77.0</td>\n",
              "      <td>3.0</td>\n",
              "      <td>1.0</td>\n",
              "    </tr>\n",
              "    <tr>\n",
              "      <th>Group</th>\n",
              "      <td>144.0</td>\n",
              "      <td>79.0</td>\n",
              "      <td>36.0</td>\n",
              "      <td>8.0</td>\n",
              "      <td>2.0</td>\n",
              "      <td>NaN</td>\n",
              "    </tr>\n",
              "    <tr>\n",
              "      <th>Transient</th>\n",
              "      <td>21122.0</td>\n",
              "      <td>15577.0</td>\n",
              "      <td>6333.0</td>\n",
              "      <td>1306.0</td>\n",
              "      <td>167.0</td>\n",
              "      <td>17.0</td>\n",
              "    </tr>\n",
              "    <tr>\n",
              "      <th>Transient-Party</th>\n",
              "      <td>4703.0</td>\n",
              "      <td>1761.0</td>\n",
              "      <td>459.0</td>\n",
              "      <td>78.0</td>\n",
              "      <td>11.0</td>\n",
              "      <td>4.0</td>\n",
              "    </tr>\n",
              "    <tr>\n",
              "      <th rowspan=\"4\" valign=\"top\">Resort Hotel</th>\n",
              "      <th>Contract</th>\n",
              "      <td>1082.0</td>\n",
              "      <td>413.0</td>\n",
              "      <td>138.0</td>\n",
              "      <td>31.0</td>\n",
              "      <td>3.0</td>\n",
              "      <td>1.0</td>\n",
              "    </tr>\n",
              "    <tr>\n",
              "      <th>Group</th>\n",
              "      <td>153.0</td>\n",
              "      <td>81.0</td>\n",
              "      <td>30.0</td>\n",
              "      <td>6.0</td>\n",
              "      <td>1.0</td>\n",
              "      <td>1.0</td>\n",
              "    </tr>\n",
              "    <tr>\n",
              "      <th>Transient</th>\n",
              "      <td>13252.0</td>\n",
              "      <td>9412.0</td>\n",
              "      <td>3860.0</td>\n",
              "      <td>692.0</td>\n",
              "      <td>114.0</td>\n",
              "      <td>10.0</td>\n",
              "    </tr>\n",
              "    <tr>\n",
              "      <th>Transient-Party</th>\n",
              "      <td>3036.0</td>\n",
              "      <td>1056.0</td>\n",
              "      <td>447.0</td>\n",
              "      <td>116.0</td>\n",
              "      <td>19.0</td>\n",
              "      <td>2.0</td>\n",
              "    </tr>\n",
              "  </tbody>\n",
              "</table>\n",
              "</div>\n",
              "      <button class=\"colab-df-convert\" onclick=\"convertToInteractive('df-2ed72a42-1d33-4dbf-98e2-e29b2d4ab096')\"\n",
              "              title=\"Convert this dataframe to an interactive table.\"\n",
              "              style=\"display:none;\">\n",
              "        \n",
              "  <svg xmlns=\"http://www.w3.org/2000/svg\" height=\"24px\"viewBox=\"0 0 24 24\"\n",
              "       width=\"24px\">\n",
              "    <path d=\"M0 0h24v24H0V0z\" fill=\"none\"/>\n",
              "    <path d=\"M18.56 5.44l.94 2.06.94-2.06 2.06-.94-2.06-.94-.94-2.06-.94 2.06-2.06.94zm-11 1L8.5 8.5l.94-2.06 2.06-.94-2.06-.94L8.5 2.5l-.94 2.06-2.06.94zm10 10l.94 2.06.94-2.06 2.06-.94-2.06-.94-.94-2.06-.94 2.06-2.06.94z\"/><path d=\"M17.41 7.96l-1.37-1.37c-.4-.4-.92-.59-1.43-.59-.52 0-1.04.2-1.43.59L10.3 9.45l-7.72 7.72c-.78.78-.78 2.05 0 2.83L4 21.41c.39.39.9.59 1.41.59.51 0 1.02-.2 1.41-.59l7.78-7.78 2.81-2.81c.8-.78.8-2.07 0-2.86zM5.41 20L4 18.59l7.72-7.72 1.47 1.35L5.41 20z\"/>\n",
              "  </svg>\n",
              "      </button>\n",
              "      \n",
              "  <style>\n",
              "    .colab-df-container {\n",
              "      display:flex;\n",
              "      flex-wrap:wrap;\n",
              "      gap: 12px;\n",
              "    }\n",
              "\n",
              "    .colab-df-convert {\n",
              "      background-color: #E8F0FE;\n",
              "      border: none;\n",
              "      border-radius: 50%;\n",
              "      cursor: pointer;\n",
              "      display: none;\n",
              "      fill: #1967D2;\n",
              "      height: 32px;\n",
              "      padding: 0 0 0 0;\n",
              "      width: 32px;\n",
              "    }\n",
              "\n",
              "    .colab-df-convert:hover {\n",
              "      background-color: #E2EBFA;\n",
              "      box-shadow: 0px 1px 2px rgba(60, 64, 67, 0.3), 0px 1px 3px 1px rgba(60, 64, 67, 0.15);\n",
              "      fill: #174EA6;\n",
              "    }\n",
              "\n",
              "    [theme=dark] .colab-df-convert {\n",
              "      background-color: #3B4455;\n",
              "      fill: #D2E3FC;\n",
              "    }\n",
              "\n",
              "    [theme=dark] .colab-df-convert:hover {\n",
              "      background-color: #434B5C;\n",
              "      box-shadow: 0px 1px 3px 1px rgba(0, 0, 0, 0.15);\n",
              "      filter: drop-shadow(0px 1px 2px rgba(0, 0, 0, 0.3));\n",
              "      fill: #FFFFFF;\n",
              "    }\n",
              "  </style>\n",
              "\n",
              "      <script>\n",
              "        const buttonEl =\n",
              "          document.querySelector('#df-2ed72a42-1d33-4dbf-98e2-e29b2d4ab096 button.colab-df-convert');\n",
              "        buttonEl.style.display =\n",
              "          google.colab.kernel.accessAllowed ? 'block' : 'none';\n",
              "\n",
              "        async function convertToInteractive(key) {\n",
              "          const element = document.querySelector('#df-2ed72a42-1d33-4dbf-98e2-e29b2d4ab096');\n",
              "          const dataTable =\n",
              "            await google.colab.kernel.invokeFunction('convertToInteractive',\n",
              "                                                     [key], {});\n",
              "          if (!dataTable) return;\n",
              "\n",
              "          const docLinkHtml = 'Like what you see? Visit the ' +\n",
              "            '<a target=\"_blank\" href=https://colab.research.google.com/notebooks/data_table.ipynb>data table notebook</a>'\n",
              "            + ' to learn more about interactive tables.';\n",
              "          element.innerHTML = '';\n",
              "          dataTable['output_type'] = 'display_data';\n",
              "          await google.colab.output.renderOutput(dataTable, element);\n",
              "          const docLink = document.createElement('div');\n",
              "          docLink.innerHTML = docLinkHtml;\n",
              "          element.appendChild(docLink);\n",
              "        }\n",
              "      </script>\n",
              "    </div>\n",
              "  </div>\n",
              "  "
            ]
          },
          "metadata": {},
          "execution_count": 290
        }
      ]
    },
    {
      "cell_type": "code",
      "source": [
        "# Chart - 17 visualization code\n",
        "df_special_requests.plot(kind = 'bar')\n",
        "plt.title('special requests by customer & customer_type')\n",
        "plt.xlabel('customer_type')\n"
      ],
      "metadata": {
        "id": "80igVTQ7bb3x",
        "colab": {
          "base_uri": "https://localhost:8080/",
          "height": 507
        },
        "outputId": "1d01f6bf-4670-4222-cbb3-c698c1e466da"
      },
      "execution_count": 291,
      "outputs": [
        {
          "output_type": "execute_result",
          "data": {
            "text/plain": [
              "Text(0.5, 0, 'customer_type')"
            ]
          },
          "metadata": {},
          "execution_count": 291
        },
        {
          "output_type": "display_data",
          "data": {
            "text/plain": [
              "<Figure size 360x360 with 1 Axes>"
            ],
            "image/png": "[encoded data removed]"
          },
          "metadata": {
            "needs_background": "light"
          }
        }
      ]
    },
    {
      "cell_type": "markdown",
      "source": [
        "**Findings**"
      ],
      "metadata": {
        "id": "Z1saj9TJGYff"
      }
    },
    {
      "cell_type": "markdown",
      "source": [
        "From above bar plot chart we observed that in 'City Hotel' with 'Transient type' of customer has highest no of special requests."
      ],
      "metadata": {
        "id": "6DkNIy1oGjYF"
      }
    },
    {
      "cell_type": "markdown",
      "source": [
        "##**18.How long do people stay at the hotels?**"
      ],
      "metadata": {
        "id": "JUAFwC-7Ymx_"
      }
    },
    {
      "cell_type": "code",
      "source": [
        "df_hotel_bookings['total_nights'] = df_hotel_bookings['stays_in_weekend_nights'] + df_hotel_bookings['stays_in_week_nights']\n",
        "df_hotel_bookings.head()"
      ],
      "metadata": {
        "id": "9JWfQIEzYmMQ",
        "colab": {
          "base_uri": "https://localhost:8080/",
          "height": 386
        },
        "outputId": "29364f9c-cc5f-4936-95fd-9d5c17ed7e0c"
      },
      "execution_count": 292,
      "outputs": [
        {
          "output_type": "execute_result",
          "data": {
            "text/plain": [
              "          hotel  is_canceled  lead_time  arrival_date_year arrival_date_month  \\\n",
              "0  Resort Hotel            0        342               2015               July   \n",
              "1  Resort Hotel            0        737               2015               July   \n",
              "2  Resort Hotel            0          7               2015               July   \n",
              "3  Resort Hotel            0         13               2015               July   \n",
              "4  Resort Hotel            0         14               2015               July   \n",
              "\n",
              "   arrival_date_week_number  arrival_date_day_of_month  \\\n",
              "0                        27                          1   \n",
              "1                        27                          1   \n",
              "2                        27                          1   \n",
              "3                        27                          1   \n",
              "4                        27                          1   \n",
              "\n",
              "   stays_in_weekend_nights  stays_in_week_nights  adults  ...  agent  company  \\\n",
              "0                        0                     0       2  ...      0        0   \n",
              "1                        0                     0       2  ...      0        0   \n",
              "2                        0                     1       1  ...      0        0   \n",
              "3                        0                     1       1  ...    304        0   \n",
              "4                        0                     2       2  ...    240        0   \n",
              "\n",
              "  days_in_waiting_list customer_type   adr required_car_parking_spaces  \\\n",
              "0                    0     Transient   0.0                           0   \n",
              "1                    0     Transient   0.0                           0   \n",
              "2                    0     Transient  75.0                           0   \n",
              "3                    0     Transient  75.0                           0   \n",
              "4                    0     Transient  98.0                           0   \n",
              "\n",
              "   total_of_special_requests  reservation_status  reservation_status_date  \\\n",
              "0                          0           Check-Out               2015-07-01   \n",
              "1                          0           Check-Out               2015-07-01   \n",
              "2                          0           Check-Out               2015-07-02   \n",
              "3                          0           Check-Out               2015-07-02   \n",
              "4                          1           Check-Out               2015-07-03   \n",
              "\n",
              "  total_nights  \n",
              "0            0  \n",
              "1            0  \n",
              "2            1  \n",
              "3            1  \n",
              "4            2  \n",
              "\n",
              "[5 rows x 33 columns]"
            ],
            "text/html": [
              "\n",
              "  <div id=\"df-67e4e334-452b-4911-8a3a-9bf728dfc9f5\">\n",
              "    <div class=\"colab-df-container\">\n",
              "      <div>\n",
              "<style scoped>\n",
              "    .dataframe tbody tr th:only-of-type {\n",
              "        vertical-align: middle;\n",
              "    }\n",
              "\n",
              "    .dataframe tbody tr th {\n",
              "        vertical-align: top;\n",
              "    }\n",
              "\n",
              "    .dataframe thead th {\n",
              "        text-align: right;\n",
              "    }\n",
              "</style>\n",
              "<table border=\"1\" class=\"dataframe\">\n",
              "  <thead>\n",
              "    <tr style=\"text-align: right;\">\n",
              "      <th></th>\n",
              "      <th>hotel</th>\n",
              "      <th>is_canceled</th>\n",
              "      <th>lead_time</th>\n",
              "      <th>arrival_date_year</th>\n",
              "      <th>arrival_date_month</th>\n",
              "      <th>arrival_date_week_number</th>\n",
              "      <th>arrival_date_day_of_month</th>\n",
              "      <th>stays_in_weekend_nights</th>\n",
              "      <th>stays_in_week_nights</th>\n",
              "      <th>adults</th>\n",
              "      <th>...</th>\n",
              "      <th>agent</th>\n",
              "      <th>company</th>\n",
              "      <th>days_in_waiting_list</th>\n",
              "      <th>customer_type</th>\n",
              "      <th>adr</th>\n",
              "      <th>required_car_parking_spaces</th>\n",
              "      <th>total_of_special_requests</th>\n",
              "      <th>reservation_status</th>\n",
              "      <th>reservation_status_date</th>\n",
              "      <th>total_nights</th>\n",
              "    </tr>\n",
              "  </thead>\n",
              "  <tbody>\n",
              "    <tr>\n",
              "      <th>0</th>\n",
              "      <td>Resort Hotel</td>\n",
              "      <td>0</td>\n",
              "      <td>342</td>\n",
              "      <td>2015</td>\n",
              "      <td>July</td>\n",
              "      <td>27</td>\n",
              "      <td>1</td>\n",
              "      <td>0</td>\n",
              "      <td>0</td>\n",
              "      <td>2</td>\n",
              "      <td>...</td>\n",
              "      <td>0</td>\n",
              "      <td>0</td>\n",
              "      <td>0</td>\n",
              "      <td>Transient</td>\n",
              "      <td>0.0</td>\n",
              "      <td>0</td>\n",
              "      <td>0</td>\n",
              "      <td>Check-Out</td>\n",
              "      <td>2015-07-01</td>\n",
              "      <td>0</td>\n",
              "    </tr>\n",
              "    <tr>\n",
              "      <th>1</th>\n",
              "      <td>Resort Hotel</td>\n",
              "      <td>0</td>\n",
              "      <td>737</td>\n",
              "      <td>2015</td>\n",
              "      <td>July</td>\n",
              "      <td>27</td>\n",
              "      <td>1</td>\n",
              "      <td>0</td>\n",
              "      <td>0</td>\n",
              "      <td>2</td>\n",
              "      <td>...</td>\n",
              "      <td>0</td>\n",
              "      <td>0</td>\n",
              "      <td>0</td>\n",
              "      <td>Transient</td>\n",
              "      <td>0.0</td>\n",
              "      <td>0</td>\n",
              "      <td>0</td>\n",
              "      <td>Check-Out</td>\n",
              "      <td>2015-07-01</td>\n",
              "      <td>0</td>\n",
              "    </tr>\n",
              "    <tr>\n",
              "      <th>2</th>\n",
              "      <td>Resort Hotel</td>\n",
              "      <td>0</td>\n",
              "      <td>7</td>\n",
              "      <td>2015</td>\n",
              "      <td>July</td>\n",
              "      <td>27</td>\n",
              "      <td>1</td>\n",
              "      <td>0</td>\n",
              "      <td>1</td>\n",
              "      <td>1</td>\n",
              "      <td>...</td>\n",
              "      <td>0</td>\n",
              "      <td>0</td>\n",
              "      <td>0</td>\n",
              "      <td>Transient</td>\n",
              "      <td>75.0</td>\n",
              "      <td>0</td>\n",
              "      <td>0</td>\n",
              "      <td>Check-Out</td>\n",
              "      <td>2015-07-02</td>\n",
              "      <td>1</td>\n",
              "    </tr>\n",
              "    <tr>\n",
              "      <th>3</th>\n",
              "      <td>Resort Hotel</td>\n",
              "      <td>0</td>\n",
              "      <td>13</td>\n",
              "      <td>2015</td>\n",
              "      <td>July</td>\n",
              "      <td>27</td>\n",
              "      <td>1</td>\n",
              "      <td>0</td>\n",
              "      <td>1</td>\n",
              "      <td>1</td>\n",
              "      <td>...</td>\n",
              "      <td>304</td>\n",
              "      <td>0</td>\n",
              "      <td>0</td>\n",
              "      <td>Transient</td>\n",
              "      <td>75.0</td>\n",
              "      <td>0</td>\n",
              "      <td>0</td>\n",
              "      <td>Check-Out</td>\n",
              "      <td>2015-07-02</td>\n",
              "      <td>1</td>\n",
              "    </tr>\n",
              "    <tr>\n",
              "      <th>4</th>\n",
              "      <td>Resort Hotel</td>\n",
              "      <td>0</td>\n",
              "      <td>14</td>\n",
              "      <td>2015</td>\n",
              "      <td>July</td>\n",
              "      <td>27</td>\n",
              "      <td>1</td>\n",
              "      <td>0</td>\n",
              "      <td>2</td>\n",
              "      <td>2</td>\n",
              "      <td>...</td>\n",
              "      <td>240</td>\n",
              "      <td>0</td>\n",
              "      <td>0</td>\n",
              "      <td>Transient</td>\n",
              "      <td>98.0</td>\n",
              "      <td>0</td>\n",
              "      <td>1</td>\n",
              "      <td>Check-Out</td>\n",
              "      <td>2015-07-03</td>\n",
              "      <td>2</td>\n",
              "    </tr>\n",
              "  </tbody>\n",
              "</table>\n",
              "<p>5 rows × 33 columns</p>\n",
              "</div>\n",
              "      <button class=\"colab-df-convert\" onclick=\"convertToInteractive('df-67e4e334-452b-4911-8a3a-9bf728dfc9f5')\"\n",
              "              title=\"Convert this dataframe to an interactive table.\"\n",
              "              style=\"display:none;\">\n",
              "        \n",
              "  <svg xmlns=\"http://www.w3.org/2000/svg\" height=\"24px\"viewBox=\"0 0 24 24\"\n",
              "       width=\"24px\">\n",
              "    <path d=\"M0 0h24v24H0V0z\" fill=\"none\"/>\n",
              "    <path d=\"M18.56 5.44l.94 2.06.94-2.06 2.06-.94-2.06-.94-.94-2.06-.94 2.06-2.06.94zm-11 1L8.5 8.5l.94-2.06 2.06-.94-2.06-.94L8.5 2.5l-.94 2.06-2.06.94zm10 10l.94 2.06.94-2.06 2.06-.94-2.06-.94-.94-2.06-.94 2.06-2.06.94z\"/><path d=\"M17.41 7.96l-1.37-1.37c-.4-.4-.92-.59-1.43-.59-.52 0-1.04.2-1.43.59L10.3 9.45l-7.72 7.72c-.78.78-.78 2.05 0 2.83L4 21.41c.39.39.9.59 1.41.59.51 0 1.02-.2 1.41-.59l7.78-7.78 2.81-2.81c.8-.78.8-2.07 0-2.86zM5.41 20L4 18.59l7.72-7.72 1.47 1.35L5.41 20z\"/>\n",
              "  </svg>\n",
              "      </button>\n",
              "      \n",
              "  <style>\n",
              "    .colab-df-container {\n",
              "      display:flex;\n",
              "      flex-wrap:wrap;\n",
              "      gap: 12px;\n",
              "    }\n",
              "\n",
              "    .colab-df-convert {\n",
              "      background-color: #E8F0FE;\n",
              "      border: none;\n",
              "      border-radius: 50%;\n",
              "      cursor: pointer;\n",
              "      display: none;\n",
              "      fill: #1967D2;\n",
              "      height: 32px;\n",
              "      padding: 0 0 0 0;\n",
              "      width: 32px;\n",
              "    }\n",
              "\n",
              "    .colab-df-convert:hover {\n",
              "      background-color: #E2EBFA;\n",
              "      box-shadow: 0px 1px 2px rgba(60, 64, 67, 0.3), 0px 1px 3px 1px rgba(60, 64, 67, 0.15);\n",
              "      fill: #174EA6;\n",
              "    }\n",
              "\n",
              "    [theme=dark] .colab-df-convert {\n",
              "      background-color: #3B4455;\n",
              "      fill: #D2E3FC;\n",
              "    }\n",
              "\n",
              "    [theme=dark] .colab-df-convert:hover {\n",
              "      background-color: #434B5C;\n",
              "      box-shadow: 0px 1px 3px 1px rgba(0, 0, 0, 0.15);\n",
              "      filter: drop-shadow(0px 1px 2px rgba(0, 0, 0, 0.3));\n",
              "      fill: #FFFFFF;\n",
              "    }\n",
              "  </style>\n",
              "\n",
              "      <script>\n",
              "        const buttonEl =\n",
              "          document.querySelector('#df-67e4e334-452b-4911-8a3a-9bf728dfc9f5 button.colab-df-convert');\n",
              "        buttonEl.style.display =\n",
              "          google.colab.kernel.accessAllowed ? 'block' : 'none';\n",
              "\n",
              "        async function convertToInteractive(key) {\n",
              "          const element = document.querySelector('#df-67e4e334-452b-4911-8a3a-9bf728dfc9f5');\n",
              "          const dataTable =\n",
              "            await google.colab.kernel.invokeFunction('convertToInteractive',\n",
              "                                                     [key], {});\n",
              "          if (!dataTable) return;\n",
              "\n",
              "          const docLinkHtml = 'Like what you see? Visit the ' +\n",
              "            '<a target=\"_blank\" href=https://colab.research.google.com/notebooks/data_table.ipynb>data table notebook</a>'\n",
              "            + ' to learn more about interactive tables.';\n",
              "          element.innerHTML = '';\n",
              "          dataTable['output_type'] = 'display_data';\n",
              "          await google.colab.output.renderOutput(dataTable, element);\n",
              "          const docLink = document.createElement('div');\n",
              "          docLink.innerHTML = docLinkHtml;\n",
              "          element.appendChild(docLink);\n",
              "        }\n",
              "      </script>\n",
              "    </div>\n",
              "  </div>\n",
              "  "
            ]
          },
          "metadata": {},
          "execution_count": 292
        }
      ]
    },
    {
      "cell_type": "code",
      "source": [
        "df_stay = df_hotel_bookings.groupby(['total_nights', 'hotel']).agg('count').reset_index()\n",
        "df_stay = df_stay.iloc[:, :3]\n",
        "df_stay = df_stay.rename(columns={'is_canceled':'Number of stays'})\n",
        "df_stay"
      ],
      "metadata": {
        "id": "KpY4ZePPbUJI",
        "colab": {
          "base_uri": "https://localhost:8080/",
          "height": 424
        },
        "outputId": "5dc84700-77ee-4c4f-fc5c-4582751b85b8"
      },
      "execution_count": 293,
      "outputs": [
        {
          "output_type": "execute_result",
          "data": {
            "text/plain": [
              "    total_nights         hotel  Number of stays\n",
              "0              0    City Hotel              231\n",
              "1              0  Resort Hotel              360\n",
              "2              1    City Hotel            10270\n",
              "3              1  Resort Hotel             6899\n",
              "4              2    City Hotel            10813\n",
              "..           ...           ...              ...\n",
              "68            46  Resort Hotel                1\n",
              "69            48    City Hotel                1\n",
              "70            56  Resort Hotel                2\n",
              "71            60  Resort Hotel                1\n",
              "72            69  Resort Hotel                1\n",
              "\n",
              "[73 rows x 3 columns]"
            ],
            "text/html": [
              "\n",
              "  <div id=\"df-901746e0-924e-4aa2-b873-546e27d60915\">\n",
              "    <div class=\"colab-df-container\">\n",
              "      <div>\n",
              "<style scoped>\n",
              "    .dataframe tbody tr th:only-of-type {\n",
              "        vertical-align: middle;\n",
              "    }\n",
              "\n",
              "    .dataframe tbody tr th {\n",
              "        vertical-align: top;\n",
              "    }\n",
              "\n",
              "    .dataframe thead th {\n",
              "        text-align: right;\n",
              "    }\n",
              "</style>\n",
              "<table border=\"1\" class=\"dataframe\">\n",
              "  <thead>\n",
              "    <tr style=\"text-align: right;\">\n",
              "      <th></th>\n",
              "      <th>total_nights</th>\n",
              "      <th>hotel</th>\n",
              "      <th>Number of stays</th>\n",
              "    </tr>\n",
              "  </thead>\n",
              "  <tbody>\n",
              "    <tr>\n",
              "      <th>0</th>\n",
              "      <td>0</td>\n",
              "      <td>City Hotel</td>\n",
              "      <td>231</td>\n",
              "    </tr>\n",
              "    <tr>\n",
              "      <th>1</th>\n",
              "      <td>0</td>\n",
              "      <td>Resort Hotel</td>\n",
              "      <td>360</td>\n",
              "    </tr>\n",
              "    <tr>\n",
              "      <th>2</th>\n",
              "      <td>1</td>\n",
              "      <td>City Hotel</td>\n",
              "      <td>10270</td>\n",
              "    </tr>\n",
              "    <tr>\n",
              "      <th>3</th>\n",
              "      <td>1</td>\n",
              "      <td>Resort Hotel</td>\n",
              "      <td>6899</td>\n",
              "    </tr>\n",
              "    <tr>\n",
              "      <th>4</th>\n",
              "      <td>2</td>\n",
              "      <td>City Hotel</td>\n",
              "      <td>10813</td>\n",
              "    </tr>\n",
              "    <tr>\n",
              "      <th>...</th>\n",
              "      <td>...</td>\n",
              "      <td>...</td>\n",
              "      <td>...</td>\n",
              "    </tr>\n",
              "    <tr>\n",
              "      <th>68</th>\n",
              "      <td>46</td>\n",
              "      <td>Resort Hotel</td>\n",
              "      <td>1</td>\n",
              "    </tr>\n",
              "    <tr>\n",
              "      <th>69</th>\n",
              "      <td>48</td>\n",
              "      <td>City Hotel</td>\n",
              "      <td>1</td>\n",
              "    </tr>\n",
              "    <tr>\n",
              "      <th>70</th>\n",
              "      <td>56</td>\n",
              "      <td>Resort Hotel</td>\n",
              "      <td>2</td>\n",
              "    </tr>\n",
              "    <tr>\n",
              "      <th>71</th>\n",
              "      <td>60</td>\n",
              "      <td>Resort Hotel</td>\n",
              "      <td>1</td>\n",
              "    </tr>\n",
              "    <tr>\n",
              "      <th>72</th>\n",
              "      <td>69</td>\n",
              "      <td>Resort Hotel</td>\n",
              "      <td>1</td>\n",
              "    </tr>\n",
              "  </tbody>\n",
              "</table>\n",
              "<p>73 rows × 3 columns</p>\n",
              "</div>\n",
              "      <button class=\"colab-df-convert\" onclick=\"convertToInteractive('df-901746e0-924e-4aa2-b873-546e27d60915')\"\n",
              "              title=\"Convert this dataframe to an interactive table.\"\n",
              "              style=\"display:none;\">\n",
              "        \n",
              "  <svg xmlns=\"http://www.w3.org/2000/svg\" height=\"24px\"viewBox=\"0 0 24 24\"\n",
              "       width=\"24px\">\n",
              "    <path d=\"M0 0h24v24H0V0z\" fill=\"none\"/>\n",
              "    <path d=\"M18.56 5.44l.94 2.06.94-2.06 2.06-.94-2.06-.94-.94-2.06-.94 2.06-2.06.94zm-11 1L8.5 8.5l.94-2.06 2.06-.94-2.06-.94L8.5 2.5l-.94 2.06-2.06.94zm10 10l.94 2.06.94-2.06 2.06-.94-2.06-.94-.94-2.06-.94 2.06-2.06.94z\"/><path d=\"M17.41 7.96l-1.37-1.37c-.4-.4-.92-.59-1.43-.59-.52 0-1.04.2-1.43.59L10.3 9.45l-7.72 7.72c-.78.78-.78 2.05 0 2.83L4 21.41c.39.39.9.59 1.41.59.51 0 1.02-.2 1.41-.59l7.78-7.78 2.81-2.81c.8-.78.8-2.07 0-2.86zM5.41 20L4 18.59l7.72-7.72 1.47 1.35L5.41 20z\"/>\n",
              "  </svg>\n",
              "      </button>\n",
              "      \n",
              "  <style>\n",
              "    .colab-df-container {\n",
              "      display:flex;\n",
              "      flex-wrap:wrap;\n",
              "      gap: 12px;\n",
              "    }\n",
              "\n",
              "    .colab-df-convert {\n",
              "      background-color: #E8F0FE;\n",
              "      border: none;\n",
              "      border-radius: 50%;\n",
              "      cursor: pointer;\n",
              "      display: none;\n",
              "      fill: #1967D2;\n",
              "      height: 32px;\n",
              "      padding: 0 0 0 0;\n",
              "      width: 32px;\n",
              "    }\n",
              "\n",
              "    .colab-df-convert:hover {\n",
              "      background-color: #E2EBFA;\n",
              "      box-shadow: 0px 1px 2px rgba(60, 64, 67, 0.3), 0px 1px 3px 1px rgba(60, 64, 67, 0.15);\n",
              "      fill: #174EA6;\n",
              "    }\n",
              "\n",
              "    [theme=dark] .colab-df-convert {\n",
              "      background-color: #3B4455;\n",
              "      fill: #D2E3FC;\n",
              "    }\n",
              "\n",
              "    [theme=dark] .colab-df-convert:hover {\n",
              "      background-color: #434B5C;\n",
              "      box-shadow: 0px 1px 3px 1px rgba(0, 0, 0, 0.15);\n",
              "      filter: drop-shadow(0px 1px 2px rgba(0, 0, 0, 0.3));\n",
              "      fill: #FFFFFF;\n",
              "    }\n",
              "  </style>\n",
              "\n",
              "      <script>\n",
              "        const buttonEl =\n",
              "          document.querySelector('#df-901746e0-924e-4aa2-b873-546e27d60915 button.colab-df-convert');\n",
              "        buttonEl.style.display =\n",
              "          google.colab.kernel.accessAllowed ? 'block' : 'none';\n",
              "\n",
              "        async function convertToInteractive(key) {\n",
              "          const element = document.querySelector('#df-901746e0-924e-4aa2-b873-546e27d60915');\n",
              "          const dataTable =\n",
              "            await google.colab.kernel.invokeFunction('convertToInteractive',\n",
              "                                                     [key], {});\n",
              "          if (!dataTable) return;\n",
              "\n",
              "          const docLinkHtml = 'Like what you see? Visit the ' +\n",
              "            '<a target=\"_blank\" href=https://colab.research.google.com/notebooks/data_table.ipynb>data table notebook</a>'\n",
              "            + ' to learn more about interactive tables.';\n",
              "          element.innerHTML = '';\n",
              "          dataTable['output_type'] = 'display_data';\n",
              "          await google.colab.output.renderOutput(dataTable, element);\n",
              "          const docLink = document.createElement('div');\n",
              "          docLink.innerHTML = docLinkHtml;\n",
              "          element.appendChild(docLink);\n",
              "        }\n",
              "      </script>\n",
              "    </div>\n",
              "  </div>\n",
              "  "
            ]
          },
          "metadata": {},
          "execution_count": 293
        }
      ]
    },
    {
      "cell_type": "code",
      "source": [
        "# Chart - 18 visualization code\n",
        "plt.figure(figsize = (12,7))\n",
        "sns.barplot(x = 'total_nights', y = 'Number of stays', hue='hotel',data= df_stay)\n",
        "plt.title('Optimal Stay Length in Both hotel types')\n",
        "plt.ylabel('count of stays')\n",
        "plt.xlabel('total_stay(days)')"
      ],
      "metadata": {
        "id": "D80U11ICb6C1",
        "colab": {
          "base_uri": "https://localhost:8080/",
          "height": 476
        },
        "outputId": "6b09572e-1883-44d8-fdb3-6d518f515926"
      },
      "execution_count": 294,
      "outputs": [
        {
          "output_type": "execute_result",
          "data": {
            "text/plain": [
              "Text(0.5, 0, 'total_stay(days)')"
            ]
          },
          "metadata": {},
          "execution_count": 294
        },
        {
          "output_type": "display_data",
          "data": {
            "text/plain": [
              "<Figure size 864x504 with 1 Axes>"
            ],
            "image/png": "[encoded data removed]"
          },
          "metadata": {
            "needs_background": "light"
          }
        }
      ]
    },
    {
      "cell_type": "markdown",
      "source": [
        "**Findings**"
      ],
      "metadata": {
        "id": "RMcz1ckKfaw_"
      }
    },
    {
      "cell_type": "markdown",
      "source": [
        "We observed that the optimal stay in both types of hotels is less than 7 days."
      ],
      "metadata": {
        "id": "OeFZpz6mfcZT"
      }
    },
    {
      "cell_type": "markdown",
      "source": [
        "\n",
        "##**19. Requirement of parking spaces.**"
      ],
      "metadata": {
        "id": "3XW19nigHyfM"
      }
    },
    {
      "cell_type": "code",
      "source": [
        "# Chart - 19 visualization code\n",
        "plt.figure(figsize = (10,6))\n",
        "sns.countplot(x='required_car_parking_spaces', hue='hotel', data=df_hotel_bookings)\n",
        "plt.xlabel(\"No. of Car Parking Space Req.\")\n",
        "plt.legend(loc=1)\n",
        "plt.title(\"Car Parking Spaces Demand\")"
      ],
      "metadata": {
        "id": "Rjs2EkvdHu5t",
        "colab": {
          "base_uri": "https://localhost:8080/",
          "height": 421
        },
        "outputId": "33447f75-d597-402e-ada3-ca6c3db0b450"
      },
      "execution_count": 295,
      "outputs": [
        {
          "output_type": "execute_result",
          "data": {
            "text/plain": [
              "Text(0.5, 1.0, 'Car Parking Spaces Demand')"
            ]
          },
          "metadata": {},
          "execution_count": 295
        },
        {
          "output_type": "display_data",
          "data": {
            "text/plain": [
              "<Figure size 720x432 with 1 Axes>"
            ],
            "image/png": "[encoded data removed]"
          },
          "metadata": {
            "needs_background": "light"
          }
        }
      ]
    },
    {
      "cell_type": "markdown",
      "source": [
        "**Findings**"
      ],
      "metadata": {
        "id": "RShMRaZM659O"
      }
    },
    {
      "cell_type": "markdown",
      "source": [
        "We observed that the 'City Hotel' and 'Resort Hotel' maximum guests required zero space.Very less guests in both type of hotel required one space for car parking."
      ],
      "metadata": {
        "id": "byin-qhZghT1"
      }
    },
    {
      "cell_type": "markdown",
      "source": [
        "##**Correlation Of Heatmap**\n"
      ],
      "metadata": {
        "id": "BXVmQsWUbjhR"
      }
    },
    {
      "cell_type": "code",
      "source": [
        "# Chart - 20 visualization code\n",
        "plt.figure(figsize=(12, 8))\n",
        "sns.heatmap(df_hotel_bookings  .corr(), annot=True)\n",
        "plt.title('Co-relation of columns')"
      ],
      "metadata": {
        "id": "SN25dBrXbwpp",
        "colab": {
          "base_uri": "https://localhost:8080/",
          "height": 670
        },
        "outputId": "b7740c80-3738-4b47-8c86-925304681253"
      },
      "execution_count": 296,
      "outputs": [
        {
          "output_type": "execute_result",
          "data": {
            "text/plain": [
              "Text(0.5, 1.0, 'Co-relation of columns')"
            ]
          },
          "metadata": {},
          "execution_count": 296
        },
        {
          "output_type": "display_data",
          "data": {
            "text/plain": [
              "<Figure size 864x576 with 2 Axes>"
            ],
            "image/png": "[encoded data removed]"
          },
          "metadata": {
            "needs_background": "light"
          }
        }
      ]
    },
    {
      "cell_type": "markdown",
      "source": [
        "**Findings**"
      ],
      "metadata": {
        "id": "JAGzTNut8aLx"
      }
    },
    {
      "cell_type": "markdown",
      "source": [
        "We observed that:\n",
        "\n",
        "\n",
        "*   'is_canceled' and 'total_nights' are corelated to each other.If the customer does stay on nights in hotels, therwe is no cancelation of bookings.\n",
        "\n",
        "*   'lead_time' and 'total_of_special_requests' are also corelated to each other.As more we provide more special requests the the period of time taken by customer is more that is lead time.\n",
        "\n",
        "\n",
        "\n",
        "*   'adr' and 'is_repeated guests' are also corelated to each other.More numberof repeated guests the more are average daily rate. \n",
        "\n",
        "\n",
        "\n",
        "\n",
        "\n",
        "\n"
      ],
      "metadata": {
        "id": "E-3lj3bb8YkI"
      }
    },
    {
      "cell_type": "markdown",
      "source": [
        "## **Solution to Business Objective**"
      ],
      "metadata": {
        "id": "JcMwzZxoAimU"
      }
    },
    {
      "cell_type": "markdown",
      "source": [
        "\n",
        "\n",
        "\n",
        "*   Create a Loyalty Program:Loyalty programs are one of the best ways to increase repeat guests. Offering loyalty points and rewards, such as discounts and free upgrades, will encourage customers to return to your hotel.\n",
        "*   Provide Excellent Customer Service: Providing excellent customer service is essential to creating loyal customers. Make sure your staff is friendly, helpful, and attentive to customer needs.\n",
        "\n",
        "*  Ask for Feedback:Ask customers for feedback on their stay and address any issues they may have. This will show customers that you value their opinion and are willing to make changes based on their feedback.\n",
        "*  Promote the unique benefits of resort hotels:Resort hotels often have amenities and features that city hotels don't, like outdoor activities, spas, and on-site restaurants. Promote these unique benefits to potential guests to highlight the advantages of staying at a resort hotel.\n",
        "*   Utilize Social Media:Utilizing social media is a great way to get more bookings in hotels during the monsoon, winter, autumn seasons. You can create engaging posts and even run special promotions and contests to draw attention to your hotel.\n",
        "\n",
        "\n",
        "\n",
        "\n",
        "\n"
      ],
      "metadata": {
        "id": "8G2x9gOozGDZ"
      }
    },
    {
      "cell_type": "markdown",
      "source": [
        "# **Conclusion**"
      ],
      "metadata": {
        "id": "gCX9965dhzqZ"
      }
    },
    {
      "cell_type": "markdown",
      "source": [
        "1.  City hotels are 60% bookings that is most preferred hotel type by the guests\n",
        "2.  City hotel has more lead time as compared to resort hotel.\n",
        "3.   'Online TA' has most no bookings and cancellations in market segment.\n",
        "4.   'City Hotel' has highest no of cancellations as compared to resort hotel.\n",
        "5.   Most no of bookings are in year 2016 and lowest bookings are in year 2015. \n",
        "6.    City Hotels has longer waiting period than the Resort Hotels.Therefore that City Hotels are much busier than the Resort Hotels.\n",
        "7.  27.5% of the bookings were cancelled.\n",
        "8.   Only 3.9 % people were revisited the hotels. Rest 96.1 % were new guests. Thus retention rate is low.\n",
        "9.   98.7 % of guests prefer \"No Deposit\" type of deposit.\n",
        "10.   BB( Bed & Breakfast) is the most preferred type of meal by the guests.\n",
        "11.  Most guests prefer to stay in the room type\"A\".\n",
        "12.   July and August months had the most no Bookings in hotel.\n",
        "13.  79.1 % bookings were made through TA/TO (travel agents/Tour operators).\n",
        "14.   \"TA/TO\" City hotels has the high cancellation rate compared to resort hotels and in \"Direct\" both the hotels has almost same cancellation rate.\n",
        "15.   ADR for city hotel is high as compared to resort hotels. These City hotels are generating more revenue than the resort hotels. \n",
        "16.  Maximum number of guests were from Portugal country.\n",
        "17.  'Direct' and 'Online TA' contribute the most in both types of hotels.\n",
        "18.   'City Hotel' with 'Transient type' of customer has highest no of special requests.\n",
        "19.  The optimal stay in both types of hotels is less than 7 days.\n",
        "20.   The 'City Hotel' and 'Resort Hotel' maximum guests required zero space.Very less guests in both type of hotel required one space for car parking.\n",
        "\n",
        "\n",
        "\n",
        "\n",
        "\n",
        "\n",
        "\n",
        "\n",
        "\n",
        "\n",
        "\n",
        "\n",
        "\n",
        "\n",
        "\n",
        "\n"
      ],
      "metadata": {
        "id": "Fjb1IsQkh3yE"
      }
    }
  ]
}